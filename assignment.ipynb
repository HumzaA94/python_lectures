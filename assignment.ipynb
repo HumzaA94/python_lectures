{
 "cells": [
  {
   "cell_type": "code",
   "execution_count": 8,
   "id": "f533bcb6",
   "metadata": {
    "ExecuteTime": {
     "end_time": "2022-11-11T00:20:47.085826Z",
     "start_time": "2022-11-11T00:20:47.074554Z"
    }
   },
   "outputs": [],
   "source": [
    "a = 20.23532523423"
   ]
  },
  {
   "cell_type": "code",
   "execution_count": 18,
   "id": "e7c2be3e",
   "metadata": {
    "ExecuteTime": {
     "end_time": "2022-11-11T00:22:23.201967Z",
     "start_time": "2022-11-11T00:22:23.195942Z"
    }
   },
   "outputs": [
    {
     "data": {
      "text/plain": [
       "\"The answered provided is '20.24'.\""
      ]
     },
     "execution_count": 18,
     "metadata": {},
     "output_type": "execute_result"
    }
   ],
   "source": [
    "f\"The answered provided is '{a:.2f}'.\""
   ]
  },
  {
   "cell_type": "code",
   "execution_count": 7,
   "id": "b22215b2",
   "metadata": {
    "ExecuteTime": {
     "end_time": "2022-11-11T00:20:22.426178Z",
     "start_time": "2022-11-11T00:20:22.419209Z"
    }
   },
   "outputs": [
    {
     "data": {
      "text/plain": [
       "\"The answered provided is 'aaa'.\""
      ]
     },
     "execution_count": 7,
     "metadata": {},
     "output_type": "execute_result"
    }
   ],
   "source": [
    "f\"The answered provided is '\" + a + \"'.\""
   ]
  },
  {
   "cell_type": "code",
   "execution_count": 22,
   "id": "4276c03b",
   "metadata": {
    "ExecuteTime": {
     "end_time": "2022-11-11T00:27:33.645303Z",
     "start_time": "2022-11-11T00:27:33.601499Z"
    }
   },
   "outputs": [
    {
     "ename": "IndexError",
     "evalue": "tuple index out of range",
     "output_type": "error",
     "traceback": [
      "\u001b[0;31m---------------------------------------------------------------------------\u001b[0m",
      "\u001b[0;31mIndexError\u001b[0m                                Traceback (most recent call last)",
      "\u001b[0;32m/var/folders/4s/hrv735dn21v03p8hht2v514w0000gn/T/ipykernel_14400/3863487881.py\u001b[0m in \u001b[0;36m<module>\u001b[0;34m\u001b[0m\n\u001b[0;32m----> 1\u001b[0;31m \u001b[0;34m\"The answered {} provided is {}' {}\"\u001b[0m\u001b[0;34m.\u001b[0m\u001b[0mformat\u001b[0m\u001b[0;34m(\u001b[0m\u001b[0ma\u001b[0m\u001b[0;34m,\u001b[0m\u001b[0;34m\"a\"\u001b[0m\u001b[0;34m)\u001b[0m\u001b[0;34m\u001b[0m\u001b[0;34m\u001b[0m\u001b[0m\n\u001b[0m",
      "\u001b[0;31mIndexError\u001b[0m: tuple index out of range"
     ]
    }
   ],
   "source": [
    "\"The answered {} provided is {}' {}\".format(a,\"a\")"
   ]
  },
  {
   "cell_type": "code",
   "execution_count": null,
   "id": "dbd75046",
   "metadata": {},
   "outputs": [],
   "source": []
  }
 ],
 "metadata": {
  "hide_input": false,
  "kernelspec": {
   "display_name": "Python 3 (ipykernel)",
   "language": "python",
   "name": "python3"
  },
  "language_info": {
   "codemirror_mode": {
    "name": "ipython",
    "version": 3
   },
   "file_extension": ".py",
   "mimetype": "text/x-python",
   "name": "python",
   "nbconvert_exporter": "python",
   "pygments_lexer": "ipython3",
   "version": "3.7.9"
  },
  "toc": {
   "base_numbering": 1,
   "nav_menu": {},
   "number_sections": true,
   "sideBar": true,
   "skip_h1_title": false,
   "title_cell": "Table of Contents",
   "title_sidebar": "Contents",
   "toc_cell": false,
   "toc_position": {},
   "toc_section_display": true,
   "toc_window_display": false
  },
  "varInspector": {
   "cols": {
    "lenName": 16,
    "lenType": 16,
    "lenVar": 40
   },
   "kernels_config": {
    "python": {
     "delete_cmd_postfix": "",
     "delete_cmd_prefix": "del ",
     "library": "var_list.py",
     "varRefreshCmd": "print(var_dic_list())"
    },
    "r": {
     "delete_cmd_postfix": ") ",
     "delete_cmd_prefix": "rm(",
     "library": "var_list.r",
     "varRefreshCmd": "cat(var_dic_list()) "
    }
   },
   "types_to_exclude": [
    "module",
    "function",
    "builtin_function_or_method",
    "instance",
    "_Feature"
   ],
   "window_display": false
  }
 },
 "nbformat": 4,
 "nbformat_minor": 5
}
