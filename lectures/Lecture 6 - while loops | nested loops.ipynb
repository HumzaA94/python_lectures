{
 "cells": [
  {
   "cell_type": "markdown",
   "id": "2a1a07a4",
   "metadata": {},
   "source": [
    "## while loops\n",
    "\n",
    "An iterative loop: as long as the condition is met, you will never break out."
   ]
  },
  {
   "cell_type": "code",
   "execution_count": 9,
   "id": "f97a4fcc",
   "metadata": {
    "scrolled": true
   },
   "outputs": [
    {
     "name": "stdout",
     "output_type": "stream",
     "text": [
      "1\n",
      "2\n",
      "3\n",
      "4\n",
      "5\n",
      "6\n",
      "7\n",
      "8\n",
      "9\n",
      "10\n",
      "11\n",
      "12\n",
      "13\n",
      "14\n",
      "15\n",
      "16\n",
      "17\n",
      "18\n",
      "19\n",
      "20\n",
      "21\n",
      "22\n",
      "23\n",
      "24\n",
      "25\n",
      "26\n",
      "27\n",
      "28\n",
      "29\n",
      "30\n",
      "31\n",
      "32\n",
      "33\n",
      "34\n",
      "35\n",
      "36\n",
      "37\n",
      "38\n",
      "39\n",
      "40\n",
      "41\n",
      "42\n",
      "43\n",
      "44\n",
      "45\n",
      "46\n",
      "47\n",
      "48\n",
      "49\n",
      "50\n",
      "51\n",
      "52\n",
      "53\n",
      "54\n",
      "55\n",
      "56\n",
      "57\n",
      "58\n",
      "59\n",
      "60\n",
      "61\n",
      "62\n",
      "63\n",
      "64\n",
      "65\n",
      "66\n",
      "67\n",
      "68\n",
      "69\n",
      "70\n",
      "71\n",
      "72\n",
      "73\n",
      "74\n",
      "75\n",
      "76\n",
      "77\n",
      "78\n",
      "79\n",
      "80\n",
      "81\n",
      "82\n",
      "83\n",
      "84\n",
      "85\n",
      "86\n",
      "87\n",
      "88\n",
      "89\n",
      "90\n",
      "91\n",
      "92\n",
      "93\n",
      "94\n",
      "95\n",
      "96\n",
      "97\n",
      "98\n",
      "99\n",
      "100\n",
      "99\n",
      "98\n",
      "97\n",
      "96\n",
      "95\n",
      "94\n",
      "93\n",
      "92\n",
      "91\n",
      "90\n",
      "89\n",
      "88\n",
      "87\n",
      "86\n",
      "85\n",
      "84\n",
      "83\n",
      "82\n",
      "81\n",
      "80\n",
      "79\n",
      "78\n",
      "77\n",
      "76\n",
      "75\n",
      "74\n",
      "73\n",
      "72\n",
      "71\n",
      "70\n",
      "69\n",
      "68\n",
      "67\n",
      "66\n",
      "65\n",
      "64\n",
      "63\n",
      "62\n",
      "61\n",
      "60\n",
      "59\n",
      "58\n",
      "57\n",
      "56\n",
      "55\n",
      "54\n",
      "53\n",
      "52\n",
      "51\n",
      "50\n",
      "49\n",
      "48\n",
      "47\n",
      "46\n",
      "45\n",
      "44\n",
      "43\n",
      "42\n",
      "41\n",
      "40\n",
      "39\n",
      "38\n",
      "37\n",
      "36\n",
      "35\n",
      "34\n",
      "33\n",
      "32\n",
      "31\n",
      "30\n",
      "29\n",
      "28\n",
      "27\n",
      "26\n",
      "25\n",
      "24\n",
      "23\n",
      "22\n",
      "21\n",
      "20\n",
      "19\n",
      "18\n",
      "17\n",
      "16\n",
      "15\n",
      "14\n",
      "13\n",
      "12\n",
      "11\n",
      "10\n",
      "9\n",
      "8\n",
      "7\n",
      "6\n",
      "5\n",
      "4\n",
      "3\n",
      "2\n",
      "1\n",
      "0\n"
     ]
    }
   ],
   "source": [
    "i = 0\n",
    "count = 0\n",
    "while(i==0):\n",
    "    count=count+1\n",
    "    print(count)\n",
    "    if count == 100:\n",
    "        break\n",
    "        \n",
    "        \n",
    "i = 0\n",
    "while(i==0):\n",
    "    count-=1\n",
    "    print(count)\n",
    "    if count == 0:\n",
    "        i = 1"
   ]
  },
  {
   "cell_type": "markdown",
   "id": "b4695ea9",
   "metadata": {},
   "source": [
    "**exercise**\n",
    "\n",
    "Create a function that will ask a prompt for the user to input a value between 0 to 10, and ask until they have inserted a correct value."
   ]
  },
  {
   "cell_type": "code",
   "execution_count": 21,
   "id": "342faf98",
   "metadata": {},
   "outputs": [],
   "source": [
    "def user_prompt_value_input():\n",
    "    correct_value = False\n",
    "    while (correct_value==False):\n",
    "        user_input = input(\"Please enter a value between 0-10: \")\n",
    "        try:\n",
    "            user_input = int(user_input)\n",
    "        except ValueError as exc:\n",
    "            print(\"Please don't enter an alphabet, only numbers\")\n",
    "            print(f\"Error information: {exc}\")\n",
    "            continue\n",
    "\n",
    "        if 0 <= user_input <=10:\n",
    "            print(\"valid user input\")\n",
    "            correct_value = True\n",
    "        else:\n",
    "            print(\"invalid user input, please enter something between 0-10\")"
   ]
  },
  {
   "cell_type": "code",
   "execution_count": 22,
   "id": "252c7b37",
   "metadata": {},
   "outputs": [
    {
     "name": "stdout",
     "output_type": "stream",
     "text": [
      "Please enter a value between 0-10: a\n",
      "Please don't enter an alphabet, only numbers\n",
      "Error information: invalid literal for int() with base 10: 'a'\n",
      "Please enter a value between 0-10: 4\n",
      "valid user input\n"
     ]
    }
   ],
   "source": [
    "user_prompt_value_input()"
   ]
  },
  {
   "cell_type": "markdown",
   "id": "c3d7ed57",
   "metadata": {},
   "source": [
    "**nested loops**\n",
    "\n",
    "The concept of nested loops is as simple as an iterative loop being contained within another iterative loop."
   ]
  },
  {
   "cell_type": "code",
   "execution_count": 28,
   "id": "0bea7664",
   "metadata": {
    "collapsed": true
   },
   "outputs": [
    {
     "name": "stdout",
     "output_type": "stream",
     "text": [
      "a: 0\n",
      "b: 14\n",
      "c: 51\n",
      "c: 52\n",
      "c: 53\n",
      "c: 54\n",
      "\n",
      "b: 15\n",
      "c: 51\n",
      "c: 52\n",
      "c: 53\n",
      "c: 54\n",
      "\n",
      "a: 1\n",
      "b: 14\n",
      "c: 51\n",
      "c: 52\n",
      "c: 53\n",
      "c: 54\n",
      "\n",
      "b: 15\n",
      "c: 51\n",
      "c: 52\n",
      "c: 53\n",
      "c: 54\n",
      "\n",
      "a: 2\n",
      "b: 14\n",
      "c: 51\n",
      "c: 52\n",
      "c: 53\n",
      "c: 54\n",
      "\n",
      "b: 15\n",
      "c: 51\n",
      "c: 52\n",
      "c: 53\n",
      "c: 54\n",
      "\n"
     ]
    }
   ],
   "source": [
    "for a in range(0,3):\n",
    "    print(f\"a: {a}\")\n",
    "    \n",
    "    for b in range(14,16):\n",
    "        print(f\"b: {b}\")\n",
    "        \n",
    "        for c in range(51,55):\n",
    "            print(f\"c: {c}\")\n",
    "        \n",
    "        print(\"\")"
   ]
  },
  {
   "cell_type": "markdown",
   "id": "5357ce65",
   "metadata": {},
   "source": [
    "How to check if values from one list is in the the other list?"
   ]
  },
  {
   "cell_type": "code",
   "execution_count": 42,
   "id": "25a01c73",
   "metadata": {},
   "outputs": [],
   "source": [
    "list_a = ['a', 'b', 'c', 'd', 'e','s']\n",
    "list_b = ['2asd','aa', '34', 'd', 'a','s']"
   ]
  },
  {
   "cell_type": "code",
   "execution_count": 44,
   "id": "589cd5a9",
   "metadata": {
    "scrolled": true
   },
   "outputs": [
    {
     "name": "stdout",
     "output_type": "stream",
     "text": [
      "a\n",
      "2asd\n",
      "a\n",
      "aa\n",
      "a\n",
      "34\n",
      "a\n",
      "d\n",
      "a\n",
      "a\n",
      "a\n",
      "s\n",
      "b\n",
      "2asd\n",
      "b\n",
      "aa\n",
      "b\n",
      "34\n",
      "b\n",
      "d\n",
      "b\n",
      "a\n",
      "b\n",
      "s\n",
      "c\n",
      "2asd\n",
      "c\n",
      "aa\n",
      "c\n",
      "34\n",
      "c\n",
      "d\n",
      "c\n",
      "a\n",
      "c\n",
      "s\n",
      "d\n",
      "2asd\n",
      "d\n",
      "aa\n",
      "d\n",
      "34\n",
      "d\n",
      "d\n",
      "d\n",
      "a\n",
      "d\n",
      "s\n",
      "e\n",
      "2asd\n",
      "e\n",
      "aa\n",
      "e\n",
      "34\n",
      "e\n",
      "d\n",
      "e\n",
      "a\n",
      "e\n",
      "s\n",
      "s\n",
      "2asd\n",
      "s\n",
      "aa\n",
      "s\n",
      "34\n",
      "s\n",
      "d\n",
      "s\n",
      "a\n",
      "s\n",
      "s\n"
     ]
    }
   ],
   "source": [
    "match_list = []\n",
    "contains_var_list = []\n",
    "for var_1 in list_a:\n",
    "    for var_2 in list_b:\n",
    "        print(var_1)\n",
    "        print(var_2)\n",
    "        if var_1 == var_2:\n",
    "            match_list.append(var_1)\n",
    "            \n",
    "        if var_1 in var_2:\n",
    "            contains_var_list.append(var_2)"
   ]
  },
  {
   "cell_type": "markdown",
   "id": "dbe42db8",
   "metadata": {},
   "source": [
    "**list comprehension**\n",
    "\n",
    "https://www.w3schools.com/python/python_lists_comprehension.asp\n",
    "\n",
    "List comprehension offers a shorter syntax when you want to create a new list based on the values of an existing list"
   ]
  },
  {
   "cell_type": "code",
   "execution_count": 53,
   "id": "a6e9df07",
   "metadata": {},
   "outputs": [
    {
     "name": "stdout",
     "output_type": "stream",
     "text": [
      "['apple', 'banana', 'mango']\n"
     ]
    },
    {
     "data": {
      "text/plain": [
       "['apple', 'banana', 'mango']"
      ]
     },
     "execution_count": 53,
     "metadata": {},
     "output_type": "execute_result"
    }
   ],
   "source": [
    "fruits = [\"apple\", \"banana\", \"cherry\", \"kiwi\", \"mango\"]\n",
    "newlist = []\n",
    "\n",
    "# one way and the most basic way\n",
    "for x in fruits:\n",
    "    if \"a\" in x:\n",
    "        # a bunch of manipulation\n",
    "        newlist.append(x)\n",
    "\n",
    "print(newlist)\n",
    "# second way and the better way when it is simple\n",
    "newlist2 = [x for x in fruits if \"a\" in x]\n",
    "\n",
    "newlist2"
   ]
  },
  {
   "cell_type": "code",
   "execution_count": 59,
   "id": "971a51b5",
   "metadata": {},
   "outputs": [
    {
     "name": "stdout",
     "output_type": "stream",
     "text": [
      "[True, True, False, False, True]\n"
     ]
    },
    {
     "data": {
      "text/plain": [
       "[True, True, False, False, True]"
      ]
     },
     "execution_count": 59,
     "metadata": {},
     "output_type": "execute_result"
    }
   ],
   "source": [
    "newlist = []\n",
    "\n",
    "for x in fruits:\n",
    "    if \"a\" in x:\n",
    "        # a bunch of manipulation\n",
    "        newlist.append(True)\n",
    "    else:\n",
    "        newlist.append(False)\n",
    "        \n",
    "print(newlist)\n",
    "\n",
    "newlist2 = [True if \"a\" in x else False for x in fruits]\n",
    "newlist2"
   ]
  },
  {
   "cell_type": "markdown",
   "id": "b553ea4a",
   "metadata": {},
   "source": [
    "**dict comprehension**\n",
    "\n",
    "https://www.datacamp.com/community/tutorials/python-dictionary-comprehension"
   ]
  },
  {
   "cell_type": "code",
   "execution_count": 63,
   "id": "80a2ea46",
   "metadata": {},
   "outputs": [
    {
     "name": "stdout",
     "output_type": "stream",
     "text": [
      "{'apple': True, 'banana': True, 'cherry': False, 'kiwi': False, 'mango': True}\n"
     ]
    },
    {
     "data": {
      "text/plain": [
       "{'apple': True, 'banana': True, 'cherry': False, 'kiwi': False, 'mango': True}"
      ]
     },
     "execution_count": 63,
     "metadata": {},
     "output_type": "execute_result"
    }
   ],
   "source": [
    "dict_ = {}\n",
    "\n",
    "for x in fruits:\n",
    "    if \"a\" in x:\n",
    "        # a bunch of manipulation\n",
    "        dict_[x]=True\n",
    "    else:\n",
    "        dict_[x]=False\n",
    "        \n",
    "print(dict_)\n",
    "\n",
    "dict_2 = {x:(True if \"a\" in x else False) for x in fruits}\n",
    "dict_2"
   ]
  },
  {
   "cell_type": "code",
   "execution_count": 57,
   "id": "fffa868c",
   "metadata": {},
   "outputs": [
    {
     "data": {
      "text/plain": [
       "[True, True, False, False, True]"
      ]
     },
     "execution_count": 57,
     "metadata": {},
     "output_type": "execute_result"
    }
   ],
   "source": [
    "newlist"
   ]
  },
  {
   "cell_type": "code",
   "execution_count": 50,
   "id": "6ecbf755",
   "metadata": {},
   "outputs": [
    {
     "data": {
      "text/plain": [
       "['apple', 'banana', 'mango']"
      ]
     },
     "execution_count": 50,
     "metadata": {},
     "output_type": "execute_result"
    }
   ],
   "source": [
    "newlist2"
   ]
  },
  {
   "cell_type": "code",
   "execution_count": null,
   "id": "45aeff3c",
   "metadata": {},
   "outputs": [],
   "source": []
  }
 ],
 "metadata": {
  "kernelspec": {
   "display_name": "Python 3 (ipykernel)",
   "language": "python",
   "name": "python3"
  },
  "language_info": {
   "codemirror_mode": {
    "name": "ipython",
    "version": 3
   },
   "file_extension": ".py",
   "mimetype": "text/x-python",
   "name": "python",
   "nbconvert_exporter": "python",
   "pygments_lexer": "ipython3",
   "version": "3.7.9"
  }
 },
 "nbformat": 4,
 "nbformat_minor": 5
}
