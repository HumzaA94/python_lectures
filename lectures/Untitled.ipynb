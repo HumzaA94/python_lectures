{
 "cells": [
  {
   "cell_type": "markdown",
   "id": "be0cb489",
   "metadata": {},
   "source": [
    "Exercise change all words \"apple\" to \"kiwi\" from list:\n",
    "- what if we don't know the position\n",
    "- what if we don't know how many are there inside the list"
   ]
  },
  {
   "cell_type": "code",
   "execution_count": 10,
   "id": "b73ad3c1",
   "metadata": {
    "ExecuteTime": {
     "end_time": "2022-08-30T23:09:55.741991Z",
     "start_time": "2022-08-30T23:09:55.734246Z"
    }
   },
   "outputs": [],
   "source": [
    "fruits = [\"apple\", \"banana\", \"cherry\", \"apple\"]\n",
    "\n",
    "for fruit in fruits:\n",
    "    if fruit == \"apple\": \n",
    "        index_position = fruits.index(\"apple\") \n",
    "        fruits[index_position]=\"kiwi\""
   ]
  },
  {
   "cell_type": "code",
   "execution_count": 14,
   "id": "dbc9ba14",
   "metadata": {
    "ExecuteTime": {
     "end_time": "2022-08-30T23:12:47.362747Z",
     "start_time": "2022-08-30T23:12:47.355876Z"
    }
   },
   "outputs": [],
   "source": [
    "if \"a\" in fruits:\n",
    "    fruits.remove(\"a\")"
   ]
  },
  {
   "cell_type": "code",
   "execution_count": 24,
   "id": "fb1e2ef7",
   "metadata": {
    "ExecuteTime": {
     "end_time": "2022-08-30T23:19:30.683279Z",
     "start_time": "2022-08-30T23:19:30.667191Z"
    }
   },
   "outputs": [
    {
     "ename": "ValueError",
     "evalue": "list.remove(x): x not in list",
     "output_type": "error",
     "traceback": [
      "\u001b[0;31m---------------------------------------------------------------------------\u001b[0m",
      "\u001b[0;31mValueError\u001b[0m                                Traceback (most recent call last)",
      "\u001b[0;32m/var/folders/4s/hrv735dn21v03p8hht2v514w0000gn/T/ipykernel_16768/171831993.py\u001b[0m in \u001b[0;36m<module>\u001b[0;34m\u001b[0m\n\u001b[0;32m----> 1\u001b[0;31m \u001b[0mfruits\u001b[0m\u001b[0;34m.\u001b[0m\u001b[0mremove\u001b[0m\u001b[0;34m(\u001b[0m\u001b[0;34m\"a\"\u001b[0m\u001b[0;34m)\u001b[0m\u001b[0;34m\u001b[0m\u001b[0;34m\u001b[0m\u001b[0m\n\u001b[0m",
      "\u001b[0;31mValueError\u001b[0m: list.remove(x): x not in list"
     ]
    }
   ],
   "source": [
    "fruits.remove(\"a\")"
   ]
  },
  {
   "cell_type": "code",
   "execution_count": 29,
   "id": "d19cfdcd",
   "metadata": {
    "ExecuteTime": {
     "end_time": "2022-08-30T23:20:55.000953Z",
     "start_time": "2022-08-30T23:20:54.996452Z"
    }
   },
   "outputs": [],
   "source": [
    "try:\n",
    "    fruits.remove(\"a\")\n",
    "except ValueError as exc:\n",
    "    pass"
   ]
  },
  {
   "cell_type": "markdown",
   "id": "5dd20ddb",
   "metadata": {},
   "source": [
    "suggestion one:\n",
    "- have a for loop , inside the for loop there will be an if statement\n",
    "\n",
    "suggestion two:\n",
    "- use index in some form, with a for loop, recursive function\n",
    "    you will first fetch the first instance, remove it from the list, then go to the next value which will have the updated list\n",
    "   "
   ]
  },
  {
   "cell_type": "code",
   "execution_count": null,
   "id": "249658f5",
   "metadata": {},
   "outputs": [],
   "source": []
  }
 ],
 "metadata": {
  "hide_input": false,
  "kernelspec": {
   "display_name": "Python 3 (ipykernel)",
   "language": "python",
   "name": "python3"
  },
  "language_info": {
   "codemirror_mode": {
    "name": "ipython",
    "version": 3
   },
   "file_extension": ".py",
   "mimetype": "text/x-python",
   "name": "python",
   "nbconvert_exporter": "python",
   "pygments_lexer": "ipython3",
   "version": "3.7.9"
  },
  "toc": {
   "base_numbering": 1,
   "nav_menu": {},
   "number_sections": true,
   "sideBar": true,
   "skip_h1_title": false,
   "title_cell": "Table of Contents",
   "title_sidebar": "Contents",
   "toc_cell": false,
   "toc_position": {},
   "toc_section_display": true,
   "toc_window_display": false
  },
  "varInspector": {
   "cols": {
    "lenName": 16,
    "lenType": 16,
    "lenVar": 40
   },
   "kernels_config": {
    "python": {
     "delete_cmd_postfix": "",
     "delete_cmd_prefix": "del ",
     "library": "var_list.py",
     "varRefreshCmd": "print(var_dic_list())"
    },
    "r": {
     "delete_cmd_postfix": ") ",
     "delete_cmd_prefix": "rm(",
     "library": "var_list.r",
     "varRefreshCmd": "cat(var_dic_list()) "
    }
   },
   "types_to_exclude": [
    "module",
    "function",
    "builtin_function_or_method",
    "instance",
    "_Feature"
   ],
   "window_display": false
  }
 },
 "nbformat": 4,
 "nbformat_minor": 5
}
