{
 "cells": [
  {
   "cell_type": "markdown",
   "metadata": {},
   "source": [
    "**Variables**\n",
    "\n",
    "A reserved memory location to store values. You can think of it as a container and you store content within the container.\n",
    "\n",
    "**Variable Types**\n",
    "\n",
    "The data stored in memory can be of many types. We can store a :\n",
    "* number: an int and float representation of a number stored. e.g. 1 or 1.0\n",
    "* string: a continuous set of characters written within quotes. e.g. 'word'\n",
    "* list: items separated by commas enclosed with a square bracket. eg. ['1', 3, 'one']\n",
    "* set: \n",
    "* dictionary: a key, value pairing closed by curly brackets\n"
   ]
  },
  {
   "cell_type": "code",
   "execution_count": 1,
   "metadata": {
    "ExecuteTime": {
     "end_time": "2021-11-10T00:45:34.338984Z",
     "start_time": "2021-11-10T00:45:34.322063Z"
    }
   },
   "outputs": [],
   "source": [
    "\"\"\" \n",
    "types of variables/data types:\n",
    "ints, bools, strings and floats\n",
    "\n",
    "\"\"\"\n",
    "bool_variable = True\n",
    "int_variable = 1\n",
    "string_variable = 'word'\n",
    "float_variable = 1.0\n"
   ]
  },
  {
   "cell_type": "code",
   "execution_count": 2,
   "metadata": {},
   "outputs": [],
   "source": [
    "\"\"\"\n",
    "types of variables/data types:\n",
    "lists, sets, dictionaries\n",
    "\n",
    "list can contain multiple values that are the same\n",
    "\n",
    "set has a condition that it will only take one of the values -> unique values\n",
    "\"\"\"\n",
    "list_variable = [int_variable, string_variable, float_variable]\n",
    "set_variable = set([1,1])\n",
    "dict_variable = {\"key_1\":\"value_1\",\n",
    "                \"key_2\":\"value_2\",\n",
    "                \"key_3\":list_variable}"
   ]
  },
  {
   "cell_type": "markdown",
   "metadata": {},
   "source": [
    "The whole point of using variables is to make it easier to do certain manipulations with them. In the example below, we are able to see a simple string manipulation occurring:\n",
    "* creating 2 string variables\n",
    "* adding 2 string variables together to create a new string variable"
   ]
  },
  {
   "cell_type": "code",
   "execution_count": 3,
   "metadata": {
    "ExecuteTime": {
     "end_time": "2021-11-12T00:33:31.272551Z",
     "start_time": "2021-11-12T00:33:31.231976Z"
    }
   },
   "outputs": [
    {
     "data": {
      "text/plain": [
       "'This is sentence one. This is sentence two.'"
      ]
     },
     "execution_count": 3,
     "metadata": {},
     "output_type": "execute_result"
    }
   ],
   "source": [
    "string_1 = \"This is sentence one.\"\n",
    "string_2 = \"This is sentence two.\"\n",
    "whole_2_sentences = string_1 + \" \" +string_2\n",
    "whole_2_sentences"
   ]
  },
  {
   "cell_type": "markdown",
   "metadata": {},
   "source": [
    "**Lists Manipulations**\n",
    "\n",
    "One works with lists by performing manipulations. These manipulaitons are either:\n",
    "* creating an initial list\n",
    "* adding to the list\n",
    "* removing from the list\n",
    "* iterating over the list"
   ]
  },
  {
   "cell_type": "code",
   "execution_count": 4,
   "metadata": {
    "ExecuteTime": {
     "end_time": "2021-11-10T01:18:49.817724Z",
     "start_time": "2021-11-10T01:18:49.809515Z"
    }
   },
   "outputs": [
    {
     "name": "stdout",
     "output_type": "stream",
     "text": [
      "[1, 'word', 1.0, '2']\n",
      "[1, 'word', 1.0]\n"
     ]
    }
   ],
   "source": [
    "\"\"\"\n",
    "creating a list with values added at the same time\n",
    "\"\"\"\n",
    "list_variable = [int_variable, string_variable, float_variable]\n",
    "\n",
    "\"\"\"\n",
    "add value to list\n",
    "\"\"\"\n",
    "list_variable.append(\"2\")\n",
    "print(list_variable)\n",
    "\n",
    "\"\"\"\n",
    "removing a value from the list\n",
    "\"\"\"\n",
    "list_variable.remove(\"2\")\n",
    "print(list_variable)"
   ]
  },
  {
   "cell_type": "markdown",
   "metadata": {},
   "source": [
    "**Dictionary Manipulations**\n",
    "\n",
    "One works with dictionaries by performing manipulations. These manipulaitons are either:\n",
    "\n",
    "* creating an initial dictionary\n",
    "* adding to the dictionary\n",
    "* removing from the dictionary\n",
    "* iterating over the dictionary\n",
    "* selecting the value of a key in the dictionary"
   ]
  },
  {
   "cell_type": "code",
   "execution_count": 5,
   "metadata": {
    "ExecuteTime": {
     "end_time": "2021-11-10T01:15:50.144957Z",
     "start_time": "2021-11-10T01:15:50.135359Z"
    },
    "scrolled": true
   },
   "outputs": [
    {
     "name": "stdout",
     "output_type": "stream",
     "text": [
      "July\n",
      "January\n",
      "\n",
      "Before popping: \n",
      "{1: 'January', 2: 'February', 3: 'March', 4: 'April', 5: 'May', 6: 'June', 7: 'July', 8: 'August', 9: 'September', 10: 'October', 11: 'November', 12: 'December', 13: 'January'}\n",
      "\n",
      "After popping/removing:\n",
      "{1: 'January', 2: 'February', 3: 'March', 4: 'April', 5: 'May', 6: 'June', 7: 'July', 8: 'August', 9: 'September', 10: 'October', 11: 'November', 12: 'December'}\n"
     ]
    }
   ],
   "source": [
    "\"\"\"\n",
    "Creating a dict mapping month numbers onto actual months\n",
    "\"\"\"\n",
    "months = {1 : \"January\", \n",
    "          2 : \"February\", \n",
    "          3 : \"March\", \n",
    "          4 : \"April\", \n",
    "          5 : \"May\", \n",
    "          6 : \"June\", \n",
    "          7 : \"July\",\n",
    "          8 : \"August\",\n",
    "          9 : \"September\", \n",
    "          10 : \"October\", \n",
    "          11 : \"November\",\n",
    "          12 : \"December\" }\n",
    "\n",
    "\"\"\"\n",
    "choosing a dictionary value\n",
    "\"\"\"\n",
    "value_of_key_7 = months[7]\n",
    "print(value_of_key_7)\n",
    "\n",
    "\"\"\"\n",
    "adding a key, value to a dictionary\n",
    "\"\"\"\n",
    "months[13] = \"January\"\n",
    "print(months[13])\n",
    "\n",
    "\"\"\"\n",
    "removing a key, value from a dictionary\n",
    "\"\"\"\n",
    "print(\"\\nBefore popping: \")\n",
    "print(months)\n",
    "months.pop(13)\n",
    "print(\"\\nAfter popping/removing:\")\n",
    "print(months)"
   ]
  },
  {
   "cell_type": "markdown",
   "metadata": {},
   "source": [
    "**if Statements**\n",
    "\n",
    "The idea of an if else statement is to create a logic behind your code.\n",
    "\n",
    "You provide a condition for the code to check and if it satisfies the condition then you perform certain code for the satisfied condition.\n",
    "\n",
    "code format:\n",
    "\n",
    "if (code_condition):\n",
    "    code to run for condition"
   ]
  },
  {
   "cell_type": "code",
   "execution_count": 6,
   "metadata": {
    "ExecuteTime": {
     "end_time": "2021-11-10T01:22:57.041689Z",
     "start_time": "2021-11-10T01:22:57.032317Z"
    }
   },
   "outputs": [
    {
     "name": "stdout",
     "output_type": "stream",
     "text": [
      "Enter a value of your choice: 1\n",
      "value is 1 \n",
      "value will now change to 2\n",
      "value is 2\n"
     ]
    }
   ],
   "source": [
    "int_variable = input(\"Enter a value of your choice: \")\n",
    "int_variable = int(int_variable)\n",
    "\n",
    "    \n",
    "if int_variable <1: \n",
    "    print(\"Entered value less than 1\")\n",
    "if int_variable == 1:\n",
    "    print(\"value is 1 \")\n",
    "    print(\"value will now change to 2\")\n",
    "    int_variable = 2\n",
    "if int_variable ==2:\n",
    "    print(\"value is 2\")\n",
    "if int_variable ==3: \n",
    "    print(\"Value is 3\") \n",
    "if int_variable >3: \n",
    "    print(\"Entered value greater than 3\")\n",
    "    "
   ]
  },
  {
   "cell_type": "markdown",
   "metadata": {},
   "source": [
    "**if, elif and else Statements**\n",
    "\n",
    "the `elif` keyword works along with the `if` statement. The way it works is that it checks \"if the previous conditions were not true, then try this condition\".\n",
    "\n",
    "the `else` keyword works with `if` and `elif` statements. That if nothing is true in the previous conditions, to run whatever is mentioned in the `else` statement."
   ]
  },
  {
   "cell_type": "code",
   "execution_count": 7,
   "metadata": {
    "ExecuteTime": {
     "end_time": "2021-11-12T00:43:17.045285Z",
     "start_time": "2021-11-12T00:43:16.999317Z"
    }
   },
   "outputs": [
    {
     "name": "stdout",
     "output_type": "stream",
     "text": [
      "Enter a value of your choice: 1\n",
      "value is 1\n"
     ]
    }
   ],
   "source": [
    "# example with if, elif and else\n",
    "# the relationship between all 3 is that \n",
    "# it is a chain affect. Once one is true,\n",
    "# it will skip over the remaining ones\n",
    "\n",
    "int_variable = input(\"Enter a value of your choice: \")\n",
    "int_variable = int(int_variable)\n",
    "\n",
    "if int_variable == 1: # false\n",
    "    print(\"value is 1\")\n",
    "    int_variable = 2\n",
    "elif int_variable ==2: # false\n",
    "    print(\"value is 2\")\n",
    "elif int_variable > 2 and int_variable <= 6:# false\n",
    "    print(\"value is between 3-6\")  \n",
    "elif int_variable > 6:# false\n",
    "    print(\"value is greater than 6\")\n",
    "else: # do this as the default\n",
    "    print(\"any number less than 1\")"
   ]
  },
  {
   "cell_type": "markdown",
   "metadata": {},
   "source": [
    "**Summary on if, elif and else statements**\n",
    "\n",
    "if statement is by the word itself if something occurs\n",
    "\n",
    "elif statement if the first statement occur try this one\n",
    "\n",
    "else statement if none of the ones above worked, just do these lines of codes"
   ]
  }
 ],
 "metadata": {
  "hide_input": false,
  "kernelspec": {
   "display_name": "Python 3 (ipykernel)",
   "language": "python",
   "name": "python3"
  },
  "language_info": {
   "codemirror_mode": {
    "name": "ipython",
    "version": 3
   },
   "file_extension": ".py",
   "mimetype": "text/x-python",
   "name": "python",
   "nbconvert_exporter": "python",
   "pygments_lexer": "ipython3",
   "version": "3.7.9"
  },
  "toc": {
   "base_numbering": 1,
   "nav_menu": {},
   "number_sections": true,
   "sideBar": true,
   "skip_h1_title": false,
   "title_cell": "Table of Contents",
   "title_sidebar": "Contents",
   "toc_cell": false,
   "toc_position": {},
   "toc_section_display": true,
   "toc_window_display": false
  },
  "varInspector": {
   "cols": {
    "lenName": 16,
    "lenType": 16,
    "lenVar": 40
   },
   "kernels_config": {
    "python": {
     "delete_cmd_postfix": "",
     "delete_cmd_prefix": "del ",
     "library": "var_list.py",
     "varRefreshCmd": "print(var_dic_list())"
    },
    "r": {
     "delete_cmd_postfix": ") ",
     "delete_cmd_prefix": "rm(",
     "library": "var_list.r",
     "varRefreshCmd": "cat(var_dic_list()) "
    }
   },
   "types_to_exclude": [
    "module",
    "function",
    "builtin_function_or_method",
    "instance",
    "_Feature"
   ],
   "window_display": false
  }
 },
 "nbformat": 4,
 "nbformat_minor": 4
}
