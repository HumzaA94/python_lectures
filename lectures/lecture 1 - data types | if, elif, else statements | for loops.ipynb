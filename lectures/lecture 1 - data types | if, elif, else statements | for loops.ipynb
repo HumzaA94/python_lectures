{
 "cells": [
  {
   "cell_type": "markdown",
   "metadata": {},
   "source": [
    "**Variables**\n",
    "\n",
    "A reserved memory location to store values. You can think of it as a container and you store content within the container.\n",
    "\n",
    "**Variable Types**\n",
    "\n",
    "The data stored in memory can be of many types. We can store a :\n",
    "* number: an int and float representation of a number stored. e.g. 1 or 1.0\n",
    "* string: a continuous set of characters written within quotes. e.g. 'word'\n",
    "* list: items separated by commas enclosed with a square bracket. eg. ['1', 3, 'one']\n",
    "* set: \n",
    "* dictionary: a key, value pairing closed by curly brackets\n"
   ]
  },
  {
   "cell_type": "code",
   "execution_count": 2,
   "metadata": {
    "ExecuteTime": {
     "end_time": "2022-08-30T22:30:11.739999Z",
     "start_time": "2022-08-30T22:30:11.735394Z"
    }
   },
   "outputs": [],
   "source": [
    "\"\"\" \n",
    "types of variables/data types:\n",
    "ints, bools, strings and floats\n",
    "\n",
    "\"\"\"\n",
    "bool_variable = True\n",
    "int_variable = 1\n",
    "string_variable = 'word'\n",
    "float_variable = 1.0\n"
   ]
  },
  {
   "cell_type": "code",
   "execution_count": 3,
   "metadata": {
    "ExecuteTime": {
     "end_time": "2022-08-30T22:30:12.267675Z",
     "start_time": "2022-08-30T22:30:12.261595Z"
    }
   },
   "outputs": [],
   "source": [
    "\"\"\"\n",
    "types of variables/data types:\n",
    "lists, sets, dictionaries\n",
    "\n",
    "list can contain multiple values that are the same\n",
    "\n",
    "set has a condition that it will only take one of the values -> unique values\n",
    "\"\"\"\n",
    "list_variable = [int_variable, string_variable, float_variable, \"1\"]\n",
    "set_variable = set([1,1])\n",
    "dict_variable = {\"key_1\":1,\n",
    "                \"key_2\":\"value_2\",\n",
    "                \"key_3\":list_variable,\n",
    "                \"key_4\":{}}"
   ]
  },
  {
   "cell_type": "code",
   "execution_count": null,
   "metadata": {
    "ExecuteTime": {
     "end_time": "2022-08-23T22:25:22.720213Z",
     "start_time": "2022-08-23T22:25:22.707536Z"
    }
   },
   "outputs": [],
   "source": [
    "list_variable[4]"
   ]
  },
  {
   "cell_type": "code",
   "execution_count": 6,
   "metadata": {
    "ExecuteTime": {
     "end_time": "2022-08-30T22:32:50.519700Z",
     "start_time": "2022-08-30T22:32:50.059111Z"
    }
   },
   "outputs": [],
   "source": [
    "import pandas as pd"
   ]
  },
  {
   "cell_type": "code",
   "execution_count": 9,
   "metadata": {
    "ExecuteTime": {
     "end_time": "2022-08-30T22:33:41.095109Z",
     "start_time": "2022-08-30T22:33:40.946292Z"
    }
   },
   "outputs": [],
   "source": [
    "import plotly.express as px"
   ]
  },
  {
   "cell_type": "code",
   "execution_count": null,
   "metadata": {},
   "outputs": [],
   "source": [
    "px.scatter()"
   ]
  },
  {
   "cell_type": "code",
   "execution_count": 8,
   "metadata": {
    "ExecuteTime": {
     "end_time": "2022-08-30T22:33:18.751412Z",
     "start_time": "2022-08-30T22:33:18.732760Z"
    }
   },
   "outputs": [
    {
     "data": {
      "text/plain": [
       "2"
      ]
     },
     "execution_count": 8,
     "metadata": {},
     "output_type": "execute_result"
    }
   ],
   "source": [
    "random.choice([1,2,34,5,6])"
   ]
  },
  {
   "cell_type": "code",
   "execution_count": 5,
   "metadata": {
    "ExecuteTime": {
     "end_time": "2022-08-30T22:31:49.108235Z",
     "start_time": "2022-08-30T22:31:49.096429Z"
    }
   },
   "outputs": [
    {
     "ename": "TypeError",
     "evalue": "insert() takes exactly 2 arguments (1 given)",
     "output_type": "error",
     "traceback": [
      "\u001b[0;31m---------------------------------------------------------------------------\u001b[0m",
      "\u001b[0;31mTypeError\u001b[0m                                 Traceback (most recent call last)",
      "\u001b[0;32m/var/folders/4s/hrv735dn21v03p8hht2v514w0000gn/T/ipykernel_16663/1299145575.py\u001b[0m in \u001b[0;36m<module>\u001b[0;34m\u001b[0m\n\u001b[0;32m----> 1\u001b[0;31m \u001b[0mlist_variable\u001b[0m\u001b[0;34m.\u001b[0m\u001b[0minsert\u001b[0m\u001b[0;34m(\u001b[0m\u001b[0;36m0\u001b[0m\u001b[0;34m)\u001b[0m\u001b[0;34m\u001b[0m\u001b[0;34m\u001b[0m\u001b[0m\n\u001b[0m",
      "\u001b[0;31mTypeError\u001b[0m: insert() takes exactly 2 arguments (1 given)"
     ]
    }
   ],
   "source": [
    "list_variable.insert(0)"
   ]
  },
  {
   "cell_type": "code",
   "execution_count": null,
   "metadata": {
    "ExecuteTime": {
     "end_time": "2022-08-23T22:34:54.675283Z",
     "start_time": "2022-08-23T22:34:54.635505Z"
    }
   },
   "outputs": [],
   "source": [
    "dict_ = {\"first_house\":{\"one\":\"Humza\"},\n",
    "        \"second_house\":{\"one\":\"Adam\", \"two\":\"Jane\"},\n",
    "        \"third_house\":{\"one\": \"john\", \"two\": \"Jack\", 'three':\"Mary\"}}"
   ]
  },
  {
   "cell_type": "code",
   "execution_count": null,
   "metadata": {
    "ExecuteTime": {
     "end_time": "2022-08-19T00:20:42.694353Z",
     "start_time": "2022-08-19T00:20:42.682793Z"
    }
   },
   "outputs": [],
   "source": [
    "for key, value in dict_.items():\n",
    "    message = f\"The house '{key}' has '{len(value)}' people\"\n",
    "print(message)"
   ]
  },
  {
   "cell_type": "code",
   "execution_count": null,
   "metadata": {
    "ExecuteTime": {
     "end_time": "2022-08-19T00:17:41.427628Z",
     "start_time": "2022-08-19T00:17:41.403090Z"
    }
   },
   "outputs": [],
   "source": [
    "if 5 > 2:\n",
    "    print(\"Five is greater than two!\")"
   ]
  },
  {
   "cell_type": "markdown",
   "metadata": {},
   "source": [
    "**Numerical Manipulation**\n",
    "\n",
    "- adding numbers\n",
    "\n",
    "- subtracting numbers\n",
    "\n",
    "- multiplying numbers\n",
    "\n",
    "- dividing numbers\n",
    "\n",
    "\n",
    "https://www.w3schools.com/python/gloss_python_arithmetic_operators.asp\n",
    "\n",
    "https://www.w3schools.com/python/gloss_python_comparison_operators.asp"
   ]
  },
  {
   "cell_type": "code",
   "execution_count": null,
   "metadata": {
    "ExecuteTime": {
     "end_time": "2022-08-23T22:51:43.419258Z",
     "start_time": "2022-08-23T22:51:43.414887Z"
    }
   },
   "outputs": [],
   "source": [
    "if 4!=5:\n",
    "    print('yes')"
   ]
  },
  {
   "cell_type": "code",
   "execution_count": null,
   "metadata": {},
   "outputs": [],
   "source": [
    "# identify if number is even or uneven"
   ]
  },
  {
   "cell_type": "code",
   "execution_count": null,
   "metadata": {
    "ExecuteTime": {
     "end_time": "2022-08-18T23:59:46.202027Z",
     "start_time": "2022-08-18T23:59:46.196837Z"
    }
   },
   "outputs": [],
   "source": [
    "first_house = ['Humza']\n",
    "second_house = [\"adam\", \"jane\"]\n",
    "third_house = [\"john\", \"Jack\", \"Mary\"]"
   ]
  },
  {
   "cell_type": "markdown",
   "metadata": {},
   "source": [
    "**String Manipulation**\n",
    "\n",
    "- extracting a sub string from a string\n",
    "- capitalizing, lower casing, title case\n",
    "\n",
    "https://towardsdatascience.com/working-with-strings-in-python-a-cheat-sheet-e6f462e611f0"
   ]
  },
  {
   "cell_type": "code",
   "execution_count": null,
   "metadata": {
    "ExecuteTime": {
     "end_time": "2022-08-23T23:17:59.036070Z",
     "start_time": "2022-08-23T23:17:59.029069Z"
    }
   },
   "outputs": [],
   "source": [
    "new_string"
   ]
  },
  {
   "cell_type": "markdown",
   "metadata": {},
   "source": [
    "string format\n",
    "\n",
    "string format allows to create a new string variable out of different variables with only needing 2 quotes."
   ]
  },
  {
   "cell_type": "code",
   "execution_count": null,
   "metadata": {},
   "outputs": [],
   "source": []
  },
  {
   "cell_type": "code",
   "execution_count": null,
   "metadata": {
    "ExecuteTime": {
     "end_time": "2022-08-23T23:29:35.662916Z",
     "start_time": "2022-08-23T23:29:35.650227Z"
    }
   },
   "outputs": [],
   "source": [
    "# old way/introduction way of doing it\n",
    "first_string = 'hello'\n",
    "second_string = 'world'\n",
    "new_string = first_string +\" \" +second_string + \" \" + a + \".\"\n",
    "\n",
    "\n",
    "# intermediate way of doing it\n",
    "\"{} {} {}.\".format(first_string, second_string, a)\n",
    "\n",
    "\n",
    "# current, smoothest way of doing it\n",
    "f\"{first_string} {second_string} {a}.\""
   ]
  },
  {
   "cell_type": "code",
   "execution_count": null,
   "metadata": {
    "ExecuteTime": {
     "end_time": "2022-08-23T23:03:43.610624Z",
     "start_time": "2022-08-23T23:03:43.555788Z"
    }
   },
   "outputs": [],
   "source": [
    "\"shot\" == \"shot \""
   ]
  },
  {
   "cell_type": "code",
   "execution_count": null,
   "metadata": {
    "ExecuteTime": {
     "end_time": "2022-08-23T23:09:22.316970Z",
     "start_time": "2022-08-23T23:09:22.308807Z"
    }
   },
   "outputs": [],
   "source": [
    "\"  hello apple  \".strip().replace(\" \", \"_\")\n"
   ]
  },
  {
   "cell_type": "code",
   "execution_count": null,
   "metadata": {
    "ExecuteTime": {
     "end_time": "2022-08-23T23:14:27.660492Z",
     "start_time": "2022-08-23T23:14:27.651660Z"
    }
   },
   "outputs": [],
   "source": [
    "a.upper()"
   ]
  },
  {
   "cell_type": "code",
   "execution_count": null,
   "metadata": {
    "ExecuteTime": {
     "end_time": "2022-08-23T23:14:33.653311Z",
     "start_time": "2022-08-23T23:14:33.647323Z"
    }
   },
   "outputs": [],
   "source": [
    "a.title()"
   ]
  },
  {
   "cell_type": "code",
   "execution_count": null,
   "metadata": {
    "ExecuteTime": {
     "end_time": "2022-08-23T23:07:24.326099Z",
     "start_time": "2022-08-23T23:07:24.319780Z"
    }
   },
   "outputs": [],
   "source": [
    "a.lower()"
   ]
  },
  {
   "cell_type": "code",
   "execution_count": null,
   "metadata": {
    "ExecuteTime": {
     "end_time": "2022-08-23T23:05:51.053041Z",
     "start_time": "2022-08-23T23:05:51.043013Z"
    }
   },
   "outputs": [],
   "source": [
    "\"  hello  apple  \".strip()"
   ]
  },
  {
   "cell_type": "markdown",
   "metadata": {},
   "source": [
    "The whole point of using variables is to make it easier to do certain manipulations with them. In the example below, we are able to see a simple string manipulation occurring:\n",
    "* creating 2 string variables\n",
    "* adding 2 string variables together to create a new string variable"
   ]
  },
  {
   "cell_type": "code",
   "execution_count": null,
   "metadata": {
    "ExecuteTime": {
     "end_time": "2021-11-12T00:33:31.272551Z",
     "start_time": "2021-11-12T00:33:31.231976Z"
    }
   },
   "outputs": [],
   "source": [
    "string_1 = \"This is sentence one.\"\n",
    "string_2 = \"This is sentence two.\"\n",
    "whole_2_sentences = string_1 + \" \" +string_2\n",
    "whole_2_sentences"
   ]
  },
  {
   "cell_type": "markdown",
   "metadata": {},
   "source": [
    "**Lists Manipulations**\n",
    "\n",
    "One works with lists by performing manipulations. These manipulaitons are either:\n",
    "* creating an initial list\n",
    "* adding to the list\n",
    "* removing from the list\n",
    "* iterating over the list"
   ]
  },
  {
   "cell_type": "code",
   "execution_count": null,
   "metadata": {
    "ExecuteTime": {
     "end_time": "2022-08-23T23:37:45.429926Z",
     "start_time": "2022-08-23T23:37:45.420244Z"
    }
   },
   "outputs": [],
   "source": [
    "\"\"\"\n",
    "creating a list with values added at the same time\n",
    "\"\"\"\n",
    "list_variable = [int_variable, string_variable, float_variable]\n",
    "\n",
    "\"\"\"\n",
    "add value to list\n",
    "\"\"\"\n",
    "list_variable.append(\"2\")\n",
    "list_variable.append(6)\n",
    "\n",
    "print(list_variable)\n",
    "\n",
    "\"\"\"\n",
    "removing a value from the list\n",
    "\"\"\"\n",
    "list_variable.remove(\"2\")\n",
    "print(list_variable)"
   ]
  },
  {
   "cell_type": "code",
   "execution_count": null,
   "metadata": {
    "ExecuteTime": {
     "end_time": "2022-08-25T22:40:25.491403Z",
     "start_time": "2022-08-25T22:40:25.475371Z"
    }
   },
   "outputs": [],
   "source": [
    "vals = [f\"aasf{val}\" for val in range(0,100)]\n"
   ]
  },
  {
   "cell_type": "code",
   "execution_count": null,
   "metadata": {
    "ExecuteTime": {
     "end_time": "2022-08-25T22:40:26.310953Z",
     "start_time": "2022-08-25T22:40:26.303696Z"
    }
   },
   "outputs": [],
   "source": [
    "import random\n",
    "\n",
    "random.shuffle(vals)"
   ]
  },
  {
   "cell_type": "code",
   "execution_count": null,
   "metadata": {},
   "outputs": [],
   "source": []
  },
  {
   "cell_type": "code",
   "execution_count": null,
   "metadata": {},
   "outputs": [],
   "source": [
    "substring -> string -> list"
   ]
  },
  {
   "cell_type": "code",
   "execution_count": null,
   "metadata": {
    "ExecuteTime": {
     "end_time": "2022-08-25T22:40:41.950785Z",
     "start_time": "2022-08-25T22:40:41.942403Z"
    }
   },
   "outputs": [],
   "source": [
    "temporary_value = None\n",
    "for value in vals:\n",
    "    print(value)\n",
    "    if \"94\" in value:\n",
    "        temporary_value = value\n",
    "        break\n"
   ]
  },
  {
   "cell_type": "code",
   "execution_count": null,
   "metadata": {},
   "outputs": [],
   "source": [
    "\"NFL\",\"nfl\""
   ]
  },
  {
   "cell_type": "code",
   "execution_count": null,
   "metadata": {
    "ExecuteTime": {
     "end_time": "2022-08-25T23:17:49.244539Z",
     "start_time": "2022-08-25T23:17:49.234337Z"
    }
   },
   "outputs": [],
   "source": [
    "mydict = {83:  80}\n",
    "txt = \n",
    "print(txt.translate(mydict))"
   ]
  },
  {
   "cell_type": "code",
   "execution_count": null,
   "metadata": {
    "ExecuteTime": {
     "end_time": "2022-08-25T23:33:31.527514Z",
     "start_time": "2022-08-25T23:33:31.522022Z"
    }
   },
   "outputs": [],
   "source": [
    "txt= \"hello Sam!\"\n",
    "\n",
    "x=txt.replace(\"S\",\"T\").replace(\"s\", \"t\")\n",
    "\n",
    "print(x)"
   ]
  },
  {
   "cell_type": "code",
   "execution_count": null,
   "metadata": {},
   "outputs": [],
   "source": []
  },
  {
   "cell_type": "code",
   "execution_count": null,
   "metadata": {
    "ExecuteTime": {
     "end_time": "2022-08-25T23:11:14.999523Z",
     "start_time": "2022-08-25T23:11:14.982439Z"
    }
   },
   "outputs": [],
   "source": [
    "fullstring = \" StackAbuse\"\n",
    "substring = \"tack\"\n",
    "\n"
   ]
  },
  {
   "cell_type": "code",
   "execution_count": null,
   "metadata": {
    "ExecuteTime": {
     "end_time": "2022-08-25T23:12:04.275524Z",
     "start_time": "2022-08-25T23:12:04.266480Z"
    }
   },
   "outputs": [],
   "source": [
    "fullstring.find(\"tack\")"
   ]
  },
  {
   "cell_type": "code",
   "execution_count": null,
   "metadata": {
    "ExecuteTime": {
     "end_time": "2022-08-25T22:52:27.340593Z",
     "start_time": "2022-08-25T22:52:27.329469Z"
    }
   },
   "outputs": [],
   "source": [
    "if fullstring.find(substring) != -1:\n",
    "    print(\"Found!\")\n",
    "else:\n",
    "    print(\"Not found!\")"
   ]
  },
  {
   "cell_type": "code",
   "execution_count": null,
   "metadata": {
    "ExecuteTime": {
     "end_time": "2022-08-25T22:52:31.069887Z",
     "start_time": "2022-08-25T22:52:31.060118Z"
    }
   },
   "outputs": [],
   "source": [
    "print(clean_list)"
   ]
  },
  {
   "cell_type": "code",
   "execution_count": null,
   "metadata": {
    "ExecuteTime": {
     "end_time": "2022-08-23T23:47:36.509347Z",
     "start_time": "2022-08-23T23:47:36.495186Z"
    }
   },
   "outputs": [],
   "source": [
    "if any(\"62\" in value for value in val):\n",
    "    print('yes')"
   ]
  },
  {
   "cell_type": "markdown",
   "metadata": {},
   "source": [
    "**Dictionary Manipulations**\n",
    "\n",
    "One works with dictionaries by performing manipulations. These manipulaitons are either:\n",
    "\n",
    "* creating an initial dictionary\n",
    "* adding to the dictionary\n",
    "* removing from the dictionary\n",
    "* iterating over the dictionary\n",
    "* selecting the value of a key in the dictionary"
   ]
  },
  {
   "cell_type": "code",
   "execution_count": 17,
   "metadata": {
    "ExecuteTime": {
     "end_time": "2022-09-02T00:08:08.927710Z",
     "start_time": "2022-09-02T00:08:08.900960Z"
    },
    "scrolled": true
   },
   "outputs": [
    {
     "name": "stdout",
     "output_type": "stream",
     "text": [
      "July\n",
      "\n",
      "Before popping: \n",
      "{1: 'January', 2: 'February', 3: 'March', 4: 'April', 5: 'May', 6: 'June', 7: 'July', 8: 'August', 9: 'September', 10: 'October', 11: 'November', 12: 'December'}\n"
     ]
    },
    {
     "ename": "AttributeError",
     "evalue": "Crashing the code, reason of the error is the following: 'dict' object has no attribute 'rop'",
     "output_type": "error",
     "traceback": [
      "\u001b[0;31m---------------------------------------------------------------------------\u001b[0m",
      "\u001b[0;31mAttributeError\u001b[0m                            Traceback (most recent call last)",
      "\u001b[0;32m/var/folders/4s/hrv735dn21v03p8hht2v514w0000gn/T/ipykernel_16663/95102929.py\u001b[0m in \u001b[0;36m<module>\u001b[0;34m\u001b[0m\n\u001b[1;32m     34\u001b[0m \u001b[0;32mtry\u001b[0m\u001b[0;34m:\u001b[0m\u001b[0;34m\u001b[0m\u001b[0;34m\u001b[0m\u001b[0m\n\u001b[0;32m---> 35\u001b[0;31m     \u001b[0mmonths\u001b[0m\u001b[0;34m.\u001b[0m\u001b[0mrop\u001b[0m\u001b[0;34m(\u001b[0m\u001b[0;36m13\u001b[0m\u001b[0;34m)\u001b[0m\u001b[0;34m\u001b[0m\u001b[0;34m\u001b[0m\u001b[0m\n\u001b[0m\u001b[1;32m     36\u001b[0m     \u001b[0mprint\u001b[0m\u001b[0;34m(\u001b[0m\u001b[0;34m\"\\nAfter popping/removing:\"\u001b[0m\u001b[0;34m)\u001b[0m\u001b[0;34m\u001b[0m\u001b[0;34m\u001b[0m\u001b[0m\n",
      "\u001b[0;31mAttributeError\u001b[0m: 'dict' object has no attribute 'rop'",
      "\nDuring handling of the above exception, another exception occurred:\n",
      "\u001b[0;31mAttributeError\u001b[0m                            Traceback (most recent call last)",
      "\u001b[0;32m/var/folders/4s/hrv735dn21v03p8hht2v514w0000gn/T/ipykernel_16663/95102929.py\u001b[0m in \u001b[0;36m<module>\u001b[0;34m\u001b[0m\n\u001b[1;32m     39\u001b[0m     \u001b[0;32mpass\u001b[0m\u001b[0;34m\u001b[0m\u001b[0;34m\u001b[0m\u001b[0m\n\u001b[1;32m     40\u001b[0m \u001b[0;32mexcept\u001b[0m \u001b[0mAttributeError\u001b[0m \u001b[0;32mas\u001b[0m \u001b[0mexc\u001b[0m\u001b[0;34m:\u001b[0m\u001b[0;34m\u001b[0m\u001b[0;34m\u001b[0m\u001b[0m\n\u001b[0;32m---> 41\u001b[0;31m     \u001b[0;32mraise\u001b[0m \u001b[0mAttributeError\u001b[0m\u001b[0;34m(\u001b[0m\u001b[0;34mf\"Crashing the code, reason of the error is the following: {exc}\"\u001b[0m\u001b[0;34m)\u001b[0m\u001b[0;34m\u001b[0m\u001b[0;34m\u001b[0m\u001b[0m\n\u001b[0m",
      "\u001b[0;31mAttributeError\u001b[0m: Crashing the code, reason of the error is the following: 'dict' object has no attribute 'rop'"
     ]
    }
   ],
   "source": [
    "\"\"\"\n",
    "Creating a dict mapping month numbers onto actual months\n",
    "\"\"\"\n",
    "months = {1 : \"January\", \n",
    "          2 : \"February\", \n",
    "          3 : \"March\", \n",
    "          4 : \"April\", \n",
    "          5 : \"May\", \n",
    "          6 : \"June\", \n",
    "          7 : \"July\",\n",
    "          8 : \"August\",\n",
    "          9 : \"September\", \n",
    "          10 : \"October\", \n",
    "          11 : \"November\",\n",
    "          12 : \"December\" }\n",
    "\n",
    "\"\"\"\n",
    "choosing a dictionary value\n",
    "\"\"\"\n",
    "value_of_key_7 = months[7]\n",
    "print(value_of_key_7)\n",
    "\n",
    "\"\"\"\n",
    "adding a key, value to a dictionary\n",
    "\"\"\"\n",
    "# months[13] = \"January\"\n",
    "# print(months[13])\n",
    "\n",
    "\"\"\"\n",
    "removing a key, value from a dictionary\n",
    "\"\"\"\n",
    "print(\"\\nBefore popping: \")\n",
    "print(months)\n"
   ]
  },
  {
   "cell_type": "markdown",
   "metadata": {},
   "source": [
    "how to validate if something is within the keys, if we are trying to access a key that doesn't exist we lead to an error"
   ]
  },
  {
   "cell_type": "code",
   "execution_count": 28,
   "metadata": {
    "ExecuteTime": {
     "end_time": "2022-09-02T00:19:00.516830Z",
     "start_time": "2022-09-02T00:19:00.506243Z"
    }
   },
   "outputs": [],
   "source": [
    "# one way is using try/except\n",
    "try:\n",
    "    months.pop(13)\n",
    "    print(\"\\nAfter popping/removing:\")\n",
    "    print(months)\n",
    "except KeyError:\n",
    "    pass\n",
    "except AttributeError as exc: # extra lines of code, showing casing a double except capturing\n",
    "    raise AttributeError(f\"Crashing the code, reason of the error is the following: {exc}\")\n",
    "    \n",
    "# second way is checking if value exists in keys before accessing key\n",
    "if 13 in months:\n",
    "    months.pop(13)\n",
    "    \n",
    "    \n",
    "# third way is setting a default value when using pop\n",
    "pop_value = months.pop(13,\"January is the hottest time in Montreal\")"
   ]
  },
  {
   "cell_type": "code",
   "execution_count": 33,
   "metadata": {
    "ExecuteTime": {
     "end_time": "2022-09-02T00:21:20.675047Z",
     "start_time": "2022-09-02T00:21:20.667742Z"
    },
    "code_folding": []
   },
   "outputs": [],
   "source": [
    "# one way is using try/except\n",
    "try:\n",
    "    months[13]\n",
    "    print(\"\\nAfter popping/removing:\")\n",
    "    print(months)\n",
    "except KeyError:\n",
    "    pass\n",
    "except AttributeError as exc: # extra lines of code, showing casing a double except capturing\n",
    "    raise AttributeError(f\"Crashing the code, reason of the error is the following: {exc}\")\n",
    "    \n",
    "# second way is checking if value exists in keys before accessing key\n",
    "if 13 in months:\n",
    "    months[13]\n",
    "    \n",
    "    \n",
    "# third way is setting a default value when using pop\n",
    "get_value = months.get(13,None)"
   ]
  },
  {
   "cell_type": "code",
   "execution_count": 34,
   "metadata": {
    "ExecuteTime": {
     "end_time": "2022-09-02T00:21:20.955262Z",
     "start_time": "2022-09-02T00:21:20.947496Z"
    }
   },
   "outputs": [
    {
     "data": {
      "text/plain": [
       "'January is the hottest time in Montreal'"
      ]
     },
     "execution_count": 34,
     "metadata": {},
     "output_type": "execute_result"
    }
   ],
   "source": [
    "pop_value"
   ]
  },
  {
   "cell_type": "code",
   "execution_count": 31,
   "metadata": {
    "ExecuteTime": {
     "end_time": "2022-09-02T00:19:11.554282Z",
     "start_time": "2022-09-02T00:19:11.548079Z"
    }
   },
   "outputs": [
    {
     "data": {
      "text/plain": [
       "'January is the hottest time in Montreal'"
      ]
     },
     "execution_count": 31,
     "metadata": {},
     "output_type": "execute_result"
    }
   ],
   "source": [
    "get_value"
   ]
  },
  {
   "cell_type": "code",
   "execution_count": 27,
   "metadata": {
    "ExecuteTime": {
     "end_time": "2022-08-25T22:48:59.394359Z",
     "start_time": "2022-08-25T22:48:59.379602Z"
    }
   },
   "outputs": [
    {
     "data": {
      "text/plain": [
       "['shot',\n",
       " 'shots',\n",
       " 'shots',\n",
       " 'shots',\n",
       " 'shots',\n",
       " 'goal',\n",
       " 'goals',\n",
       " 'assists',\n",
       " 'assist']"
      ]
     },
     "execution_count": 27,
     "metadata": {},
     "output_type": "execute_result"
    }
   ],
   "source": [
    "clean_list"
   ]
  },
  {
   "cell_type": "code",
   "execution_count": null,
   "metadata": {
    "ExecuteTime": {
     "end_time": "2022-08-23T23:58:50.518485Z",
     "start_time": "2022-08-23T23:58:50.505934Z"
    }
   },
   "outputs": [],
   "source": [
    "vals[:-1]"
   ]
  },
  {
   "cell_type": "markdown",
   "metadata": {},
   "source": [
    "**if Statements**\n",
    "\n",
    "The idea of an if else statement is to create a logic behind your code.\n",
    "\n",
    "You provide a condition for the code to check and if it satisfies the condition then you perform certain code for the satisfied condition.\n",
    "\n",
    "code format:\n",
    "\n",
    "if (code_condition):\n",
    "    code to run for condition"
   ]
  },
  {
   "cell_type": "code",
   "execution_count": null,
   "metadata": {
    "ExecuteTime": {
     "end_time": "2021-11-10T01:22:57.041689Z",
     "start_time": "2021-11-10T01:22:57.032317Z"
    }
   },
   "outputs": [],
   "source": [
    "int_variable = input(\"Enter a value of your choice: \")\n",
    "int_variable = int(int_variable)\n",
    "\n",
    "    \n",
    "if int_variable <1: \n",
    "    print(\"Entered value less than 1\")\n",
    "if int_variable == 1:\n",
    "    print(\"value is 1 \")\n",
    "    print(\"value will now change to 2\")\n",
    "    int_variable = 2\n",
    "if int_variable ==2:\n",
    "    print(\"value is 2\")\n",
    "if int_variable ==3: \n",
    "    print(\"Value is 3\") \n",
    "if int_variable >3: \n",
    "    print(\"Entered value greater than 3\")\n",
    "    "
   ]
  },
  {
   "cell_type": "markdown",
   "metadata": {},
   "source": [
    "**if, elif and else Statements**\n",
    "\n",
    "the `elif` keyword works along with the `if` statement. The way it works is that it checks \"if the previous conditions were not true, then try this condition\".\n",
    "\n",
    "the `else` keyword works with `if` and `elif` statements. That if nothing is true in the previous conditions, to run whatever is mentioned in the `else` statement."
   ]
  },
  {
   "cell_type": "code",
   "execution_count": null,
   "metadata": {
    "ExecuteTime": {
     "end_time": "2021-11-12T00:43:17.045285Z",
     "start_time": "2021-11-12T00:43:16.999317Z"
    }
   },
   "outputs": [],
   "source": [
    "# example with if, elif and else\n",
    "# the relationship between all 3 is that \n",
    "# it is a chain affect. Once one is true,\n",
    "# it will skip over the remaining ones\n",
    "\n",
    "int_variable = input(\"Enter a value of your choice: \")\n",
    "int_variable = int(int_variable)\n",
    "\n",
    "if int_variable == 1: # false\n",
    "    print(\"value is 1\")\n",
    "    int_variable = 2\n",
    "elif int_variable ==2: # false\n",
    "    print(\"value is 2\")\n",
    "elif int_variable > 2 and int_variable <= 6:# false\n",
    "    print(\"value is between 3-6\")  \n",
    "elif int_variable > 6:# false\n",
    "    print(\"value is greater than 6\")\n",
    "else: # do this as the default\n",
    "    print(\"any number less than 1\")"
   ]
  },
  {
   "cell_type": "markdown",
   "metadata": {},
   "source": [
    "**Summary on if, elif and else statements**\n",
    "\n",
    "if statement is by the word itself if something occurs\n",
    "\n",
    "elif statement if the first statement occur try this one\n",
    "\n",
    "else statement if none of the ones above worked, just do these lines of codes"
   ]
  }
 ],
 "metadata": {
  "hide_input": false,
  "kernelspec": {
   "display_name": "Python 3 (ipykernel)",
   "language": "python",
   "name": "python3"
  },
  "language_info": {
   "codemirror_mode": {
    "name": "ipython",
    "version": 3
   },
   "file_extension": ".py",
   "mimetype": "text/x-python",
   "name": "python",
   "nbconvert_exporter": "python",
   "pygments_lexer": "ipython3",
   "version": "3.7.9"
  },
  "toc": {
   "base_numbering": 1,
   "nav_menu": {},
   "number_sections": true,
   "sideBar": true,
   "skip_h1_title": false,
   "title_cell": "Table of Contents",
   "title_sidebar": "Contents",
   "toc_cell": false,
   "toc_position": {},
   "toc_section_display": true,
   "toc_window_display": false
  },
  "varInspector": {
   "cols": {
    "lenName": 16,
    "lenType": 16,
    "lenVar": 40
   },
   "kernels_config": {
    "python": {
     "delete_cmd_postfix": "",
     "delete_cmd_prefix": "del ",
     "library": "var_list.py",
     "varRefreshCmd": "print(var_dic_list())"
    },
    "r": {
     "delete_cmd_postfix": ") ",
     "delete_cmd_prefix": "rm(",
     "library": "var_list.r",
     "varRefreshCmd": "cat(var_dic_list()) "
    }
   },
   "position": {
    "height": "232.85px",
    "left": "666px",
    "right": "20px",
    "top": "44px",
    "width": "327px"
   },
   "types_to_exclude": [
    "module",
    "function",
    "builtin_function_or_method",
    "instance",
    "_Feature"
   ],
   "window_display": false
  }
 },
 "nbformat": 4,
 "nbformat_minor": 4
}
