{
 "cells": [
  {
   "cell_type": "markdown",
   "id": "90044d5f",
   "metadata": {},
   "source": [
    "https://www.w3resource.com/python-exercises/python-functions-exercises.php"
   ]
  },
  {
   "cell_type": "markdown",
   "id": "da8b5649",
   "metadata": {},
   "source": [
    "2. Write a Python function to sum all the numbers in a list. \n",
    "\n",
    "Sample List : (8, 2, 3, 0, 7)\n",
    "\n",
    "Expected Output : 20"
   ]
  },
  {
   "cell_type": "code",
   "execution_count": 40,
   "id": "42bda920",
   "metadata": {},
   "outputs": [],
   "source": [
    "def _sum(list_):\n",
    "    total = 0\n",
    "    for n in list_:\n",
    "        if isinstance(n,(str, bool))==True:\n",
    "            continue\n",
    "        total += n\n",
    "    return total \n"
   ]
  },
  {
   "cell_type": "markdown",
   "id": "4c0a7e64",
   "metadata": {},
   "source": [
    "3. Write a Python function to multiply all the numbers in a list.\n",
    "\n",
    "Sample List : (8, 2, 3, -1, 7)\n",
    "\n",
    "Expected Output : -336"
   ]
  },
  {
   "cell_type": "code",
   "execution_count": 56,
   "id": "85a5ebcc",
   "metadata": {},
   "outputs": [
    {
     "data": {
      "text/plain": [
       "-336"
      ]
     },
     "execution_count": 56,
     "metadata": {},
     "output_type": "execute_result"
    }
   ],
   "source": [
    "def multiply(list_):\n",
    "    total = 1\n",
    "    for n in list_:\n",
    "        if isinstance(n,(str, bool))==True:\n",
    "            continue\n",
    "        \n",
    "        total *= n\n",
    "    return total \n",
    "\n",
    "multiply((8, 2, 3, -1, 7))"
   ]
  },
  {
   "cell_type": "markdown",
   "id": "d365d963",
   "metadata": {},
   "source": [
    "7. Write a Python function that accepts a string and calculate the number of upper case letters and lower case letters. \n",
    "\n",
    "Sample String : 'The quick Brow Fox'\n",
    "\n",
    "Expected Output :\n",
    "\n",
    "No. of Upper case characters : 3\n",
    "\n",
    "No. of Lower case Characters : 12"
   ]
  },
  {
   "cell_type": "code",
   "execution_count": 92,
   "id": "5c4cdd43",
   "metadata": {},
   "outputs": [],
   "source": [
    "# one way of doing it\n",
    "def count_upper_lower_case_1(string_value):\n",
    "    lower_count = 0\n",
    "    upper_count = 0\n",
    "    len_of_val = len(string_value)\n",
    "    \n",
    "    for n in range(0, len_of_val):\n",
    "        character_n = string_value[n]        \n",
    "        if character_n.isupper()==True:\n",
    "            upper_count += 1\n",
    "            \n",
    "        if character_n.islower()==True:\n",
    "            lower_count += 1\n",
    "    return {\"upper_count\":upper_count, \"lower_count\": lower_count}\n",
    "\n",
    "# second way of doing it\n",
    "def count_upper_lower_case_2(string_value):\n",
    "    import re\n",
    "    upper_count = re.findall(r\"[A-Z]\",string_value)\n",
    "    lower_count = re.findall(r\"[a-z]\",string_value)\n",
    "    integer_count = re.findall(r\"\\d\",string_value)\n",
    "    return {\"upper_count\":len(upper_count), \"lower_count\": len(lower_count), \"integer_count\":len(integer_count)}"
   ]
  },
  {
   "cell_type": "code",
   "execution_count": null,
   "id": "3b6def02",
   "metadata": {},
   "outputs": [],
   "source": []
  }
 ],
 "metadata": {
  "kernelspec": {
   "display_name": "Python 3 (ipykernel)",
   "language": "python",
   "name": "python3"
  },
  "language_info": {
   "codemirror_mode": {
    "name": "ipython",
    "version": 3
   },
   "file_extension": ".py",
   "mimetype": "text/x-python",
   "name": "python",
   "nbconvert_exporter": "python",
   "pygments_lexer": "ipython3",
   "version": "3.7.9"
  }
 },
 "nbformat": 4,
 "nbformat_minor": 5
}
