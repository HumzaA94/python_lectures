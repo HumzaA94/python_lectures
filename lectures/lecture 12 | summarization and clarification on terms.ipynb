{
 "cells": [
  {
   "cell_type": "markdown",
   "id": "622835c1",
   "metadata": {},
   "source": [
    "What is data?\n",
    "\n",
    "What are the different type of form a data type can take?\n",
    "\n",
    "- int\n",
    "- float\n",
    "- bool\n",
    "- string\n",
    "\n",
    "- pandas dataframes -> represent tables\n",
    "- int columns\n",
    "- string columns\n",
    "- bool columns\n",
    "- float columns\n",
    "- mix of different variable columns\n",
    "\n",
    "\n",
    "How is data saved? In what type of format can it come in?\n",
    "- json file -> can be imported as a dictionary, as a string, (as a table)\n",
    "- excel sheet -> pandas read_excel and read it as a dictionary\n",
    "- xml file -> can be imported as a dictionary, as a string, (as a table)\n",
    "- text or .doc file -> string\n",
    "- pdf\n",
    "- pictures"
   ]
  },
  {
   "cell_type": "markdown",
   "id": "edfd2800",
   "metadata": {},
   "source": [
    "data manipulation\n",
    "\n",
    "what are the different things one can do to manipulate a certain type of data?\n",
    "\n",
    "when it comes to integers or floats you will use logical operators\n",
    "+, - , %, *, mod, remainder, < , >, <=, >=\n",
    "\n",
    "strings:\n",
    "adding the values\n",
    "seeing if a word is within the whole string -> is 'test' in 'The word is test'\n",
    "slice the string -> get the first 3 positions of the string -> string_var[:3]\n",
    "use regex\n",
    "use upper, lower, title, strip\n",
    "\n",
    "\n",
    "list:\n",
    "- can add, remove, select content from list\n",
    "- can loop through list for command reasons\n"
   ]
  },
  {
   "cell_type": "markdown",
   "id": "130bf37a",
   "metadata": {},
   "source": [
    "1. string -> return the first 2 and last 2 characters of the string\n",
    "\n",
    "\"dinosaur\" -> \"diur\"\n"
   ]
  },
  {
   "cell_type": "code",
   "execution_count": 64,
   "id": "e61337b0",
   "metadata": {},
   "outputs": [],
   "source": [
    "def character_slicer(string_):\n",
    "    if len(string_.strip())<2:\n",
    "        return \"Empty String\"\n",
    "    first_two = string_[:2]\n",
    "    last_two = string_[-2:]\n",
    "    return first_two+last_two"
   ]
  },
  {
   "cell_type": "code",
   "execution_count": 58,
   "id": "5209821c",
   "metadata": {},
   "outputs": [],
   "source": [
    "string_ = \"r\""
   ]
  },
  {
   "cell_type": "code",
   "execution_count": 60,
   "id": "b0aed042",
   "metadata": {},
   "outputs": [
    {
     "data": {
      "text/plain": [
       "'r'"
      ]
     },
     "execution_count": 60,
     "metadata": {},
     "output_type": "execute_result"
    }
   ],
   "source": [
    "string_[-2:]"
   ]
  },
  {
   "cell_type": "code",
   "execution_count": 66,
   "id": "c4ca021a",
   "metadata": {},
   "outputs": [
    {
     "data": {
      "text/plain": [
       "'Empty String'"
      ]
     },
     "execution_count": 66,
     "metadata": {},
     "output_type": "execute_result"
    }
   ],
   "source": [
    "character_slicer(\"     r \")"
   ]
  },
  {
   "cell_type": "code",
   "execution_count": 48,
   "id": "807fdd8a",
   "metadata": {},
   "outputs": [
    {
     "name": "stdout",
     "output_type": "stream",
     "text": [
      "1\n",
      "4\n",
      "27\n",
      "256\n"
     ]
    }
   ],
   "source": [
    "count = 0\n",
    "for n in [1,2,3,4]:\n",
    "    if n > count:\n",
    "        count = n\n",
    "    if n ==1:\n",
    "        print(n)\n",
    "    if n==2:\n",
    "        print(n**2)\n",
    "        \n",
    "    if n==3:\n",
    "        print(n**3)\n",
    "    if n==4:\n",
    "        print(n**4)"
   ]
  },
  {
   "cell_type": "code",
   "execution_count": 49,
   "id": "8953c9e7",
   "metadata": {},
   "outputs": [
    {
     "data": {
      "text/plain": [
       "4"
      ]
     },
     "execution_count": 49,
     "metadata": {},
     "output_type": "execute_result"
    }
   ],
   "source": [
    "count"
   ]
  },
  {
   "cell_type": "code",
   "execution_count": 44,
   "id": "570754dc",
   "metadata": {},
   "outputs": [
    {
     "data": {
      "text/plain": [
       "'Joe Jackson'"
      ]
     },
     "execution_count": 44,
     "metadata": {},
     "output_type": "execute_result"
    }
   ],
   "source": [
    "\"Joe\" + \" \" +\"Jackson\""
   ]
  },
  {
   "cell_type": "code",
   "execution_count": 42,
   "id": "930fb888",
   "metadata": {},
   "outputs": [],
   "source": [
    "df['fullName'] = df['firstName'] + \" \" +df['lastName']"
   ]
  },
  {
   "cell_type": "code",
   "execution_count": 45,
   "id": "c498939d",
   "metadata": {},
   "outputs": [],
   "source": [
    "def function_name(col_1, col_2):\n",
    "    return col_1 + \" \" + col_2\n",
    "\n",
    "df['fullName'] = df.apply(lambda row: function_name(row['firstName'],\n",
    "                                                   row['lastName']),\n",
    "                         axis=1)"
   ]
  },
  {
   "cell_type": "code",
   "execution_count": 46,
   "id": "b07fbad7",
   "metadata": {},
   "outputs": [
    {
     "data": {
      "text/html": [
       "<div>\n",
       "<style scoped>\n",
       "    .dataframe tbody tr th:only-of-type {\n",
       "        vertical-align: middle;\n",
       "    }\n",
       "\n",
       "    .dataframe tbody tr th {\n",
       "        vertical-align: top;\n",
       "    }\n",
       "\n",
       "    .dataframe thead th {\n",
       "        text-align: right;\n",
       "    }\n",
       "</style>\n",
       "<table border=\"1\" class=\"dataframe\">\n",
       "  <thead>\n",
       "    <tr style=\"text-align: right;\">\n",
       "      <th></th>\n",
       "      <th>firstName</th>\n",
       "      <th>lastName</th>\n",
       "      <th>gender</th>\n",
       "      <th>age</th>\n",
       "      <th>address</th>\n",
       "      <th>phoneNumbers</th>\n",
       "      <th>fullName</th>\n",
       "    </tr>\n",
       "  </thead>\n",
       "  <tbody>\n",
       "    <tr>\n",
       "      <th>0</th>\n",
       "      <td>Joe</td>\n",
       "      <td>Jackson</td>\n",
       "      <td>male</td>\n",
       "      <td>28</td>\n",
       "      <td>{'streetAddress': '101', 'city': 'San Diego', ...</td>\n",
       "      <td>{'type': 'home', 'number': '7349282382'}</td>\n",
       "      <td>Joe Jackson</td>\n",
       "    </tr>\n",
       "    <tr>\n",
       "      <th>1</th>\n",
       "      <td>David</td>\n",
       "      <td>Test</td>\n",
       "      <td>male</td>\n",
       "      <td>30</td>\n",
       "      <td>North</td>\n",
       "      <td>Test</td>\n",
       "      <td>David Test</td>\n",
       "    </tr>\n",
       "  </tbody>\n",
       "</table>\n",
       "</div>"
      ],
      "text/plain": [
       "  firstName lastName gender  age  \\\n",
       "0       Joe  Jackson   male   28   \n",
       "1     David     Test   male   30   \n",
       "\n",
       "                                             address  \\\n",
       "0  {'streetAddress': '101', 'city': 'San Diego', ...   \n",
       "1                                              North   \n",
       "\n",
       "                               phoneNumbers     fullName  \n",
       "0  {'type': 'home', 'number': '7349282382'}  Joe Jackson  \n",
       "1                                      Test   David Test  "
      ]
     },
     "execution_count": 46,
     "metadata": {},
     "output_type": "execute_result"
    }
   ],
   "source": [
    "df"
   ]
  },
  {
   "cell_type": "code",
   "execution_count": 38,
   "id": "c502ce13",
   "metadata": {},
   "outputs": [
    {
     "name": "stdout",
     "output_type": "stream",
     "text": [
      "true\n"
     ]
    }
   ],
   "source": [
    "if \" Test \".strip().lower() ==\" test\".strip().lower():\n",
    "    print(\"true\")"
   ]
  },
  {
   "cell_type": "code",
   "execution_count": null,
   "id": "b0b66f79",
   "metadata": {},
   "outputs": [],
   "source": []
  }
 ],
 "metadata": {
  "kernelspec": {
   "display_name": "Python 3 (ipykernel)",
   "language": "python",
   "name": "python3"
  },
  "language_info": {
   "codemirror_mode": {
    "name": "ipython",
    "version": 3
   },
   "file_extension": ".py",
   "mimetype": "text/x-python",
   "name": "python",
   "nbconvert_exporter": "python",
   "pygments_lexer": "ipython3",
   "version": "3.7.9"
  }
 },
 "nbformat": 4,
 "nbformat_minor": 5
}
