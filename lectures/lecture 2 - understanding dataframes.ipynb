{
 "cells": [
  {
   "cell_type": "code",
   "execution_count": null,
   "id": "a0a3186d",
   "metadata": {},
   "outputs": [],
   "source": [
    "# provides an alternate way to modifying lists, \n",
    "# by creating an array format\n",
    "import numpy as np \n",
    "\n",
    "# observing data/table format in a dataframe objet for\n",
    "# for data manipulation practices\n",
    "import pandas as pd\n",
    "\n",
    "# importing a specific function from the time module\n",
    "# used for executing a time stoppage of your choice\n",
    "from time import sleep \n",
    "\n",
    "# module used for randomizing choice with a givin list\n",
    "import random \n",
    "\n",
    "# used for dealing anything with a date/datetime\n",
    "import datetime "
   ]
  },
  {
   "cell_type": "code",
   "execution_count": 1,
   "id": "b4ce8309",
   "metadata": {},
   "outputs": [],
   "source": [
    "path = \"/Users/humzaahmed/Desktop/coding_content/python_lectures/data/\"\n",
    "file_name = f\"{path}player_stats_by_game.csv\"\n",
    "file_name_2 = path + \"new.csv\""
   ]
  },
  {
   "cell_type": "code",
   "execution_count": null,
   "id": "6c136eee",
   "metadata": {},
   "outputs": [],
   "source": [
    "df = pd.read_csv(r\"{file_name}\")\n",
    "df.head(10)"
   ]
  },
  {
   "cell_type": "code",
   "execution_count": null,
   "id": "9a2a6894",
   "metadata": {},
   "outputs": [],
   "source": [
    "# how to choose 1 column\n",
    "\n",
    "# how to choose 2 columns"
   ]
  },
  {
   "cell_type": "code",
   "execution_count": null,
   "id": "1c313565",
   "metadata": {},
   "outputs": [],
   "source": [
    "player_names = df[\"PLAYER NAME\"].unique()\n",
    "player_names = list(player_names)"
   ]
  }
 ],
 "metadata": {
  "kernelspec": {
   "display_name": "Python 3 (ipykernel)",
   "language": "python",
   "name": "python3"
  },
  "language_info": {
   "codemirror_mode": {
    "name": "ipython",
    "version": 3
   },
   "file_extension": ".py",
   "mimetype": "text/x-python",
   "name": "python",
   "nbconvert_exporter": "python",
   "pygments_lexer": "ipython3",
   "version": "3.7.9"
  }
 },
 "nbformat": 4,
 "nbformat_minor": 5
}
