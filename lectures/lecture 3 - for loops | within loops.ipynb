{
 "cells": [
  {
   "cell_type": "code",
   "execution_count": null,
   "id": "f56e4bf8",
   "metadata": {},
   "outputs": [],
   "source": [
    "count = 0\n",
    "for player in player_names:\n",
    "    count= count+ 1\n",
    "    print(count)\n",
    "    print(player)\n",
    "    if count == 5:\n",
    "        break"
   ]
  }
 ],
 "metadata": {
  "kernelspec": {
   "display_name": "Python 3 (ipykernel)",
   "language": "python",
   "name": "python3"
  },
  "language_info": {
   "codemirror_mode": {
    "name": "ipython",
    "version": 3
   },
   "file_extension": ".py",
   "mimetype": "text/x-python",
   "name": "python",
   "nbconvert_exporter": "python",
   "pygments_lexer": "ipython3",
   "version": "3.7.9"
  }
 },
 "nbformat": 4,
 "nbformat_minor": 5
}
