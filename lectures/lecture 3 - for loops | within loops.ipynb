{
 "cells": [
  {
   "cell_type": "markdown",
   "id": "89c67970",
   "metadata": {},
   "source": [
    "###   for loops\n",
    "\n",
    "important concept when it comes to programming\n",
    "\n",
    "The concept overlaps over the Objected Oriented Programming languages, let it be Java, C++, JavaScript or Python. Understanding the following concept will allow you to do an important practice in a lot of powerful languages.\n",
    "\n",
    "The format is\n",
    "for n in list:\n",
    "    perform some type of operations around  the variable 'n'\n",
    "    \n",
    "\n",
    "\n",
    "The idea is that you are iterating over the list, starting by the first position in the list all the way to the end or if you have placed a manual stoppage within the for loop."
   ]
  },
  {
   "cell_type": "markdown",
   "id": "4ad55e98",
   "metadata": {},
   "source": [
    "e.g. of a `past beginners` for loop\n",
    "\n",
    "input of the code: user enters a value\n",
    "\n",
    "conditions:\n",
    "- value must be between 0 - 10\n",
    "\n",
    "output of the code: tell user which animal they are based on the number they enter\n",
    "\n",
    "user can put a value outside of 0-10\n",
    "user can put a value between 0-10\n",
    "user can put a value that is not a number"
   ]
  },
  {
   "cell_type": "code",
   "execution_count": 3,
   "id": "3553bde2",
   "metadata": {},
   "outputs": [
    {
     "name": "stdout",
     "output_type": "stream",
     "text": [
      "Please enter a value between 0-10: 20\n",
      "invalid user input, please enter something between 0-10\n",
      "invalid user input, please enter something between 0-10\n",
      "invalid user input, please enter something between 0-10\n",
      "invalid user input, please enter something between 0-10\n"
     ]
    }
   ],
   "source": [
    "user_input = input(\"Please enter a value between 0-10: \")\n",
    "\n",
    "user_input = int(user_input)\n",
    "\n",
    "# one way\n",
    "if (user_input <= 10) and (user_input>=0):\n",
    "    print(\"valid user input\")\n",
    "else:\n",
    "    print(\"invalid user input, please enter something between 0-10\")\n",
    "    \n",
    "    \n",
    "# second way\n",
    "if (user_input >10) or (user_input<0):\n",
    "    print(\"invalid user input, please enter something between 0-10\")\n",
    "else:\n",
    "    print(\"valid user input\")\n",
    "\n",
    "# third way\n",
    "if user_input <= 10:\n",
    "    if user_input >=0:\n",
    "        print(\"valid user input\")\n",
    "else:\n",
    "    print(\"invalid user input, please enter something between 0-10\")\n",
    "    \n",
    "# fourth way\n",
    "if 0 <= user_input <=10:\n",
    "    print(\"valid user input\")\n",
    "else:\n",
    "    print(\"invalid user input, please enter something between 0-10\")"
   ]
  },
  {
   "cell_type": "code",
   "execution_count": null,
   "id": "f56e4bf8",
   "metadata": {},
   "outputs": [],
   "source": [
    "count = 0\n",
    "for player in player_names:\n",
    "    count= count+ 1\n",
    "    print(count)\n",
    "    print(player)\n",
    "    if count == 5:\n",
    "        break"
   ]
  },
  {
   "cell_type": "markdown",
   "id": "8f68d5ac",
   "metadata": {},
   "source": [
    "## functions\n",
    "\n",
    "a function and with the function you define the parameter(s) needed along with the operations you want to do"
   ]
  },
  {
   "cell_type": "code",
   "execution_count": null,
   "id": "3d7694ff",
   "metadata": {},
   "outputs": [],
   "source": [
    "def validate_correct_phone_number(country, phone_number):\n",
    "    country_code_mapping = {\"canada\":\"+1\",\n",
    "                           \"usa\":\"+1\",\n",
    "                           \"pakistan\":\"+92\",\n",
    "                           \"bahrain\":\"+973\"}\n",
    "    \n",
    "    country_code = country_code_mapping[country]\n",
    "    \n",
    "    correct_number = \"\"\n",
    "    len_input = len(phone_number)\n",
    "    for n in range(0,len_input):\n",
    "        # accessing characters one at a time -> same thing as user_input[0], user_input[1], etc.\n",
    "        single_character = phone_number[n]\n",
    "\n",
    "        # fetching characters that are only numbers\n",
    "        try:\n",
    "            single_character = int(single_character) #might crash here, the point of the try and except\n",
    "            single_character = str(single_character)\n",
    "            correct_number = correct_number + single_character\n",
    "        except:\n",
    "            print(\"\")\n",
    "        \n",
    "        \n",
    "    # one way        \n",
    "    if len(correct_number)>10:\n",
    "        print(\"Phone number is too long\")\n",
    "    \n",
    "    elif len(correct_number)==10:\n",
    "        output_number = country_code + correct_number\n",
    "        print(\"Your number is \" + output_number)\n",
    "    else:\n",
    "        print(\"Phone number is too short\")\n",
    "        \n",
    "        \n",
    "    # second way\n",
    "    if len(correct_number)>10:\n",
    "        print(\"Phone number is too long\")\n",
    "    \n",
    "    if len(correct_number)==10:\n",
    "        output_number = country_code + correct_number\n",
    "        print(\"Your number is \" + output_number)\n",
    "        \n",
    "    if len(correct_number)<10:\n",
    "        print(\"Phone number is too short\")\n",
    "    \n",
    "    \n",
    "validate_correct_phone_number(\"bahrain\", \"514-111-2222\")"
   ]
  },
  {
   "cell_type": "code",
   "execution_count": null,
   "id": "10d43ec9",
   "metadata": {},
   "outputs": [],
   "source": [
    "def validate_user_input(user_input):\n",
    "    dict_mapping = { 0:\"mouse\",\n",
    "                   1:\"dog\",\n",
    "                   2: \"cat\",\n",
    "                   3: \"horse\",\n",
    "                   5:\"lion\"}\n",
    "    \n",
    "    # this line of code is for validating that the user input is only numbers\n",
    "    try:\n",
    "        user_input = int(user_input)\n",
    "    except:\n",
    "        print(\"Please enter numbers only\")\n",
    "        user_input = input(\"Please enter a number only from 0-5: \")\n",
    "        user_input = int(user_input)\n",
    "\n",
    "    #these line of code is used for validating number is between 0 - 10\n",
    "    if 0 <= user_input <= 5:\n",
    "        animal = dict_mapping[user_input]\n",
    "        print(\"You're spirit animal is a \" + animal)\n",
    "    else:\n",
    "        print(\"invalid user input, please enter something between 0-5\")\n",
    "        \n",
    "validate_user_input(0)"
   ]
  }
 ],
 "metadata": {
  "kernelspec": {
   "display_name": "Python 3 (ipykernel)",
   "language": "python",
   "name": "python3"
  },
  "language_info": {
   "codemirror_mode": {
    "name": "ipython",
    "version": 3
   },
   "file_extension": ".py",
   "mimetype": "text/x-python",
   "name": "python",
   "nbconvert_exporter": "python",
   "pygments_lexer": "ipython3",
   "version": "3.7.9"
  }
 },
 "nbformat": 4,
 "nbformat_minor": 5
}
