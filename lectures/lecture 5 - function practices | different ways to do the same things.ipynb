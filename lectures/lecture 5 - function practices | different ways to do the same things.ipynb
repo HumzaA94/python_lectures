{
 "cells": [
  {
   "cell_type": "markdown",
   "id": "91ebf23d",
   "metadata": {},
   "source": [
    "## Random Exercises in regards to functions\n",
    "\n",
    "Inspired by the following link:\n",
    "\n",
    "https://pynative.com/python-functions-exercise-with-solutions/"
   ]
  },
  {
   "cell_type": "markdown",
   "id": "f27cced9",
   "metadata": {},
   "source": [
    "**Exercise 1**\n",
    "\n",
    "Write a program to create a function that takes two arguments, name and age, and print their value."
   ]
  },
  {
   "cell_type": "code",
   "execution_count": 19,
   "id": "cad12334",
   "metadata": {},
   "outputs": [
    {
     "name": "stdout",
     "output_type": "stream",
     "text": [
      "Name is Humza and I am  years old.\n"
     ]
    }
   ],
   "source": [
    "def ask(name, age=\"\"):\n",
    "    print(f\"Name is {name} and I am {age} years old.\")\n",
    "    \n",
    "ask(\"Humza\")"
   ]
  },
  {
   "cell_type": "markdown",
   "id": "0e186ee4",
   "metadata": {},
   "source": [
    "**Exercise 2**\n",
    "    \n",
    "Create a function with variable length of arguments\n",
    "Write a program to create function func1() to accept a variable length of arguments and print their value.\n",
    "\n",
    "Note: Create a function in such a way that we can pass any number of arguments to this function and the function should process them and display each argument’s value.\n",
    "\n"
   ]
  },
  {
   "cell_type": "code",
   "execution_count": 15,
   "id": "4425a0da",
   "metadata": {},
   "outputs": [
    {
     "name": "stdout",
     "output_type": "stream",
     "text": [
      "30\n",
      "40\n",
      "50\n",
      "70\n",
      "80\n",
      "90\n",
      "100\n",
      "120\n",
      "260\n",
      "test\n",
      "this too\n",
      "30\n",
      "40\n",
      "50\n",
      "70\n",
      "80\n",
      "90\n",
      "100\n",
      "120\n",
      "260\n",
      "test\n",
      "this too\n"
     ]
    }
   ],
   "source": [
    "def func1(*args):\n",
    "    for f in args:\n",
    "        print(f)\n",
    "        \n",
    "        \n",
    "func1(30,40,50,70,80,90,100,120,260,\"test\",\"this too\")\n",
    "\n",
    "\n",
    "list1 = [30,40,50,70,80,90,100,120,260,\"test\",\"this too\"]\n",
    "func1(*list1)"
   ]
  }
 ],
 "metadata": {
  "kernelspec": {
   "display_name": "Python 3 (ipykernel)",
   "language": "python",
   "name": "python3"
  },
  "language_info": {
   "codemirror_mode": {
    "name": "ipython",
    "version": 3
   },
   "file_extension": ".py",
   "mimetype": "text/x-python",
   "name": "python",
   "nbconvert_exporter": "python",
   "pygments_lexer": "ipython3",
   "version": "3.7.9"
  }
 },
 "nbformat": 4,
 "nbformat_minor": 5
}
