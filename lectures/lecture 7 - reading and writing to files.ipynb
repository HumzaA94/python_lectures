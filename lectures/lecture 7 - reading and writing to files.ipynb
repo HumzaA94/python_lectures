{
 "cells": [
  {
   "cell_type": "markdown",
   "id": "64149a1d",
   "metadata": {},
   "source": [
    "data/input can come in multiple forms.\n",
    "\n",
    "You can a document/file version:\n",
    "- word document, .doc -> using docx2txt https://stackoverflow.com/questions/36001482/read-doc-file-with-python\n",
    "- text document, .txt -> using open() \n",
    "- datatable document, .csv, .xlsx -> pandas csv and pandas excel\n",
    "- json files, SUPER SUPER IMPORTANT\n",
    "\n",
    "You can have inputs such as:\n",
    "- APIs -> multiple packages one of them called requests\n",
    "- DATABASES -> pandas read_sql function requires a sql query/syntax/command along with your connection to the db\n",
    "- Websites -> multiple packages one of them is called requests and you will use BeautifulSoup https://www.dataquest.io/blog/web-scraping-python-using-beautiful-soup/\n"
   ]
  },
  {
   "cell_type": "code",
   "execution_count": 16,
   "id": "bbafaf3b",
   "metadata": {},
   "outputs": [],
   "source": [
    "import pandas as pd\n",
    "import docx2txt\n",
    "import json\n",
    "from bs4 import BeautifulSoup\n",
    "import requests\n",
    "import json"
   ]
  },
  {
   "cell_type": "code",
   "execution_count": 1,
   "id": "15c2c784",
   "metadata": {},
   "outputs": [],
   "source": [
    "def read_excel_sheet(name_of_excel_file, name_of_excel_sheet):\n",
    "    xls = pd.ExcelFile(name_of_excel_file)\n",
    "    df = pd.read_excel(xls, name_of_excel_sheet)\n",
    "    return df\n",
    "\n",
    "def read_text_file(file_with_path):\n",
    "    if \".doc\" in file_with_path:\n",
    "        content = docx2txt.process(\"test.docx\")\n",
    "    else:\n",
    "        f = open(file_with_path, \"r\")\n",
    "        content = f.read()\n",
    "    return content"
   ]
  },
  {
   "cell_type": "code",
   "execution_count": 2,
   "id": "68388e7b",
   "metadata": {},
   "outputs": [],
   "source": [
    "content = read_text_file(\"../data/text.rtf\")\n"
   ]
  },
  {
   "cell_type": "code",
   "execution_count": 4,
   "id": "6f4c6d0f",
   "metadata": {},
   "outputs": [],
   "source": [
    "f = open(\"../data/text.rtf\", \"r\")"
   ]
  },
  {
   "cell_type": "code",
   "execution_count": 5,
   "id": "244c46cc",
   "metadata": {},
   "outputs": [
    {
     "data": {
      "text/plain": [
       "'writing this sentence to the file.'"
      ]
     },
     "execution_count": 5,
     "metadata": {},
     "output_type": "execute_result"
    }
   ],
   "source": [
    "f.read()"
   ]
  },
  {
   "cell_type": "code",
   "execution_count": null,
   "id": "1c57036f",
   "metadata": {},
   "outputs": [],
   "source": [
    "f.write(\"writing this sentence to the file.\")"
   ]
  },
  {
   "cell_type": "code",
   "execution_count": null,
   "id": "60fa5c02",
   "metadata": {},
   "outputs": [],
   "source": [
    "f.close()"
   ]
  },
  {
   "cell_type": "markdown",
   "id": "2afe2d12",
   "metadata": {},
   "source": [
    "**Websites, BeautifulSoup Introduction**"
   ]
  },
  {
   "cell_type": "code",
   "execution_count": 9,
   "id": "40fef3bf",
   "metadata": {},
   "outputs": [],
   "source": [
    "page = requests.get(\"https://dataquestio.github.io/web-scraping-pages/simple.html\")\n",
    "\n",
    "soup = BeautifulSoup(page.content, 'html.parser')\n",
    "soup.find_all(\"p\")"
   ]
  },
  {
   "cell_type": "code",
   "execution_count": 25,
   "id": "e52501c3",
   "metadata": {},
   "outputs": [],
   "source": [
    "# deserializes into dict\n",
    "# and returns dict.\n",
    "with open(\"../data/sample2.json\") as f:\n",
    "    data = json.load(f)"
   ]
  },
  {
   "cell_type": "code",
   "execution_count": 28,
   "id": "a475b366",
   "metadata": {},
   "outputs": [
    {
     "data": {
      "text/plain": [
       "{'firstName': 'Joe',\n",
       " 'lastName': 'Jackson',\n",
       " 'gender': 'male',\n",
       " 'age': 28,\n",
       " 'address': {'streetAddress': '101', 'city': 'San Diego', 'state': 'CA'},\n",
       " 'phoneNumbers': [{'type': 'home', 'number': '7349282382'}]}"
      ]
     },
     "execution_count": 28,
     "metadata": {},
     "output_type": "execute_result"
    }
   ],
   "source": [
    "data"
   ]
  },
  {
   "cell_type": "code",
   "execution_count": 33,
   "id": "f7d1a59d",
   "metadata": {},
   "outputs": [
    {
     "ename": "KeyError",
     "evalue": "'country'",
     "output_type": "error",
     "traceback": [
      "\u001b[0;31m---------------------------------------------------------------------------\u001b[0m",
      "\u001b[0;31mKeyError\u001b[0m                                  Traceback (most recent call last)",
      "\u001b[0;32m/var/folders/4s/hrv735dn21v03p8hht2v514w0000gn/T/ipykernel_40982/696614179.py\u001b[0m in \u001b[0;36m<module>\u001b[0;34m\u001b[0m\n\u001b[0;32m----> 1\u001b[0;31m \u001b[0mdata\u001b[0m\u001b[0;34m[\u001b[0m\u001b[0;34m'address'\u001b[0m\u001b[0;34m]\u001b[0m\u001b[0;34m[\u001b[0m\u001b[0;34m'country'\u001b[0m\u001b[0;34m]\u001b[0m\u001b[0;34m\u001b[0m\u001b[0;34m\u001b[0m\u001b[0m\n\u001b[0m",
      "\u001b[0;31mKeyError\u001b[0m: 'country'"
     ]
    }
   ],
   "source": [
    "data['address']['country']"
   ]
  },
  {
   "cell_type": "code",
   "execution_count": 35,
   "id": "5217cd26",
   "metadata": {},
   "outputs": [],
   "source": [
    "data.get('address',None).get('country',None)"
   ]
  },
  {
   "cell_type": "code",
   "execution_count": null,
   "id": "eb91e799",
   "metadata": {},
   "outputs": [],
   "source": []
  }
 ],
 "metadata": {
  "kernelspec": {
   "display_name": "Python 3 (ipykernel)",
   "language": "python",
   "name": "python3"
  },
  "language_info": {
   "codemirror_mode": {
    "name": "ipython",
    "version": 3
   },
   "file_extension": ".py",
   "mimetype": "text/x-python",
   "name": "python",
   "nbconvert_exporter": "python",
   "pygments_lexer": "ipython3",
   "version": "3.7.9"
  }
 },
 "nbformat": 4,
 "nbformat_minor": 5
}
