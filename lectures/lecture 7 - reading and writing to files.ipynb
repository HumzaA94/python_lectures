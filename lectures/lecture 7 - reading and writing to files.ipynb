{
 "cells": [
  {
   "cell_type": "markdown",
   "id": "64149a1d",
   "metadata": {},
   "source": [
    "data/input can come in multiple forms.\n",
    "\n",
    "You can a document/file version:\n",
    "- word document, .doc -> using docx2txt https://stackoverflow.com/questions/36001482/read-doc-file-with-python\n",
    "- text document, .txt -> using open() \n",
    "- datatable document, .csv, .xlsx -> pandas csv and pandas excel\n",
    "- json files, SUPER SUPER IMPORTANT\n",
    "\n",
    "You can have inputs such as:\n",
    "- APIs -> multiple packages one of them called requests\n",
    "- DATABASES -> pandas read_sql function requires a sql query/syntax/command along with your connection to the db\n",
    "- Websites -> multiple packages one of them is called requests and you will use BeautifulSoup https://www.dataquest.io/blog/web-scraping-python-using-beautiful-soup/\n"
   ]
  },
  {
   "cell_type": "code",
   "execution_count": 2,
   "id": "bbafaf3b",
   "metadata": {},
   "outputs": [],
   "source": [
    "import pandas as pd\n",
    "import docx2txt\n",
    "import json\n",
    "from bs4 import BeautifulSoup\n",
    "import requests\n",
    "import json"
   ]
  },
  {
   "cell_type": "code",
   "execution_count": 3,
   "id": "15c2c784",
   "metadata": {},
   "outputs": [],
   "source": [
    "def read_excel_sheet(name_of_excel_file, name_of_excel_sheet):\n",
    "    xls = pd.ExcelFile(name_of_excel_file)\n",
    "    df = pd.read_excel(xls, name_of_excel_sheet)\n",
    "    return df\n",
    "\n",
    "def read_text_file(file_with_path):\n",
    "    if \".docetaswet\" in file_with_path:\n",
    "        content = docx2txt.process(\"test.docx\")\n",
    "    else:\n",
    "        f = open(file_with_path, \"r\")\n",
    "        content = f.read()\n",
    "    return content"
   ]
  },
  {
   "cell_type": "markdown",
   "id": "2afe2d12",
   "metadata": {},
   "source": [
    "**Websites, BeautifulSoup Introduction**"
   ]
  },
  {
   "cell_type": "code",
   "execution_count": 53,
   "id": "d2c4bfb7",
   "metadata": {},
   "outputs": [],
   "source": [
    "url = \"https://www.google.com/search?q=dogs&ei=zzLzYePhBeiS0PEPmNK60AI&ved=0ahUKEwijhaLQktP1AhVoCTQIHRipDioQ4dUDCA4&uact=5&oq=dogs&gs_lcp=Cgdnd3Mtd2l6EAMyBwguELEDEEMyBAgAEEMyCwgAEIAEELEDEMkDMgUIABCSAzIFCAAQkgMyBQgAEIAEMggIABCABBCxAzIFCAAQgAQyBQgAEIAEMgUIABCABDoHCAAQRxCwAzoHCAAQsAMQQzoFCAAQkQI6CwguEIAEEMcBENEDOggIABCxAxCDAToOCC4QgAQQsQMQxwEQowI6DgguEIAEELEDEMcBENEDOgsIABCABBCxAxCDAToHCAAQsQMQQzoICAAQgAQQyQNKBAhBGABKBAhGGABQxyVYqCpg6StoA3ACeACAAakBiAHBA5IBAzMuMZgBAKABAcgBCsABAQ&sclient=gws-wiz\""
   ]
  },
  {
   "cell_type": "code",
   "execution_count": 57,
   "id": "40fef3bf",
   "metadata": {
    "scrolled": true
   },
   "outputs": [],
   "source": [
    "page = requests.get(url)\n",
    "soup = BeautifulSoup(page.content, 'html.parser')"
   ]
  },
  {
   "cell_type": "code",
   "execution_count": 73,
   "id": "7a2952de",
   "metadata": {},
   "outputs": [],
   "source": [
    "a_tags = soup.find_all(\"a\") # get all a tags\n",
    "links = [a_tag['href'] for a_tag in a_tags] # get all links from a tags\n",
    "links = [link for link in links if 'https' in link] # filter list for links containing https\n",
    "links = [link for link in links if 'url?q' in link] # filter through links having url?q\n",
    "links = [link.split(\"url?q=\")[1] for link in links] # remove url?q from the link\n",
    "links = [link.split(\"&sa\")[0] for link in links] # remove everything after &sa from the link\n"
   ]
  },
  {
   "cell_type": "code",
   "execution_count": 25,
   "id": "e52501c3",
   "metadata": {},
   "outputs": [],
   "source": [
    "# deserializes into dict\n",
    "# and returns dict.\n",
    "with open(\"../data/sample2.json\") as f:\n",
    "    data = json.load(f)"
   ]
  }
 ],
 "metadata": {
  "kernelspec": {
   "display_name": "Python 3 (ipykernel)",
   "language": "python",
   "name": "python3"
  },
  "language_info": {
   "codemirror_mode": {
    "name": "ipython",
    "version": 3
   },
   "file_extension": ".py",
   "mimetype": "text/x-python",
   "name": "python",
   "nbconvert_exporter": "python",
   "pygments_lexer": "ipython3",
   "version": "3.7.9"
  }
 },
 "nbformat": 4,
 "nbformat_minor": 5
}
