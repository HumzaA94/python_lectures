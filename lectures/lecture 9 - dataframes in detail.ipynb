{
 "cells": [
  {
   "cell_type": "code",
   "execution_count": 11,
   "id": "a0a3186d",
   "metadata": {},
   "outputs": [],
   "source": [
    "import requests\n",
    "import pandas as pd\n",
    "import numpy as np\n",
    "import matplotlib.pyplot as plt\n",
    "from tqdm import tqdm "
   ]
  },
  {
   "cell_type": "code",
   "execution_count": 3,
   "id": "b630291c",
   "metadata": {},
   "outputs": [],
   "source": [
    "pd.set_option('display.max_columns',100)"
   ]
  },
  {
   "cell_type": "code",
   "execution_count": 13,
   "id": "b4ce8309",
   "metadata": {
    "scrolled": true
   },
   "outputs": [
    {
     "name": "stderr",
     "output_type": "stream",
     "text": [
      "100%|█████████████████████████████████████████████| 64/64 [00:47<00:00,  1.35it/s]\n"
     ]
    }
   ],
   "source": [
    "# importing of data\n",
    "base_url = \"https://raw.githubusercontent.com/statsbomb/open-data/master/data/\"\n",
    "comp_url = base_url + \"matches/{}/{}.json\"\n",
    "match_url = base_url + \"events/{}.json\"\n",
    "\n",
    "def parse_data(competition_id, season_id):\n",
    "    matches = requests.get(url=comp_url.format(competition_id, season_id)).json()\n",
    "    match_ids = [m['match_id'] for m in matches]\n",
    "\n",
    "    all_events = []\n",
    "    for match_id in tqdm(match_ids):\n",
    "\n",
    "        events = requests.get(url=match_url.format(match_id)).json()\n",
    "        shots = [x for x in events if x['type']['name'] == \"Shot\"]\n",
    "                \n",
    "        for s in shots:\n",
    "            attributes = {\n",
    "                \"x\": s['location'][0],\n",
    "                \"y\": s['location'][1],\n",
    "                \"head\": 1 if s['shot']['body_part']['name'] == \"Head\" else 0,\n",
    "                \"phase\": s['shot']['type']['name'],\n",
    "                \"outcome\": 1 if s['shot']['outcome']['name'] == \"Goal\" else 0,\n",
    "                \"statsbomb_xg\": s['shot']['statsbomb_xg']\n",
    "            }\n",
    "            all_events.append(attributes)\n",
    "            \n",
    "    return pd.DataFrame(all_events)\n",
    "\n",
    "competition_id = 43\n",
    "season_id = 3\n",
    "df = parse_data(competition_id, season_id)"
   ]
  },
  {
   "cell_type": "code",
   "execution_count": 14,
   "id": "f1773483",
   "metadata": {},
   "outputs": [
    {
     "data": {
      "text/html": [
       "<div>\n",
       "<style scoped>\n",
       "    .dataframe tbody tr th:only-of-type {\n",
       "        vertical-align: middle;\n",
       "    }\n",
       "\n",
       "    .dataframe tbody tr th {\n",
       "        vertical-align: top;\n",
       "    }\n",
       "\n",
       "    .dataframe thead th {\n",
       "        text-align: right;\n",
       "    }\n",
       "</style>\n",
       "<table border=\"1\" class=\"dataframe\">\n",
       "  <thead>\n",
       "    <tr style=\"text-align: right;\">\n",
       "      <th></th>\n",
       "      <th>x</th>\n",
       "      <th>y</th>\n",
       "      <th>head</th>\n",
       "      <th>phase</th>\n",
       "      <th>outcome</th>\n",
       "      <th>statsbomb_xg</th>\n",
       "    </tr>\n",
       "  </thead>\n",
       "  <tbody>\n",
       "    <tr>\n",
       "      <th>0</th>\n",
       "      <td>97.0</td>\n",
       "      <td>32.0</td>\n",
       "      <td>0</td>\n",
       "      <td>Open Play</td>\n",
       "      <td>0</td>\n",
       "      <td>0.037902</td>\n",
       "    </tr>\n",
       "    <tr>\n",
       "      <th>1</th>\n",
       "      <td>108.0</td>\n",
       "      <td>51.0</td>\n",
       "      <td>0</td>\n",
       "      <td>Open Play</td>\n",
       "      <td>0</td>\n",
       "      <td>0.044519</td>\n",
       "    </tr>\n",
       "    <tr>\n",
       "      <th>2</th>\n",
       "      <td>109.0</td>\n",
       "      <td>55.0</td>\n",
       "      <td>0</td>\n",
       "      <td>Open Play</td>\n",
       "      <td>0</td>\n",
       "      <td>0.040015</td>\n",
       "    </tr>\n",
       "    <tr>\n",
       "      <th>3</th>\n",
       "      <td>102.0</td>\n",
       "      <td>23.0</td>\n",
       "      <td>0</td>\n",
       "      <td>Open Play</td>\n",
       "      <td>0</td>\n",
       "      <td>0.026998</td>\n",
       "    </tr>\n",
       "    <tr>\n",
       "      <th>4</th>\n",
       "      <td>114.0</td>\n",
       "      <td>48.0</td>\n",
       "      <td>1</td>\n",
       "      <td>Open Play</td>\n",
       "      <td>0</td>\n",
       "      <td>0.040895</td>\n",
       "    </tr>\n",
       "    <tr>\n",
       "      <th>...</th>\n",
       "      <td>...</td>\n",
       "      <td>...</td>\n",
       "      <td>...</td>\n",
       "      <td>...</td>\n",
       "      <td>...</td>\n",
       "      <td>...</td>\n",
       "    </tr>\n",
       "    <tr>\n",
       "      <th>1701</th>\n",
       "      <td>102.0</td>\n",
       "      <td>22.0</td>\n",
       "      <td>0</td>\n",
       "      <td>Open Play</td>\n",
       "      <td>0</td>\n",
       "      <td>0.048505</td>\n",
       "    </tr>\n",
       "    <tr>\n",
       "      <th>1702</th>\n",
       "      <td>95.0</td>\n",
       "      <td>30.0</td>\n",
       "      <td>0</td>\n",
       "      <td>Free Kick</td>\n",
       "      <td>0</td>\n",
       "      <td>0.081573</td>\n",
       "    </tr>\n",
       "    <tr>\n",
       "      <th>1703</th>\n",
       "      <td>116.0</td>\n",
       "      <td>30.0</td>\n",
       "      <td>0</td>\n",
       "      <td>Open Play</td>\n",
       "      <td>0</td>\n",
       "      <td>0.060032</td>\n",
       "    </tr>\n",
       "    <tr>\n",
       "      <th>1704</th>\n",
       "      <td>101.0</td>\n",
       "      <td>58.0</td>\n",
       "      <td>0</td>\n",
       "      <td>Open Play</td>\n",
       "      <td>0</td>\n",
       "      <td>0.016948</td>\n",
       "    </tr>\n",
       "    <tr>\n",
       "      <th>1705</th>\n",
       "      <td>116.0</td>\n",
       "      <td>53.0</td>\n",
       "      <td>0</td>\n",
       "      <td>Open Play</td>\n",
       "      <td>1</td>\n",
       "      <td>0.037225</td>\n",
       "    </tr>\n",
       "  </tbody>\n",
       "</table>\n",
       "<p>1706 rows × 6 columns</p>\n",
       "</div>"
      ],
      "text/plain": [
       "          x     y  head      phase  outcome  statsbomb_xg\n",
       "0      97.0  32.0     0  Open Play        0      0.037902\n",
       "1     108.0  51.0     0  Open Play        0      0.044519\n",
       "2     109.0  55.0     0  Open Play        0      0.040015\n",
       "3     102.0  23.0     0  Open Play        0      0.026998\n",
       "4     114.0  48.0     1  Open Play        0      0.040895\n",
       "...     ...   ...   ...        ...      ...           ...\n",
       "1701  102.0  22.0     0  Open Play        0      0.048505\n",
       "1702   95.0  30.0     0  Free Kick        0      0.081573\n",
       "1703  116.0  30.0     0  Open Play        0      0.060032\n",
       "1704  101.0  58.0     0  Open Play        0      0.016948\n",
       "1705  116.0  53.0     0  Open Play        1      0.037225\n",
       "\n",
       "[1706 rows x 6 columns]"
      ]
     },
     "execution_count": 14,
     "metadata": {},
     "output_type": "execute_result"
    }
   ],
   "source": [
    "# pre-analysis of the data\n",
    "df"
   ]
  },
  {
   "cell_type": "code",
   "execution_count": 5,
   "id": "2de1b3df",
   "metadata": {},
   "outputs": [],
   "source": [
    "# cleaning of the data\n",
    "shots = df[~df['phase'].isin(['Free Kick', 'Penalty'])]\n"
   ]
  },
  {
   "cell_type": "code",
   "execution_count": 24,
   "id": "9fc4ed73",
   "metadata": {},
   "outputs": [
    {
     "name": "stderr",
     "output_type": "stream",
     "text": [
      "/Library/Frameworks/Python.framework/Versions/3.7/lib/python3.7/site-packages/ipykernel_launcher.py:18: SettingWithCopyWarning: \n",
      "A value is trying to be set on a copy of a slice from a DataFrame.\n",
      "Try using .loc[row_indexer,col_indexer] = value instead\n",
      "\n",
      "See the caveats in the documentation: https://pandas.pydata.org/pandas-docs/stable/user_guide/indexing.html#returning-a-view-versus-a-copy\n",
      "/Library/Frameworks/Python.framework/Versions/3.7/lib/python3.7/site-packages/ipykernel_launcher.py:8: DeprecationWarning: `np.float` is a deprecated alias for the builtin `float`. To silence this warning, use `float` by itself. Doing this will not modify any behavior and is safe. If you specifically wanted the numpy scalar type, use `np.float64` here.\n",
      "Deprecated in NumPy 1.20; for more details and guidance: https://numpy.org/devdocs/release/1.20.0-notes.html#deprecations\n",
      "  \n",
      "/Library/Frameworks/Python.framework/Versions/3.7/lib/python3.7/site-packages/ipykernel_launcher.py:19: SettingWithCopyWarning: \n",
      "A value is trying to be set on a copy of a slice from a DataFrame.\n",
      "Try using .loc[row_indexer,col_indexer] = value instead\n",
      "\n",
      "See the caveats in the documentation: https://pandas.pydata.org/pandas-docs/stable/user_guide/indexing.html#returning-a-view-versus-a-copy\n"
     ]
    }
   ],
   "source": [
    "# manipulate the data\n",
    "def distance_to_goal(origin):\n",
    "    dest = np.array([120., 40.])\n",
    "    return np.sqrt(np.sum((origin - dest) ** 2))\n",
    "\n",
    "def goal_angle(origin):\n",
    "    p0 = np.array((120., 36.))  # Left Post\n",
    "    p1 = np.array(origin, dtype=np.float)\n",
    "    p2 = np.array((120., 44.))  # Right Post\n",
    "\n",
    "    v0 = p0 - p1\n",
    "    v1 = p2 - p1\n",
    "\n",
    "    angle = np.abs(np.math.atan2(np.linalg.det([v0, v1]), np.dot(v0, v1)))\n",
    "    \n",
    "    return angle\n",
    "\n",
    "shots['distance_to_goal'] = shots.apply(lambda row: distance_to_goal(row[['x', 'y']]), axis=1)\n",
    "shots['goal_angle'] = shots.apply(lambda r: goal_angle(r[['x', 'y']]), axis=1)\n"
   ]
  },
  {
   "cell_type": "code",
   "execution_count": 25,
   "id": "03b6cf0f",
   "metadata": {},
   "outputs": [],
   "source": [
    "# analyze the data\n",
    "from sklearn.linear_model import LogisticRegression\n",
    "model = LogisticRegression()\n",
    "\n",
    "# choosing which columns for it to decide the important values\n",
    "features = shots[['distance_to_goal', 'goal_angle', 'head']]\n",
    "labels = shots['outcome']\n",
    "\n",
    "fit = model.fit(features, labels)\n",
    "predictions = model.predict_proba(features)[:, 1]"
   ]
  },
  {
   "cell_type": "code",
   "execution_count": 26,
   "id": "1d5cbe9c",
   "metadata": {},
   "outputs": [
    {
     "data": {
      "image/png": "[encoded data removed]",
      "text/plain": [
       "<Figure size 432x288 with 1 Axes>"
      ]
     },
     "metadata": {
      "needs_background": "light"
     },
     "output_type": "display_data"
    }
   ],
   "source": [
    "# output the data in some form or manner\n",
    "plt.plot(sorted(predictions))\n",
    "plt.show()"
   ]
  }
 ],
 "metadata": {
  "kernelspec": {
   "display_name": "Python 3 (ipykernel)",
   "language": "python",
   "name": "python3"
  },
  "language_info": {
   "codemirror_mode": {
    "name": "ipython",
    "version": 3
   },
   "file_extension": ".py",
   "mimetype": "text/x-python",
   "name": "python",
   "nbconvert_exporter": "python",
   "pygments_lexer": "ipython3",
   "version": "3.7.9"
  }
 },
 "nbformat": 4,
 "nbformat_minor": 5
}
