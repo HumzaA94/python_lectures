{
 "cells": [
  {
   "cell_type": "code",
   "execution_count": 21,
   "metadata": {
    "ExecuteTime": {
     "end_time": "2021-11-10T00:45:34.338984Z",
     "start_time": "2021-11-10T00:45:34.322063Z"
    }
   },
   "outputs": [],
   "source": [
    "# types of variables/ data types\n",
    "bool_variable = True\n",
    "int_variable = 1\n",
    "string_variable = 'word'\n",
    "float_variable = 1.0\n",
    "list_variable = [int_variable, string_variable, float_variable]\n",
    "set_variable = set([1,1])\n",
    "dict_variable = {\"key_1\":\"value_1\",\n",
    "                \"key_2\":\"value_2\",\n",
    "                \"key_3\":list_variable}"
   ]
  },
  {
   "cell_type": "markdown",
   "metadata": {},
   "source": [
    "list can contain multiple values that are the same\n",
    "\n",
    "set has a condition that it will only take one of the values -> unique values"
   ]
  },
  {
   "cell_type": "code",
   "execution_count": 67,
   "metadata": {
    "ExecuteTime": {
     "end_time": "2021-11-10T01:18:49.817724Z",
     "start_time": "2021-11-10T01:18:49.809515Z"
    }
   },
   "outputs": [
    {
     "data": {
      "text/plain": [
       "[1, 'word', 1.0, '2', '2']"
      ]
     },
     "execution_count": 67,
     "metadata": {},
     "output_type": "execute_result"
    }
   ],
   "source": [
    "# add value to list\n",
    "list_variable.append(\"2\")\n",
    "list_variable"
   ]
  },
  {
   "cell_type": "code",
   "execution_count": 10,
   "metadata": {
    "ExecuteTime": {
     "end_time": "2021-11-12T00:33:31.272551Z",
     "start_time": "2021-11-12T00:33:31.231976Z"
    }
   },
   "outputs": [
    {
     "data": {
      "text/plain": [
       "'This is sentence one.This is sentence two'"
      ]
     },
     "execution_count": 10,
     "metadata": {},
     "output_type": "execute_result"
    }
   ],
   "source": [
    "string = \"This is sentence one.\"\n",
    "string_2 = \"This is sentence two\"\n",
    "whole_2_sentences = string + string_2\n",
    "whole_2_sentences"
   ]
  },
  {
   "cell_type": "markdown",
   "metadata": {},
   "source": [
    "Working with dictionary keys"
   ]
  },
  {
   "cell_type": "code",
   "execution_count": 63,
   "metadata": {
    "ExecuteTime": {
     "end_time": "2021-11-10T01:15:50.144957Z",
     "start_time": "2021-11-10T01:15:50.135359Z"
    }
   },
   "outputs": [
    {
     "name": "stdout",
     "output_type": "stream",
     "text": [
      "[1, 'word', 1.0]\n",
      "new_value_added\n",
      "before popping: \n",
      "{'key_1': 'value_1', 'key_2': 'value_2', 'key_3': [1, 'word', 1.0], 'key_4': 'new_value_added'}\n",
      "after popping/removing:\n",
      "{'key_1': 'value_1', 'key_2': 'value_2', 'key_3': [1, 'word', 1.0]}\n"
     ]
    }
   ],
   "source": [
    "# getting a value by the key\n",
    "print(dict_variable[\"key_3\"])\n",
    "\n",
    "# adding a key, value to a dictionary\n",
    "dict_variable[\"key_4\"] = \"new_value_added\"\n",
    "print(dict_variable[\"key_4\"])\n",
    "\n",
    "\n",
    "print(\"before popping: \")\n",
    "print(dict_variable)\n",
    "# delete a key, value from a dictionary\n",
    "dict_variable.pop(\"key_4\")\n",
    "print(\"after popping/removing:\")\n",
    "print(dict_variable)"
   ]
  },
  {
   "cell_type": "code",
   "execution_count": 40,
   "metadata": {
    "ExecuteTime": {
     "end_time": "2021-11-10T00:57:47.677299Z",
     "start_time": "2021-11-10T00:57:45.656767Z"
    }
   },
   "outputs": [
    {
     "name": "stdout",
     "output_type": "stream",
     "text": [
      "user input: 1\n"
     ]
    }
   ],
   "source": [
    "int_variable = input(\"user input: \")"
   ]
  },
  {
   "cell_type": "code",
   "execution_count": 72,
   "metadata": {
    "ExecuteTime": {
     "end_time": "2021-11-10T01:22:57.041689Z",
     "start_time": "2021-11-10T01:22:57.032317Z"
    }
   },
   "outputs": [
    {
     "name": "stdout",
     "output_type": "stream",
     "text": [
      "value is 1\n",
      "value is 2\n",
      "it does not\n"
     ]
    }
   ],
   "source": [
    "# if else statements\n",
    "# due to no follow up else or elif statement, \n",
    "# each if statement is treated independently\n",
    "# it will always check the condition of each 'if' statement\n",
    "\n",
    "int_variable = 1\n",
    "if int_variable == 1: #true here \n",
    "    print(\"value is 1\")\n",
    "    int_variable = 2\n",
    "if int_variable ==2: #still check this\n",
    "    print(\"value is 2\")\n",
    "    int_variable = 3\n",
    "if int_variable ==3: #still check this\n",
    "    print(\"it does not\")"
   ]
  },
  {
   "cell_type": "markdown",
   "metadata": {},
   "source": [
    "how does if and elif communicate each other\n",
    "without you knowing in the back or at the time of running the code\n",
    "if there is an 'elif' right after 'if' it will automatically create a chain "
   ]
  },
  {
   "cell_type": "code",
   "execution_count": 11,
   "metadata": {
    "ExecuteTime": {
     "end_time": "2021-11-12T00:43:17.045285Z",
     "start_time": "2021-11-12T00:43:16.999317Z"
    }
   },
   "outputs": [
    {
     "name": "stdout",
     "output_type": "stream",
     "text": [
      "any number less than 1\n"
     ]
    }
   ],
   "source": [
    "# example with if, elif and else\n",
    "# the relationship between all 3 is that \n",
    "# it is a chain affect. Once one is true,\n",
    "# it will skip over the remaining ones\n",
    "\n",
    "int_variable = -5\n",
    "if int_variable == 1: # false\n",
    "    print(\"value is 1\")\n",
    "    int_variable = 2\n",
    "elif int_variable ==2: # false\n",
    "    print(\"value is 2\")\n",
    "elif int_variable > 2 and int_variable < 6:# false\n",
    "    print(\"value is between 2-6\")  \n",
    "elif int_variable > 6:# false\n",
    "    print(\"value is greater than 6\")\n",
    "else: # do this as the default\n",
    "    print(\"any number less than 1\")\n",
    "    \n",
    "\n"
   ]
  },
  {
   "cell_type": "code",
   "execution_count": 13,
   "metadata": {
    "ExecuteTime": {
     "end_time": "2021-11-12T00:46:04.212864Z",
     "start_time": "2021-11-12T00:46:04.178518Z"
    }
   },
   "outputs": [
    {
     "name": "stdout",
     "output_type": "stream",
     "text": [
      "any number less than 1\n"
     ]
    }
   ],
   "source": [
    "if int_variable ==2: # dont need to check \n",
    "    print(\"value is 2\")\n",
    "elif int_variable > 2 and int_variable < 6:# dont need to check \n",
    "    print(\"value is between 2-6\")  \n",
    "elif int_variable > 6:# dont need to check \n",
    "    print(\"value is greater than 6\")\n",
    "else:\n",
    "    print(\"any number less than 1\")"
   ]
  },
  {
   "cell_type": "markdown",
   "metadata": {},
   "source": [
    "if statement is by the word itself if something occurs\n",
    "\n",
    "elif statement if the first statement occur try this one\n",
    "\n",
    "else statement if none of the ones above worked, just do these lines of codes"
   ]
  },
  {
   "cell_type": "code",
   "execution_count": null,
   "metadata": {},
   "outputs": [],
   "source": [
    "if ,else, elif"
   ]
  },
  {
   "cell_type": "code",
   "execution_count": 15,
   "metadata": {
    "ExecuteTime": {
     "end_time": "2021-11-12T00:50:15.841312Z",
     "start_time": "2021-11-12T00:50:15.394720Z"
    }
   },
   "outputs": [
    {
     "ename": "NameError",
     "evalue": "name 'player_names' is not defined",
     "output_type": "error",
     "traceback": [
      "\u001b[0;31m---------------------------------------------------------------------------\u001b[0m",
      "\u001b[0;31mNameError\u001b[0m                                 Traceback (most recent call last)",
      "\u001b[0;32m/var/folders/k8/vtsm56916d36p2s0qdwfd4b40000gn/T/ipykernel_54937/236463189.py\u001b[0m in \u001b[0;36m<module>\u001b[0;34m\u001b[0m\n\u001b[0;32m----> 1\u001b[0;31m \u001b[0mplayer_names\u001b[0m\u001b[0;34m\u001b[0m\u001b[0;34m\u001b[0m\u001b[0m\n\u001b[0m",
      "\u001b[0;31mNameError\u001b[0m: name 'player_names' is not defined"
     ]
    }
   ],
   "source": [
    "player_names"
   ]
  },
  {
   "cell_type": "code",
   "execution_count": null,
   "metadata": {},
   "outputs": [],
   "source": [
    "for naming_of_variable in "
   ]
  },
  {
   "cell_type": "code",
   "execution_count": 29,
   "metadata": {
    "ExecuteTime": {
     "end_time": "2021-11-12T00:54:26.215675Z",
     "start_time": "2021-11-12T00:54:26.206704Z"
    }
   },
   "outputs": [
    {
     "name": "stdout",
     "output_type": "stream",
     "text": [
      "1\n",
      "Aaron Brooks\n",
      "2\n",
      "Aaron Gordon\n",
      "3\n",
      "Aaron Gray\n",
      "4\n",
      "Aaron Harrison\n",
      "5\n",
      "Aaron Holiday\n"
     ]
    }
   ],
   "source": [
    "count = 0\n",
    "for player in player_names:\n",
    "    count= count+ 1\n",
    "    print(count)\n",
    "    print(player)\n",
    "    if count == 5:\n",
    "        break"
   ]
  },
  {
   "cell_type": "markdown",
   "metadata": {},
   "source": [
    "Introduction to packages and most important one for data analysis -> pandas"
   ]
  },
  {
   "cell_type": "code",
   "execution_count": 1,
   "metadata": {
    "ExecuteTime": {
     "end_time": "2021-11-12T00:26:17.943937Z",
     "start_time": "2021-11-12T00:26:17.157135Z"
    }
   },
   "outputs": [],
   "source": [
    "import numpy as np\n",
    "import pandas as pd # helps observe and manipulate data \n",
    "import time\n",
    "import random\n",
    "import datetime"
   ]
  },
  {
   "cell_type": "code",
   "execution_count": 2,
   "metadata": {
    "ExecuteTime": {
     "end_time": "2021-11-12T00:26:22.516971Z",
     "start_time": "2021-11-12T00:26:18.729635Z"
    }
   },
   "outputs": [],
   "source": [
    "df = pd.read_csv(\"player_stats_by_game.csv\")"
   ]
  },
  {
   "cell_type": "code",
   "execution_count": 22,
   "metadata": {
    "ExecuteTime": {
     "end_time": "2021-11-12T00:51:45.881266Z",
     "start_time": "2021-11-12T00:51:45.752922Z"
    }
   },
   "outputs": [],
   "source": [
    "player_names = df[\"PLAYER NAME\"].unique()\n",
    "player_names = list(player_names)"
   ]
  },
  {
   "cell_type": "code",
   "execution_count": null,
   "metadata": {},
   "outputs": [],
   "source": [
    "# how to choose 1 column\n",
    "\n",
    "# how to choose 2 columns\n"
   ]
  },
  {
   "cell_type": "code",
   "execution_count": null,
   "metadata": {},
   "outputs": [],
   "source": [
    "# how to filter the dataframe with a person's name\n",
    "\n",
    "# how to filter the dataframe with multiple names\n",
    "\n"
   ]
  }
 ],
 "metadata": {
  "hide_input": false,
  "kernelspec": {
   "display_name": "Python 3 (ipykernel)",
   "language": "python",
   "name": "python3"
  },
  "language_info": {
   "codemirror_mode": {
    "name": "ipython",
    "version": 3
   },
   "file_extension": ".py",
   "mimetype": "text/x-python",
   "name": "python",
   "nbconvert_exporter": "python",
   "pygments_lexer": "ipython3",
   "version": "3.9.6"
  },
  "toc": {
   "base_numbering": 1,
   "nav_menu": {},
   "number_sections": true,
   "sideBar": true,
   "skip_h1_title": false,
   "title_cell": "Table of Contents",
   "title_sidebar": "Contents",
   "toc_cell": false,
   "toc_position": {},
   "toc_section_display": true,
   "toc_window_display": false
  },
  "varInspector": {
   "cols": {
    "lenName": 16,
    "lenType": 16,
    "lenVar": 40
   },
   "kernels_config": {
    "python": {
     "delete_cmd_postfix": "",
     "delete_cmd_prefix": "del ",
     "library": "var_list.py",
     "varRefreshCmd": "print(var_dic_list())"
    },
    "r": {
     "delete_cmd_postfix": ") ",
     "delete_cmd_prefix": "rm(",
     "library": "var_list.r",
     "varRefreshCmd": "cat(var_dic_list()) "
    }
   },
   "types_to_exclude": [
    "module",
    "function",
    "builtin_function_or_method",
    "instance",
    "_Feature"
   ],
   "window_display": false
  }
 },
 "nbformat": 4,
 "nbformat_minor": 4
}
