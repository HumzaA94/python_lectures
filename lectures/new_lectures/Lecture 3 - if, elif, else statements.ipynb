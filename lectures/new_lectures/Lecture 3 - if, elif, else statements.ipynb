{
 "cells": [
  {
   "cell_type": "markdown",
   "id": "601a1287",
   "metadata": {},
   "source": [
    "**if Statements**\n",
    "\n",
    "The idea of an if else statement is to create a logic behind your code.\n",
    "\n",
    "You provide a condition for the code to check and if it satisfies the condition then you perform certain code for the satisfied condition.\n",
    "\n",
    "code format:\n",
    "\n",
    "if (code_condition):\n",
    "    code to run for condition"
   ]
  },
  {
   "cell_type": "code",
   "execution_count": 2,
   "id": "5efc741b",
   "metadata": {
    "ExecuteTime": {
     "end_time": "2022-05-24T23:17:35.808744Z",
     "start_time": "2022-05-24T23:17:05.901577Z"
    }
   },
   "outputs": [
    {
     "name": "stdout",
     "output_type": "stream",
     "text": [
      "Enter a value of your choice: 1\n",
      "value is 1 \n",
      "value will now change to 2\n",
      "value is 2\n"
     ]
    }
   ],
   "source": [
    "int_variable = input(\"Enter a value of your choice: \")\n",
    "int_variable = int(int_variable)\n",
    "\n",
    "    \n",
    "if int_variable <1: \n",
    "    print(\"Entered value less than 1\")\n",
    "if int_variable == 1:\n",
    "    print(\"value is 1 \")\n",
    "    print(\"value will now change to 2\")\n",
    "    int_variable = 2\n",
    "if int_variable ==2:\n",
    "    print(\"value is 2\")\n",
    "if int_variable ==3: \n",
    "    print(\"Value is 3\") \n",
    "if int_variable >3: \n",
    "    print(\"Entered value greater than 3\")"
   ]
  },
  {
   "cell_type": "code",
   "execution_count": 9,
   "id": "f8db15c0",
   "metadata": {
    "ExecuteTime": {
     "end_time": "2022-05-18T16:11:18.367258Z",
     "start_time": "2022-05-18T16:11:18.362430Z"
    }
   },
   "outputs": [],
   "source": [
    "int_variable = 7"
   ]
  },
  {
   "cell_type": "code",
   "execution_count": 10,
   "id": "e25ad2fb",
   "metadata": {
    "ExecuteTime": {
     "end_time": "2022-05-18T16:11:19.087648Z",
     "start_time": "2022-05-18T16:11:19.081259Z"
    }
   },
   "outputs": [
    {
     "name": "stdout",
     "output_type": "stream",
     "text": [
      "value is not 2\n"
     ]
    }
   ],
   "source": [
    "if int_variable == 2:\n",
    "    print(\"The value is 2\")\n",
    "else:\n",
    "    print(\"value is not 2\")"
   ]
  },
  {
   "cell_type": "markdown",
   "id": "1638bbb0",
   "metadata": {},
   "source": [
    "**if, elif and else Statements**\n",
    "\n",
    "the `elif` keyword works along with the `if` statement. The way it works is that it checks \"if the previous conditions were not true, then try this condition\".\n",
    "\n",
    "the `else` keyword works with `if` and `elif` statements. That if nothing is true in the previous conditions, to run whatever is mentioned in the `else` statement."
   ]
  },
  {
   "cell_type": "code",
   "execution_count": 6,
   "id": "fd7cc24a",
   "metadata": {
    "ExecuteTime": {
     "end_time": "2022-05-24T23:25:05.473310Z",
     "start_time": "2022-05-24T23:25:05.466924Z"
    }
   },
   "outputs": [],
   "source": [
    "grade = 40"
   ]
  },
  {
   "cell_type": "code",
   "execution_count": 9,
   "id": "e481a347",
   "metadata": {
    "ExecuteTime": {
     "end_time": "2022-05-24T23:25:16.780834Z",
     "start_time": "2022-05-24T23:25:16.773377Z"
    }
   },
   "outputs": [
    {
     "name": "stdout",
     "output_type": "stream",
     "text": [
      "F\n"
     ]
    }
   ],
   "source": [
    "if grade >= 80:\n",
    "    print(\"A+\")\n",
    "elif 70< grade <=80:\n",
    "    print(\"B+\")\n",
    "if grade >= 80:\n",
    "    print(\"B\")\n",
    "elif 60< grade <=70:\n",
    "    print(\"C\")\n",
    "elif 50< grade <=60:\n",
    "    print(\"D\")\n",
    "else:\n",
    "    print(\"F\")"
   ]
  },
  {
   "cell_type": "code",
   "execution_count": 22,
   "id": "9d828ef2",
   "metadata": {
    "ExecuteTime": {
     "end_time": "2022-05-18T16:22:58.467234Z",
     "start_time": "2022-05-18T16:22:58.454906Z"
    }
   },
   "outputs": [
    {
     "name": "stdout",
     "output_type": "stream",
     "text": [
      "F\n",
      "Student failed with grade of 40\n"
     ]
    }
   ],
   "source": [
    "successful_function = True\n",
    "if grade >= 80:\n",
    "    print(\"A+\")\n",
    "    passed=True\n",
    "if 70< grade <=80:\n",
    "    print(\"B\")\n",
    "    passed=True\n",
    "    \n",
    "if 60< grade <=70:\n",
    "    print(\"C\")\n",
    "    passed=True\n",
    "if 50< grade <=60:\n",
    "    print(\"D\")\n",
    "    passed=True\n",
    "else:\n",
    "    print(\"F\")\n",
    "    passed=False\n",
    "    \n",
    "    \n",
    "if passed == True:\n",
    "    print(f\"Student passed with grade of {grade}\")\n",
    "else:\n",
    "    print(f\"Student failed with grade of {grade}\")"
   ]
  },
  {
   "cell_type": "code",
   "execution_count": 23,
   "id": "7e768bfc",
   "metadata": {
    "ExecuteTime": {
     "end_time": "2022-05-18T16:32:03.749267Z",
     "start_time": "2022-05-18T16:32:03.732589Z"
    }
   },
   "outputs": [
    {
     "name": "stdout",
     "output_type": "stream",
     "text": [
      "the followinf\n"
     ]
    }
   ],
   "source": [
    "if \"this word\" in \"this word as well\":\n",
    "    print('the following')\n",
    "else:\n",
    "    print(\"doesn't exist\")"
   ]
  },
  {
   "cell_type": "code",
   "execution_count": null,
   "id": "66e7d216",
   "metadata": {},
   "outputs": [],
   "source": []
  }
 ],
 "metadata": {
  "kernelspec": {
   "display_name": "Python 3 (ipykernel)",
   "language": "python",
   "name": "python3"
  },
  "language_info": {
   "codemirror_mode": {
    "name": "ipython",
    "version": 3
   },
   "file_extension": ".py",
   "mimetype": "text/x-python",
   "name": "python",
   "nbconvert_exporter": "python",
   "pygments_lexer": "ipython3",
   "version": "3.7.9"
  },
  "toc": {
   "base_numbering": 1,
   "nav_menu": {},
   "number_sections": true,
   "sideBar": true,
   "skip_h1_title": false,
   "title_cell": "Table of Contents",
   "title_sidebar": "Contents",
   "toc_cell": false,
   "toc_position": {},
   "toc_section_display": true,
   "toc_window_display": false
  }
 },
 "nbformat": 4,
 "nbformat_minor": 5
}
