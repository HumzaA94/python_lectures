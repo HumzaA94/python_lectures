{
 "cells": [
  {
   "cell_type": "markdown",
   "id": "601a1287",
   "metadata": {},
   "source": [
    "**if Statements**\n",
    "\n",
    "The idea of an if else statement is to create a logic behind your code.\n",
    "\n",
    "You provide a condition for the code to check and if it satisfies the condition then you perform certain code for the satisfied condition.\n",
    "\n",
    "code format:\n",
    "\n",
    "if (code_condition):\n",
    "    code to run for condition"
   ]
  },
  {
   "cell_type": "code",
   "execution_count": 1,
   "id": "5efc741b",
   "metadata": {
    "ExecuteTime": {
     "end_time": "2022-09-08T22:13:46.866280Z",
     "start_time": "2022-09-08T22:13:41.427590Z"
    }
   },
   "outputs": [
    {
     "name": "stdout",
     "output_type": "stream",
     "text": [
      "Enter a value of your choice: 1\n",
      "value is 1 \n",
      "value will now change to 2\n",
      "value is 2\n"
     ]
    }
   ],
   "source": [
    "int_variable = input(\"Enter a value of your choice: \")\n",
    "int_variable = int(int_variable)\n",
    "\n",
    "    \n",
    "if int_variable <1: \n",
    "    print(\"Entered value less than 1\")    \n",
    "    print(\"yes\")\n",
    "if int_variable == 1:\n",
    "    print(\"value is 1 \")\n",
    "    print(\"value will now change to 2\")\n",
    "    int_variable = 2\n",
    "    int_variable = 2\n",
    "if int_variable ==2:\n",
    "    print(\"value is 2\")\n",
    "if int_variable ==3: \n",
    "    print(\"Value is 3\")\n",
    "    print(\"this time with more information\")\n",
    "if int_variable >3: \n",
    "    print(\"Entered value greater than 3\")"
   ]
  },
  {
   "cell_type": "code",
   "execution_count": 6,
   "id": "bb3ff276",
   "metadata": {
    "ExecuteTime": {
     "end_time": "2022-09-08T22:27:24.070877Z",
     "start_time": "2022-09-08T22:27:24.066254Z"
    }
   },
   "outputs": [],
   "source": [
    "def get_input_as_int():\n",
    "    response = input(\"Enter a value of your choice: \")\n",
    "    response = int(response)\n",
    "    return response"
   ]
  },
  {
   "cell_type": "code",
   "execution_count": 8,
   "id": "51e007a2",
   "metadata": {
    "ExecuteTime": {
     "end_time": "2022-09-08T22:30:25.523715Z",
     "start_time": "2022-09-08T22:30:25.504460Z"
    }
   },
   "outputs": [],
   "source": [
    "nba = \"NBA\""
   ]
  },
  {
   "cell_type": "code",
   "execution_count": null,
   "id": "291a68c8",
   "metadata": {},
   "outputs": [],
   "source": [
    "nba"
   ]
  },
  {
   "cell_type": "code",
   "execution_count": 7,
   "id": "5003957f",
   "metadata": {
    "ExecuteTime": {
     "end_time": "2022-09-08T22:27:53.093915Z",
     "start_time": "2022-09-08T22:27:47.252821Z"
    }
   },
   "outputs": [
    {
     "name": "stdout",
     "output_type": "stream",
     "text": [
      "Enter a value of your choice: 4\n"
     ]
    },
    {
     "data": {
      "text/plain": [
       "4"
      ]
     },
     "execution_count": 7,
     "metadata": {},
     "output_type": "execute_result"
    }
   ],
   "source": [
    "get_input_as_int()"
   ]
  },
  {
   "cell_type": "code",
   "execution_count": null,
   "id": "ca1d00b0",
   "metadata": {},
   "outputs": [],
   "source": [
    "if response == 1:\n",
    "    print(\"the program is getting weather forecast information\")\n",
    "    response = 2\n",
    "else:\n",
    "    print('you have entered an incorrect value')"
   ]
  },
  {
   "cell_type": "code",
   "execution_count": 3,
   "id": "0cb20f62",
   "metadata": {
    "ExecuteTime": {
     "end_time": "2022-09-08T22:14:41.159335Z",
     "start_time": "2022-09-08T22:14:40.022779Z"
    },
    "code_folding": []
   },
   "outputs": [
    {
     "name": "stdout",
     "output_type": "stream",
     "text": [
      "Enter a value of your choice: 2\n",
      "the program is getting financial breakdown\n"
     ]
    }
   ],
   "source": [
    "\n",
    "\n",
    "\n",
    "if response == \"player_level\":\n",
    "    print(\"the program is getting weather forecast information\")\n",
    "    response = 2\n",
    "elif response == \"team_level/coaching staff\":\n",
    "        print(\"the program is getting financial breakdown\")\n",
    "elif response == \"new signings/rumours/injuries\":\n",
    "        print(\"the program is getting today's news\")\n",
    "else:\n",
    "    print('you have entered an incorrect value')"
   ]
  },
  {
   "cell_type": "code",
   "execution_count": 5,
   "id": "fefa0b01",
   "metadata": {
    "ExecuteTime": {
     "end_time": "2022-09-06T22:23:49.070887Z",
     "start_time": "2022-09-06T22:23:49.066619Z"
    }
   },
   "outputs": [],
   "source": [
    "string = \"\"\"select one out of the 3 options\n",
    "1. get today's weather forecast\n",
    "2. get today's financial breakdown\n",
    "3. get today's news\"\"\""
   ]
  },
  {
   "cell_type": "code",
   "execution_count": 11,
   "id": "1db78020",
   "metadata": {
    "ExecuteTime": {
     "end_time": "2022-09-06T22:29:44.324834Z",
     "start_time": "2022-09-06T22:29:41.284423Z"
    }
   },
   "outputs": [
    {
     "name": "stdout",
     "output_type": "stream",
     "text": [
      "enter username1\n",
      "enter password1\n"
     ]
    }
   ],
   "source": [
    "username = input(\"enter username\")\n",
    "password = input(\"enter password\")"
   ]
  },
  {
   "cell_type": "code",
   "execution_count": 23,
   "id": "8db80005",
   "metadata": {
    "ExecuteTime": {
     "end_time": "2022-09-06T22:34:31.025016Z",
     "start_time": "2022-09-06T22:34:31.012848Z"
    }
   },
   "outputs": [],
   "source": [
    "string = \"\"\"select one out of the 3 options\n",
    "1. get today's weather forecast\n",
    "2. get today's financial breakdown\n",
    "3. get today's news \\n \"\"\""
   ]
  },
  {
   "cell_type": "code",
   "execution_count": 55,
   "id": "4ba2b64a",
   "metadata": {
    "ExecuteTime": {
     "end_time": "2022-09-06T23:00:20.523814Z",
     "start_time": "2022-09-06T23:00:18.459542Z"
    }
   },
   "outputs": [
    {
     "name": "stdout",
     "output_type": "stream",
     "text": [
      "select one out of the 3 options\n",
      "1. get today's weather forecast\n",
      "2. get today's financial breakdown\n",
      "3. get today's news \n",
      " 7\n",
      "you have entered an incorrect value\n"
     ]
    }
   ],
   "source": [
    "response = input(prompt=string)\n",
    "response = (re.findall('\\d+', response))[0]\n",
    "response = int(response)\n",
    "\n"
   ]
  },
  {
   "cell_type": "code",
   "execution_count": 39,
   "id": "51acfed5",
   "metadata": {
    "ExecuteTime": {
     "end_time": "2022-09-06T22:43:08.236755Z",
     "start_time": "2022-09-06T22:43:08.230266Z"
    }
   },
   "outputs": [],
   "source": [
    "import re\n"
   ]
  },
  {
   "cell_type": "code",
   "execution_count": 42,
   "id": "86890dd2",
   "metadata": {
    "ExecuteTime": {
     "end_time": "2022-09-06T22:43:31.307888Z",
     "start_time": "2022-09-06T22:43:31.302295Z"
    }
   },
   "outputs": [],
   "source": [
    "response = int(response)"
   ]
  },
  {
   "cell_type": "code",
   "execution_count": 9,
   "id": "f8db15c0",
   "metadata": {
    "ExecuteTime": {
     "end_time": "2022-05-18T16:11:18.367258Z",
     "start_time": "2022-05-18T16:11:18.362430Z"
    }
   },
   "outputs": [],
   "source": [
    "int_variable = 7"
   ]
  },
  {
   "cell_type": "code",
   "execution_count": 95,
   "id": "2bafc3ad",
   "metadata": {
    "ExecuteTime": {
     "end_time": "2022-09-06T23:26:25.989060Z",
     "start_time": "2022-09-06T23:26:25.984173Z"
    }
   },
   "outputs": [
    {
     "name": "stdout",
     "output_type": "stream",
     "text": [
      "['.DS_Store', 'test.py', 'README.md', '.gitignore', 'lectures', '.git', 'data']\n"
     ]
    }
   ],
   "source": [
    "\n",
    "import glob\n",
    "print(os.listdir(\"/Users/humzaahmed/Desktop/coding_content/python_lectures/\"))"
   ]
  },
  {
   "cell_type": "code",
   "execution_count": 10,
   "id": "e25ad2fb",
   "metadata": {
    "ExecuteTime": {
     "end_time": "2022-05-18T16:11:19.087648Z",
     "start_time": "2022-05-18T16:11:19.081259Z"
    }
   },
   "outputs": [
    {
     "name": "stdout",
     "output_type": "stream",
     "text": [
      "value is not 2\n"
     ]
    }
   ],
   "source": [
    "if int_variable == 2:\n",
    "    print(\"The value is 2\")\n",
    "else:\n",
    "    print(\"value is not 2\")"
   ]
  },
  {
   "cell_type": "markdown",
   "id": "1638bbb0",
   "metadata": {},
   "source": [
    "**if, elif and else Statements**\n",
    "\n",
    "the `elif` keyword works along with the `if` statement. The way it works is that it checks \"if the previous conditions were not true, then try this condition\".\n",
    "\n",
    "the `else` keyword works with `if` and `elif` statements. That if nothing is true in the previous conditions, to run whatever is mentioned in the `else` statement."
   ]
  },
  {
   "cell_type": "code",
   "execution_count": 84,
   "id": "fd7cc24a",
   "metadata": {
    "ExecuteTime": {
     "end_time": "2022-09-06T23:09:43.022694Z",
     "start_time": "2022-09-06T23:09:43.019556Z"
    }
   },
   "outputs": [],
   "source": [
    "grade = 90"
   ]
  },
  {
   "cell_type": "code",
   "execution_count": 85,
   "id": "e481a347",
   "metadata": {
    "ExecuteTime": {
     "end_time": "2022-09-06T23:09:43.278149Z",
     "start_time": "2022-09-06T23:09:43.268901Z"
    },
    "code_folding": []
   },
   "outputs": [
    {
     "name": "stdout",
     "output_type": "stream",
     "text": [
      "A+\n"
     ]
    }
   ],
   "source": [
    "if grade >= 80:\n",
    "    print(\"A+\")\n",
    "if grade >=95:\n",
    "    print(\"can't believe it\")\n",
    "elif grade > 90:\n",
    "    print(\"superstar\")\n",
    "elif 80< grade <= 90:\n",
    "    pass\n",
    "elif 70< grade <=80:\n",
    "    print(\"B+\")\n",
    "elif 60< grade <=70:\n",
    "    print(\"C\")\n",
    "elif 50< grade <=60:\n",
    "    print(\"D\")\n",
    "else:\n",
    "    print(\"F\")"
   ]
  },
  {
   "cell_type": "code",
   "execution_count": 22,
   "id": "9d828ef2",
   "metadata": {
    "ExecuteTime": {
     "end_time": "2022-05-18T16:22:58.467234Z",
     "start_time": "2022-05-18T16:22:58.454906Z"
    }
   },
   "outputs": [
    {
     "name": "stdout",
     "output_type": "stream",
     "text": [
      "F\n",
      "Student failed with grade of 40\n"
     ]
    }
   ],
   "source": [
    "successful_function = True\n",
    "if grade >= 80:\n",
    "    print(\"A+\")\n",
    "    passed=True\n",
    "if 70< grade <=80:\n",
    "    print(\"B\")\n",
    "    passed=True\n",
    "    \n",
    "if 60< grade <=70:\n",
    "    print(\"C\")\n",
    "    passed=True\n",
    "if 50< grade <=60:\n",
    "    print(\"D\")\n",
    "    passed=True\n",
    "else:\n",
    "    print(\"F\")\n",
    "    passed=False\n",
    "    \n",
    "    \n",
    "if letter_grade in [\"A+\", \"B\", \"C\", \"D\"]:\n",
    "    print(f\"Student passed with grade of {grade}\")\n",
    "else:\n",
    "    print(f\"Student failed with grade of {grade}\")\n",
    "    \n",
    "if 50<grade:\n",
    "    print(f\"Student passed with grade of {grade}\")\n",
    "else:\n",
    "    print(f\"Student failed with grade of {grade}\")\n",
    "    \n",
    "if passed==True:\n",
    "    print(f\"Student passed with grade of {grade}\")\n",
    "else:\n",
    "    print(f\"Student failed with grade of {grade}\")"
   ]
  },
  {
   "cell_type": "code",
   "execution_count": 23,
   "id": "7e768bfc",
   "metadata": {
    "ExecuteTime": {
     "end_time": "2022-05-18T16:32:03.749267Z",
     "start_time": "2022-05-18T16:32:03.732589Z"
    }
   },
   "outputs": [
    {
     "name": "stdout",
     "output_type": "stream",
     "text": [
      "the followinf\n"
     ]
    }
   ],
   "source": [
    "if \"this word\" in \"this word as well\":\n",
    "    print('the following')\n",
    "else:\n",
    "    print(\"doesn't exist\")"
   ]
  },
  {
   "cell_type": "code",
   "execution_count": 105,
   "id": "66e7d216",
   "metadata": {
    "ExecuteTime": {
     "end_time": "2022-09-06T23:49:48.195331Z",
     "start_time": "2022-09-06T23:49:48.190123Z"
    }
   },
   "outputs": [],
   "source": [
    "\n",
    "def check_if_value_to_integer(x):\n",
    "    try:\n",
    "        int(x)\n",
    "        return True\n",
    "    except Exception:\n",
    "        return False"
   ]
  },
  {
   "cell_type": "code",
   "execution_count": 106,
   "id": "e3c44e2c",
   "metadata": {
    "ExecuteTime": {
     "end_time": "2022-09-06T23:49:49.152916Z",
     "start_time": "2022-09-06T23:49:49.100715Z"
    }
   },
   "outputs": [
    {
     "ename": "TypeError",
     "evalue": "check_if_value_to_integer() missing 1 required positional argument: 'x'",
     "output_type": "error",
     "traceback": [
      "\u001b[0;31m---------------------------------------------------------------------------\u001b[0m",
      "\u001b[0;31mTypeError\u001b[0m                                 Traceback (most recent call last)",
      "\u001b[0;32m/var/folders/4s/hrv735dn21v03p8hht2v514w0000gn/T/ipykernel_51120/2897717991.py\u001b[0m in \u001b[0;36m<module>\u001b[0;34m\u001b[0m\n\u001b[1;32m      1\u001b[0m \u001b[0many_value_provided_to_function\u001b[0m\u001b[0;34m=\u001b[0m\u001b[0;34m\"12 \"\u001b[0m\u001b[0;34m\u001b[0m\u001b[0;34m\u001b[0m\u001b[0m\n\u001b[0;32m----> 2\u001b[0;31m \u001b[0mboolean_response\u001b[0m \u001b[0;34m=\u001b[0m \u001b[0mcheck_if_value_to_integer\u001b[0m\u001b[0;34m(\u001b[0m\u001b[0;34m)\u001b[0m\u001b[0;34m\u001b[0m\u001b[0;34m\u001b[0m\u001b[0m\n\u001b[0m\u001b[1;32m      3\u001b[0m \u001b[0;32mif\u001b[0m \u001b[0mboolean_response\u001b[0m\u001b[0;34m==\u001b[0m\u001b[0;32mTrue\u001b[0m\u001b[0;34m:\u001b[0m\u001b[0;34m\u001b[0m\u001b[0;34m\u001b[0m\u001b[0m\n\u001b[1;32m      4\u001b[0m     \u001b[0mprint\u001b[0m\u001b[0;34m(\u001b[0m\u001b[0mint\u001b[0m\u001b[0;34m(\u001b[0m\u001b[0many_value_provided_to_function\u001b[0m\u001b[0;34m)\u001b[0m\u001b[0;34m)\u001b[0m\u001b[0;34m\u001b[0m\u001b[0;34m\u001b[0m\u001b[0m\n\u001b[1;32m      5\u001b[0m \u001b[0;32melse\u001b[0m\u001b[0;34m:\u001b[0m\u001b[0;34m\u001b[0m\u001b[0;34m\u001b[0m\u001b[0m\n",
      "\u001b[0;31mTypeError\u001b[0m: check_if_value_to_integer() missing 1 required positional argument: 'x'"
     ]
    }
   ],
   "source": [
    "any_value_provided_to_function=\"12 \"\n",
    "boolean_response = check_if_value_to_integer()\n",
    "if boolean_response==True:\n",
    "    print(int(any_value_provided_to_function))\n",
    "else:\n",
    "    print(f\"Cannot convert value to integer: {any_value_provided_to_function}\")"
   ]
  },
  {
   "cell_type": "code",
   "execution_count": null,
   "id": "0a2e3f6e",
   "metadata": {},
   "outputs": [],
   "source": []
  }
 ],
 "metadata": {
  "hide_input": false,
  "kernelspec": {
   "display_name": "Python 3 (ipykernel)",
   "language": "python",
   "name": "python3"
  },
  "language_info": {
   "codemirror_mode": {
    "name": "ipython",
    "version": 3
   },
   "file_extension": ".py",
   "mimetype": "text/x-python",
   "name": "python",
   "nbconvert_exporter": "python",
   "pygments_lexer": "ipython3",
   "version": "3.7.9"
  },
  "toc": {
   "base_numbering": 1,
   "nav_menu": {},
   "number_sections": true,
   "sideBar": true,
   "skip_h1_title": false,
   "title_cell": "Table of Contents",
   "title_sidebar": "Contents",
   "toc_cell": false,
   "toc_position": {},
   "toc_section_display": true,
   "toc_window_display": false
  },
  "varInspector": {
   "cols": {
    "lenName": 16,
    "lenType": 16,
    "lenVar": 40
   },
   "kernels_config": {
    "python": {
     "delete_cmd_postfix": "",
     "delete_cmd_prefix": "del ",
     "library": "var_list.py",
     "varRefreshCmd": "print(var_dic_list())"
    },
    "r": {
     "delete_cmd_postfix": ") ",
     "delete_cmd_prefix": "rm(",
     "library": "var_list.r",
     "varRefreshCmd": "cat(var_dic_list()) "
    }
   },
   "types_to_exclude": [
    "module",
    "function",
    "builtin_function_or_method",
    "instance",
    "_Feature"
   ],
   "window_display": false
  }
 },
 "nbformat": 4,
 "nbformat_minor": 5
}
