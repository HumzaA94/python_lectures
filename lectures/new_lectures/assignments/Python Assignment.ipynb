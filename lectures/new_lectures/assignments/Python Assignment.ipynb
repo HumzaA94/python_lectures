{
 "cells": [
  {
   "cell_type": "markdown",
   "id": "bff927bb",
   "metadata": {},
   "source": [
    "**PYTHON ASSIGNMENT**\n",
    "\n",
    "### Theoretical Questions"
   ]
  },
  {
   "cell_type": "code",
   "execution_count": null,
   "id": "d0248846",
   "metadata": {},
   "outputs": [],
   "source": [
    "import json\n",
    "\n",
    "value = json.load(\"filepath.json\")"
   ]
  },
  {
   "cell_type": "code",
   "execution_count": null,
   "id": "feffd910",
   "metadata": {
    "ExecuteTime": {
     "end_time": "2022-11-10T23:25:40.692609Z",
     "start_time": "2022-11-10T23:25:40.683895Z"
    }
   },
   "outputs": [],
   "source": [
    "json.dumps(dict_)"
   ]
  },
  {
   "cell_type": "code",
   "execution_count": null,
   "id": "755f59ea",
   "metadata": {
    "ExecuteTime": {
     "end_time": "2022-11-10T23:25:33.961179Z",
     "start_time": "2022-11-10T23:25:33.957498Z"
    }
   },
   "outputs": [],
   "source": [
    "dict_ = {\"a\":[\"1\",1]}"
   ]
  },
  {
   "cell_type": "code",
   "execution_count": null,
   "id": "163af933",
   "metadata": {
    "ExecuteTime": {
     "end_time": "2022-11-10T23:23:30.865761Z",
     "start_time": "2022-11-10T23:23:30.859211Z"
    }
   },
   "outputs": [],
   "source": [
    "type(json.loads(string_variable))\n"
   ]
  },
  {
   "cell_type": "code",
   "execution_count": null,
   "id": "582bc83f",
   "metadata": {
    "ExecuteTime": {
     "end_time": "2022-11-10T23:29:29.260477Z",
     "start_time": "2022-11-10T23:29:29.257038Z"
    }
   },
   "outputs": [],
   "source": [
    "a = [1,1,2,5]"
   ]
  },
  {
   "cell_type": "code",
   "execution_count": null,
   "id": "74526d6d",
   "metadata": {
    "ExecuteTime": {
     "end_time": "2022-11-10T23:29:29.547297Z",
     "start_time": "2022-11-10T23:29:29.543119Z"
    }
   },
   "outputs": [],
   "source": [
    "b=[1,2,4,5]"
   ]
  },
  {
   "cell_type": "code",
   "execution_count": null,
   "id": "a392a3db",
   "metadata": {
    "ExecuteTime": {
     "end_time": "2022-11-10T23:37:49.613133Z",
     "start_time": "2022-11-10T23:37:49.606621Z"
    }
   },
   "outputs": [],
   "source": [
    "same_values = []\n",
    "for val1 in a:\n",
    "    for val2 in b:\n",
    "        if val2 in same_values:\n",
    "            continue\n",
    "        if val1 == val2:\n",
    "            same_values.append(val2)"
   ]
  },
  {
   "cell_type": "code",
   "execution_count": null,
   "id": "a0abd89c",
   "metadata": {
    "ExecuteTime": {
     "end_time": "2022-11-10T23:50:01.094792Z",
     "start_time": "2022-11-10T23:50:01.087686Z"
    }
   },
   "outputs": [],
   "source": [
    "10 == 10"
   ]
  },
  {
   "cell_type": "code",
   "execution_count": null,
   "id": "3bd6b0e8",
   "metadata": {},
   "outputs": [],
   "source": [
    "var same_values = [];\n",
    "for (var i=0; i < a.length ; i++) {\n",
    "    var val1 = a[i];\n",
    "    for (var j=0; j < b.length ; j++) {\n",
    "        var val2 = b[j];\n",
    "        if (val2 in same_values){\n",
    "            continue;\n",
    "        }\n",
    "        if (val1 == val2){\n",
    "            same_values.push(val2)\n",
    "        }\n",
    "        \n",
    "    }\n",
    "    \n",
    "}"
   ]
  },
  {
   "cell_type": "code",
   "execution_count": null,
   "id": "a57863f3",
   "metadata": {
    "ExecuteTime": {
     "end_time": "2022-11-10T23:37:52.592301Z",
     "start_time": "2022-11-10T23:37:52.586049Z"
    }
   },
   "outputs": [],
   "source": [
    "same_values"
   ]
  },
  {
   "cell_type": "code",
   "execution_count": null,
   "id": "0d01ccc3",
   "metadata": {
    "ExecuteTime": {
     "end_time": "2022-11-10T23:33:51.993086Z",
     "start_time": "2022-11-10T23:33:51.983036Z"
    }
   },
   "outputs": [],
   "source": [
    "list(set(a).intersection(b))"
   ]
  },
  {
   "cell_type": "code",
   "execution_count": null,
   "id": "de6cc2d7",
   "metadata": {
    "ExecuteTime": {
     "end_time": "2022-11-10T23:29:33.184619Z",
     "start_time": "2022-11-10T23:29:33.174142Z"
    }
   },
   "outputs": [],
   "source": [
    "same_values"
   ]
  },
  {
   "cell_type": "code",
   "execution_count": null,
   "id": "09a07e97",
   "metadata": {},
   "outputs": [],
   "source": [
    "with a as open(\"filepath.json\"):\n",
    "    value = a.read()"
   ]
  },
  {
   "cell_type": "code",
   "execution_count": null,
   "id": "b9d9c18a",
   "metadata": {
    "ExecuteTime": {
     "end_time": "2022-11-11T00:03:21.834047Z",
     "start_time": "2022-11-11T00:03:21.822395Z"
    }
   },
   "outputs": [],
   "source": [
    "int_val = -1\n",
    "if int_val:\n",
    "    print(\"a\")\n",
    "else:\n",
    "    print('0 value')\n",
    "    \n",
    "string_val = \"0\"\n",
    "if string_val:\n",
    "    print(\"a\")\n",
    "else:\n",
    "    print('empty string')\n",
    "    \n",
    "list_val = [\"\"]\n",
    "if list_val:\n",
    "    print(\"a\")\n",
    "else:\n",
    "    print(\"empty list\")\n",
    "    \n",
    "dict_ = {\"a\":None}\n",
    "if dict_:\n",
    "    print(\"a\")\n",
    "else:\n",
    "    print(\"dict list\")"
   ]
  },
  {
   "cell_type": "code",
   "execution_count": null,
   "id": "4b7d678b",
   "metadata": {
    "ExecuteTime": {
     "end_time": "2022-11-11T00:10:22.836056Z",
     "start_time": "2022-11-11T00:10:22.830885Z"
    }
   },
   "outputs": [],
   "source": [
    "class User():\n",
    "    def __init__(self, username,password):\n",
    "        self.username = username\n",
    "        self.password =password"
   ]
  },
  {
   "cell_type": "code",
   "execution_count": null,
   "id": "764d64a4",
   "metadata": {
    "ExecuteTime": {
     "end_time": "2022-11-11T00:10:54.989467Z",
     "start_time": "2022-11-11T00:10:54.982595Z"
    }
   },
   "outputs": [],
   "source": [
    "user = User(\"hahmed\",1234)"
   ]
  },
  {
   "cell_type": "code",
   "execution_count": null,
   "id": "874f25f3",
   "metadata": {
    "ExecuteTime": {
     "end_time": "2022-11-11T00:10:55.429966Z",
     "start_time": "2022-11-11T00:10:55.423140Z"
    }
   },
   "outputs": [],
   "source": [
    "user.password"
   ]
  },
  {
   "cell_type": "code",
   "execution_count": null,
   "id": "54920c15",
   "metadata": {
    "code_folding": []
   },
   "outputs": [],
   "source": [
    "# assume we are logging into a website, and let the variable be user \n",
    "user.username\n",
    "user.password\n",
    "if user.username == True:\n",
    "        if a:\n",
    "            print(\"a\")\n",
    "        else:\n",
    "            print(\"random\")\n",
    "    if user.password == True:\n",
    "        a = 0\n",
    "        if a:\n",
    "            print(\"a\")\n",
    "        else:\n",
    "            print(\"random\")\n",
    "        return True\n",
    "    else:\n",
    "        raise Exception(\"incorrect pasword\")\n",
    "else:\n",
    "    raise Exception(\"incorrect username\")\n"
   ]
  },
  {
   "cell_type": "code",
   "execution_count": null,
   "id": "fdcd62c9",
   "metadata": {},
   "outputs": [],
   "source": [
    "# guard coding style\n",
    "\n",
    "if user.username != True:\n",
    "    raise Exception(\"incorrect username\")\n",
    "if user.password != True:\n",
    "    raise Exception(\"incorrect pasword\")\n",
    "\n",
    "return True\n"
   ]
  },
  {
   "cell_type": "code",
   "execution_count": null,
   "id": "13638ad7",
   "metadata": {
    "ExecuteTime": {
     "end_time": "2022-11-11T00:07:13.511386Z",
     "start_time": "2022-11-11T00:07:13.503996Z"
    }
   },
   "outputs": [],
   "source": [
    "if a is None:\n",
    "    print(\"A\")\n",
    "elif not a:\n",
    "    print(a)\n",
    "else:\n",
    "    print(\"None\")"
   ]
  },
  {
   "cell_type": "code",
   "execution_count": null,
   "id": "148000cc",
   "metadata": {},
   "outputs": [],
   "source": [
    "if len(list_)==0:\n",
    "    "
   ]
  },
  {
   "cell_type": "markdown",
   "id": "34add32d",
   "metadata": {},
   "source": [
    "1. **What type of language is Python? Which language is Python built on?**\n",
    "\n",
    "\n",
    "2. **Is a docx file read in the same way as a txt file? Which ones are json files similar to?**\n",
    "\n",
    "\n",
    "3. **What is the difference between a list and a set?**\n",
    "\n",
    "\n",
    "4. **Which of the following if statements is a correct representation chained if statements? Multiple answers are allowed.**\n",
    "\n",
    "```\n",
    "var = True\n",
    "# OPTION A\n",
    "if var == True:\n",
    " print(\"var is True\")\n",
    "else:\n",
    "  print(\"var is False\")\n",
    "  \n",
    "# OPTION B\n",
    "if var:\n",
    " print(\"var is True\")\n",
    " \n",
    "# OPTION C\n",
    "if var:\n",
    " print(\"var is True\")\n",
    "else:\n",
    "  print(\"var is False\")\n",
    "  \n",
    "# OPTION D\n",
    "if var==True:\n",
    " print(\"var is True\")\n",
    "if var==False:\n",
    "  print(\"var is False\")\n",
    "  \n",
    "# OPTION E\n",
    "if var==True:\n",
    " print(\"var is True\")\n",
    "elif var==False:\n",
    "  print(\"var is False\")\n",
    "else:\n",
    "  print(\"var is another value\")\n",
    "```\n",
    "\n",
    "5. **What is an f string?**\n",
    "\n",
    "\n",
    "6. **What are the benefits of writing a function? List at least 2.**\n",
    "\n",
    "\n",
    "7. **What are some native words of Python? How can we identify them?**\n",
    "\n",
    "\n",
    "8. **What do we refer to a position of a list? Which value does the first position start with?**\n"
   ]
  },
  {
   "cell_type": "markdown",
   "id": "7fac8249",
   "metadata": {},
   "source": [
    "### Fill in the Blanks"
   ]
  },
  {
   "cell_type": "markdown",
   "id": "01d901bc",
   "metadata": {
    "ExecuteTime": {
     "end_time": "2022-09-23T20:43:09.301238Z",
     "start_time": "2022-09-23T20:43:09.291244Z"
    }
   },
   "source": [
    "#### Question 1\n",
    "\n",
    "Fill in the blanks\n",
    "Question 1\n",
    "Create 2 of each kind of the following variables:\n",
    "float\n",
    "string\n",
    "bool\n",
    "list\n",
    "dictionary\n",
    "dataframe\n",
    "Aim is to create a new variable of each kind, added up. Indicate which of the variables is not possible to add up\n",
    "```\n",
    "# example using integer\n",
    "int_1 = 5 \n",
    "int_2 = 5\n",
    "new_int = int_1 + int_2\n",
    "\n",
    "```"
   ]
  },
  {
   "cell_type": "code",
   "execution_count": 14,
   "id": "f236aa32",
   "metadata": {
    "ExecuteTime": {
     "end_time": "2022-11-11T00:42:20.209232Z",
     "start_time": "2022-11-11T00:42:20.199310Z"
    }
   },
   "outputs": [
    {
     "name": "stdout",
     "output_type": "stream",
     "text": [
      "value is 0\n",
      "value is []\n",
      "value is \n",
      "value is {}\n",
      "value is False\n",
      "value is None\n"
     ]
    }
   ],
   "source": [
    "for item in [0,[], \"\", {}, False, None]:\n",
    "    if not item:\n",
    "        print(f\"value is {item}\")"
   ]
  },
  {
   "cell_type": "code",
   "execution_count": 16,
   "id": "dcd06bcb",
   "metadata": {
    "ExecuteTime": {
     "end_time": "2022-11-11T00:43:15.973318Z",
     "start_time": "2022-11-11T00:43:15.954281Z"
    }
   },
   "outputs": [],
   "source": [
    "list_1 = [\"a\"];\n",
    "list_2 = [\"b\"];\n",
    "list_1.concat(list_2);\n"
   ]
  },
  {
   "cell_type": "code",
   "execution_count": null,
   "id": "d129a89f",
   "metadata": {},
   "outputs": [],
   "source": [
    "Object.assign({}, dict_1, dict_2);"
   ]
  },
  {
   "cell_type": "code",
   "execution_count": null,
   "id": "6d4ac2a2",
   "metadata": {},
   "outputs": [],
   "source": []
  },
  {
   "cell_type": "code",
   "execution_count": 20,
   "id": "b100d566",
   "metadata": {
    "ExecuteTime": {
     "end_time": "2022-11-11T00:46:21.126904Z",
     "start_time": "2022-11-11T00:46:21.119085Z"
    }
   },
   "outputs": [],
   "source": [
    "# complete for dictionary\n",
    "dict_1 = {\"a\":[1,2]};\n",
    "dict_2 = {\"b\":[[1,2134]]};\n",
    "dict_1.merge(dict_2);"
   ]
  },
  {
   "cell_type": "code",
   "execution_count": 24,
   "id": "96a203a0",
   "metadata": {
    "ExecuteTime": {
     "end_time": "2022-11-11T00:50:49.684722Z",
     "start_time": "2022-11-11T00:50:47.780296Z"
    }
   },
   "outputs": [],
   "source": [
    "# Block of code to help with initial\n",
    "# complete for string\n",
    "str_1 = \"a\";\n",
    "str_2 = \"b\";\n",
    "new_str = str_1 + str_2;\n",
    "\n",
    "# complete for float\n",
    "float_1 = 1.5;\n",
    "float_2 = 22.4;\n",
    "new_float = float_1 + float_2;\n",
    "\n",
    "# complete for bool\n",
    "bool_1 = False;\n",
    "bool_2 = False;\n",
    "new_bool = bool_1 + bool_2;\n",
    "\n",
    "# complete for list\n",
    "list_1 = [\"a\"]\n",
    "list_2 = [\"b\"]\n",
    "list_1 += list_2\n",
    "\n",
    "\n",
    "# complete for dictionary\n",
    "dict_1 = {\"a\":[1,2]}\n",
    "dict_2 = {\"b\":[[1,2134]]}\n",
    "\n",
    "import pandas as pd\n",
    "# complete for dataframe, idea is to have a single column where one df is added above the other one\n",
    "df_1 = pd.DataFrame({'a':[1,2,34523]})\n",
    "df_2 = pd.DataFrame({'a':[1,35,325,5235]}) "
   ]
  },
  {
   "cell_type": "code",
   "execution_count": null,
   "id": "97417b18",
   "metadata": {},
   "outputs": [],
   "source": [
    "df_1 = pd.read_csv(\"path_to_csv\")"
   ]
  },
  {
   "cell_type": "code",
   "execution_count": null,
   "id": "943b9ccb",
   "metadata": {},
   "outputs": [],
   "source": [
    "glossary_df = pd.read_(\"\")"
   ]
  },
  {
   "cell_type": "code",
   "execution_count": 42,
   "id": "895fc259",
   "metadata": {
    "ExecuteTime": {
     "end_time": "2022-11-11T01:00:40.416394Z",
     "start_time": "2022-11-11T01:00:40.411917Z"
    }
   },
   "outputs": [],
   "source": [
    "pd.set_option('display.max_columns',100000000)"
   ]
  },
  {
   "cell_type": "code",
   "execution_count": 43,
   "id": "54578a74",
   "metadata": {
    "ExecuteTime": {
     "end_time": "2022-11-11T01:00:40.881377Z",
     "start_time": "2022-11-11T01:00:40.871354Z"
    }
   },
   "outputs": [
    {
     "data": {
      "text/html": [
       "<div>\n",
       "<style scoped>\n",
       "    .dataframe tbody tr th:only-of-type {\n",
       "        vertical-align: middle;\n",
       "    }\n",
       "\n",
       "    .dataframe tbody tr th {\n",
       "        vertical-align: top;\n",
       "    }\n",
       "\n",
       "    .dataframe thead th {\n",
       "        text-align: right;\n",
       "    }\n",
       "</style>\n",
       "<table border=\"1\" class=\"dataframe\">\n",
       "  <thead>\n",
       "    <tr style=\"text-align: right;\">\n",
       "      <th></th>\n",
       "      <th>a</th>\n",
       "    </tr>\n",
       "  </thead>\n",
       "  <tbody>\n",
       "    <tr>\n",
       "      <th>0</th>\n",
       "      <td>1</td>\n",
       "    </tr>\n",
       "    <tr>\n",
       "      <th>1</th>\n",
       "      <td>2</td>\n",
       "    </tr>\n",
       "    <tr>\n",
       "      <th>2</th>\n",
       "      <td>34523</td>\n",
       "    </tr>\n",
       "  </tbody>\n",
       "</table>\n",
       "</div>"
      ],
      "text/plain": [
       "       a\n",
       "0      1\n",
       "1      2\n",
       "2  34523"
      ]
     },
     "execution_count": 43,
     "metadata": {},
     "output_type": "execute_result"
    }
   ],
   "source": [
    "df_1"
   ]
  },
  {
   "cell_type": "code",
   "execution_count": 32,
   "id": "920f4432",
   "metadata": {
    "ExecuteTime": {
     "end_time": "2022-11-11T00:54:13.772798Z",
     "start_time": "2022-11-11T00:54:13.757917Z"
    }
   },
   "outputs": [
    {
     "data": {
      "text/html": [
       "<div>\n",
       "<style scoped>\n",
       "    .dataframe tbody tr th:only-of-type {\n",
       "        vertical-align: middle;\n",
       "    }\n",
       "\n",
       "    .dataframe tbody tr th {\n",
       "        vertical-align: top;\n",
       "    }\n",
       "\n",
       "    .dataframe thead th {\n",
       "        text-align: right;\n",
       "    }\n",
       "</style>\n",
       "<table border=\"1\" class=\"dataframe\">\n",
       "  <thead>\n",
       "    <tr style=\"text-align: right;\">\n",
       "      <th></th>\n",
       "      <th>a</th>\n",
       "    </tr>\n",
       "  </thead>\n",
       "  <tbody>\n",
       "    <tr>\n",
       "      <th>0</th>\n",
       "      <td>1</td>\n",
       "    </tr>\n",
       "    <tr>\n",
       "      <th>1</th>\n",
       "      <td>2</td>\n",
       "    </tr>\n",
       "    <tr>\n",
       "      <th>2</th>\n",
       "      <td>34523</td>\n",
       "    </tr>\n",
       "  </tbody>\n",
       "</table>\n",
       "</div>"
      ],
      "text/plain": [
       "       a\n",
       "0      1\n",
       "1      2\n",
       "2  34523"
      ]
     },
     "execution_count": 32,
     "metadata": {},
     "output_type": "execute_result"
    }
   ],
   "source": [
    "df_1 = pd.merge(df_1,glossary_df, how='left')"
   ]
  },
  {
   "cell_type": "code",
   "execution_count": null,
   "id": "16950eb6",
   "metadata": {},
   "outputs": [],
   "source": [
    "df_1.to_csv(\"path_to where you want the clean csv\")"
   ]
  },
  {
   "cell_type": "markdown",
   "id": "fb68f514",
   "metadata": {
    "ExecuteTime": {
     "end_time": "2022-09-23T20:44:40.449668Z",
     "start_time": "2022-09-23T20:44:40.445516Z"
    }
   },
   "source": [
    "#### Question 2\n",
    "\n",
    "##### List Manipulation\n",
    "Have the following list cleaned up where there is only one for for each different value.\n"
   ]
  },
  {
   "cell_type": "code",
   "execution_count": null,
   "id": "199a07f9",
   "metadata": {},
   "outputs": [],
   "source": []
  },
  {
   "cell_type": "code",
   "execution_count": 44,
   "id": "8e10bb38",
   "metadata": {
    "ExecuteTime": {
     "end_time": "2022-11-11T01:01:26.078229Z",
     "start_time": "2022-11-11T01:01:26.070873Z"
    }
   },
   "outputs": [],
   "source": [
    "list_ = [1,2,3,4,1,2,3,4,2,2,5,5,6,6,7,7]\n"
   ]
  },
  {
   "cell_type": "code",
   "execution_count": 46,
   "id": "bb6732b1",
   "metadata": {
    "ExecuteTime": {
     "end_time": "2022-11-11T01:01:38.223253Z",
     "start_time": "2022-11-11T01:01:38.213755Z"
    }
   },
   "outputs": [
    {
     "data": {
      "text/plain": [
       "[1, 2, 3, 4, 5, 6, 7]"
      ]
     },
     "execution_count": 46,
     "metadata": {},
     "output_type": "execute_result"
    }
   ],
   "source": [
    "list(set(list_))"
   ]
  },
  {
   "cell_type": "markdown",
   "id": "8b11b9fe",
   "metadata": {},
   "source": [
    "##### Function creation\n",
    "Following what you did in 2.2.1, create a function where you provide a list and returned back a clean list."
   ]
  },
  {
   "cell_type": "code",
   "execution_count": 47,
   "id": "6bcd5819",
   "metadata": {
    "ExecuteTime": {
     "end_time": "2022-11-11T01:02:10.600865Z",
     "start_time": "2022-11-11T01:02:10.591570Z"
    }
   },
   "outputs": [],
   "source": [
    "list_ = [1,2,3,4,1,2,3,4,2,2,5,5,6,6,7,7]\n",
    "\n",
    "def clean_list(list_):\n",
    "    list(set(list_))\n",
    "    return list(set(list_))\n",
    "    #\n",
    "    #\n",
    "    #\n",
    "    #\n",
    "    #\n",
    "    "
   ]
  },
  {
   "cell_type": "code",
   "execution_count": 48,
   "id": "e09e3949",
   "metadata": {
    "ExecuteTime": {
     "end_time": "2022-11-11T01:02:11.971836Z",
     "start_time": "2022-11-11T01:02:11.965409Z"
    }
   },
   "outputs": [
    {
     "name": "stdout",
     "output_type": "stream",
     "text": [
      "[1, 2, 3, 4, 5, 6, 7]\n"
     ]
    }
   ],
   "source": [
    "new_list = clean_list(list_)\n",
    "print(new_list)"
   ]
  },
  {
   "cell_type": "markdown",
   "id": "1c66c98e",
   "metadata": {},
   "source": [
    "#### Question 3\n",
    "\n",
    "Create a function that takes two arguments, name and age, and print their value. \n",
    "\n",
    "e.g. of output\n",
    "\n",
    "``` \n",
    "print_name_age(\"Jacques\", 22)\n",
    "output: \"My name is Jacques and I am 22 years old.\n",
    "```"
   ]
  },
  {
   "cell_type": "code",
   "execution_count": 52,
   "id": "dd84e532",
   "metadata": {
    "ExecuteTime": {
     "end_time": "2022-11-11T01:04:11.637312Z",
     "start_time": "2022-11-11T01:04:11.624513Z"
    }
   },
   "outputs": [],
   "source": [
    "def print_name_age(name: str, age: int) -> str:\n",
    "    string = f\"My name is {name.title()} and I am {age} years old.\"\n",
    "    print(string)\n",
    "    #\n",
    "    #\n",
    "    #\n",
    "    #\n",
    "    "
   ]
  },
  {
   "cell_type": "code",
   "execution_count": 54,
   "id": "f56f7b65",
   "metadata": {
    "ExecuteTime": {
     "end_time": "2022-11-11T01:04:19.920917Z",
     "start_time": "2022-11-11T01:04:19.913238Z"
    }
   },
   "outputs": [
    {
     "name": "stdout",
     "output_type": "stream",
     "text": [
      "My name is Humza and I am 0 years old.\n"
     ]
    }
   ],
   "source": [
    "name = \"humza\"\n",
    "age = 0\n",
    "print_name_age(name, age)"
   ]
  },
  {
   "cell_type": "markdown",
   "id": "3c1132a3",
   "metadata": {},
   "source": [
    "#### Question 4\n",
    "\n",
    "\n",
    "Assume we are trying to access an index of a list that does not exist. \n",
    "\n",
    "```\n",
    "list_ = [1,2,3]\n",
    "list_[10]\n",
    "output: indexerror\n",
    "```\n",
    "\n",
    "\n",
    "What is a way to help manage the error when a value is selected when we do not mean it? Edit the block of code accordingly."
   ]
  },
  {
   "cell_type": "code",
   "execution_count": 59,
   "id": "87250960",
   "metadata": {
    "ExecuteTime": {
     "end_time": "2022-11-11T01:06:39.247077Z",
     "start_time": "2022-11-11T01:06:39.233890Z"
    }
   },
   "outputs": [
    {
     "name": "stdout",
     "output_type": "stream",
     "text": [
      "The length of list is 3\n"
     ]
    }
   ],
   "source": [
    "list_ = [1,2,3]\n",
    "try:\n",
    "    list_[10]\n",
    "except IndexError as exc:\n",
    "    print(f\"The length of list is {len(list_)}\")"
   ]
  },
  {
   "cell_type": "markdown",
   "id": "401b98ca",
   "metadata": {},
   "source": [
    "### Leet Code Questions\n",
    "\n",
    "Aim is to have 3 out of 8 completed from the list.\n",
    "\n",
    "1. https://leetcode.com/problems/running-sum-of-1d-array/\n",
    "\n",
    "\n",
    "2. https://leetcode.com/problems/defanging-an-ip-address/\n",
    "\n",
    "3. https://leetcode.com/problems/smallest-even-multiple/\n",
    "\n",
    "4. https://leetcode.com/problems/richest-customer-wealth/\n",
    "\n",
    "\n",
    "5. https://leetcode.com/problems/maximum-number-of-words-found-in-sentences/\n",
    "\n",
    "\n",
    "6. https://leetcode.com/problems/jewels-and-stones/\n",
    "\n",
    "\n",
    "7. https://leetcode.com/problems/to-lower-case/\n",
    "\n",
    "\n",
    "8. https://leetcode.com/problems/sort-the-people/"
   ]
  }
 ],
 "metadata": {
  "hide_input": false,
  "kernelspec": {
   "display_name": "Python 3 (ipykernel)",
   "language": "python",
   "name": "python3"
  },
  "language_info": {
   "codemirror_mode": {
    "name": "ipython",
    "version": 3
   },
   "file_extension": ".py",
   "mimetype": "text/x-python",
   "name": "python",
   "nbconvert_exporter": "python",
   "pygments_lexer": "ipython3",
   "version": "3.7.9"
  },
  "toc": {
   "base_numbering": 1,
   "nav_menu": {},
   "number_sections": true,
   "sideBar": true,
   "skip_h1_title": false,
   "title_cell": "Table of Contents",
   "title_sidebar": "Contents",
   "toc_cell": false,
   "toc_position": {},
   "toc_section_display": true,
   "toc_window_display": true
  },
  "varInspector": {
   "cols": {
    "lenName": 16,
    "lenType": 16,
    "lenVar": 40
   },
   "kernels_config": {
    "python": {
     "delete_cmd_postfix": "",
     "delete_cmd_prefix": "del ",
     "library": "var_list.py",
     "varRefreshCmd": "print(var_dic_list())"
    },
    "r": {
     "delete_cmd_postfix": ") ",
     "delete_cmd_prefix": "rm(",
     "library": "var_list.r",
     "varRefreshCmd": "cat(var_dic_list()) "
    }
   },
   "types_to_exclude": [
    "module",
    "function",
    "builtin_function_or_method",
    "instance",
    "_Feature"
   ],
   "window_display": false
  }
 },
 "nbformat": 4,
 "nbformat_minor": 5
}
