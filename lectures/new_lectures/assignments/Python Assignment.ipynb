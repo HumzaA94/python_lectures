{
 "cells": [
  {
   "cell_type": "markdown",
   "id": "bff927bb",
   "metadata": {},
   "source": [
    "**PYTHON ASSIGNMENT**\n",
    "\n",
    "### Theoretical Questions"
   ]
  },
  {
   "cell_type": "markdown",
   "id": "34add32d",
   "metadata": {},
   "source": [
    "1. **What type of language is Python? Which language is Python built on?**\n",
    "\n",
    "\n",
    "2. **Is a docx file read in the same way as a txt file? Which ones are json files similar to?**\n",
    "\n",
    "\n",
    "3. **What is the difference between a list and a set?**\n",
    "\n",
    "\n",
    "4. **Which of the following if statements is a correct representation chained if statements? Multiple answers are allowed.**\n",
    "\n",
    "```\n",
    "var = True\n",
    "# OPTION A\n",
    "if var == True:\n",
    " print(\"var is True\")\n",
    "else:\n",
    "  print(\"var is False\")\n",
    "  \n",
    "# OPTION B\n",
    "if var:\n",
    " print(\"var is True\")\n",
    " \n",
    "# OPTION C\n",
    "if var:\n",
    " print(\"var is True\")\n",
    "else:\n",
    "  print(\"var is False\")\n",
    "  \n",
    "# OPTION D\n",
    "if var==True:\n",
    " print(\"var is True\")\n",
    "if var==False:\n",
    "  print(\"var is False\")\n",
    "  \n",
    "# OPTION E\n",
    "if var==True:\n",
    " print(\"var is True\")\n",
    "elif var==False:\n",
    "  print(\"var is False\")\n",
    "else:\n",
    "  print(\"var is another value\")\n",
    "```\n",
    "\n",
    "5. **What is an f string?**\n",
    "\n",
    "\n",
    "6. **What are the benefits of writing a function? List at least 2.**\n",
    "\n",
    "\n",
    "7. **What are some native words of Python? How can we identify them?**\n",
    "\n",
    "\n",
    "8. **What do we refer to a position of a list? Which value does the first position start with?**\n"
   ]
  },
  {
   "cell_type": "markdown",
   "id": "7fac8249",
   "metadata": {},
   "source": [
    "### Fill in the Blanks"
   ]
  },
  {
   "cell_type": "markdown",
   "id": "01d901bc",
   "metadata": {
    "ExecuteTime": {
     "end_time": "2022-09-23T20:43:09.301238Z",
     "start_time": "2022-09-23T20:43:09.291244Z"
    }
   },
   "source": [
    "#### Question 1\n",
    "\n",
    "Fill in the blanks\n",
    "Question 1\n",
    "Create 2 of each kind of the following variables:\n",
    "float\n",
    "string\n",
    "bool\n",
    "list\n",
    "dictionary\n",
    "dataframe\n",
    "Aim is to create a new variable of each kind, added up. Indicate which of the variables is not possible to add up\n",
    "```\n",
    "# example using integer\n",
    "int_1 = 5 \n",
    "int_2 = 5\n",
    "new_int = int_1 + int_2\n",
    "\n",
    "```"
   ]
  },
  {
   "cell_type": "code",
   "execution_count": null,
   "id": "96a203a0",
   "metadata": {},
   "outputs": [],
   "source": [
    "# Block of code to help with initial\n",
    "# complete for string\n",
    "str_1 =\n",
    "str_2 = \n",
    "new_str = \n",
    "\n",
    "# complete for float\n",
    "float_1 = \n",
    "float_2 = \n",
    "new_float = \n",
    "\n",
    "# complete for bool\n",
    "bool_1 = \n",
    "bool_2 = \n",
    "new_bool = \n",
    "\n",
    "# complete for list\n",
    "list_1 = \n",
    "list_2 = \n",
    "\n",
    "\n",
    "# complete for dictionary\n",
    "dict_1 = \n",
    "dict_2 = \n",
    "\n",
    "# complete for dataframe, idea is to have a single column where one df is added above the other one\n",
    "df_1 = pd.DataFrame({'a':[1,2,34523]})\n",
    "df_2 = pd.DataFrame({'a':[1,35,,325,5235]}) "
   ]
  },
  {
   "cell_type": "markdown",
   "id": "fb68f514",
   "metadata": {
    "ExecuteTime": {
     "end_time": "2022-09-23T20:44:40.449668Z",
     "start_time": "2022-09-23T20:44:40.445516Z"
    }
   },
   "source": [
    "#### Question 2\n",
    "\n",
    "##### List Manipulation\n",
    "Have the following list cleaned up where there is only one for for each different value.\n"
   ]
  },
  {
   "cell_type": "code",
   "execution_count": 3,
   "id": "8e10bb38",
   "metadata": {
    "ExecuteTime": {
     "end_time": "2022-09-25T22:06:39.026237Z",
     "start_time": "2022-09-25T22:06:38.984943Z"
    }
   },
   "outputs": [],
   "source": [
    "list_ = [1,2,3,4,1,2,3,4,2,2,5,5,6,6,7,7]\n"
   ]
  },
  {
   "cell_type": "markdown",
   "id": "8b11b9fe",
   "metadata": {},
   "source": [
    "##### Function creation\n",
    "Following what you did in 2.2.1, create a function where you provide a list and returned back a clean list."
   ]
  },
  {
   "cell_type": "code",
   "execution_count": null,
   "id": "6bcd5819",
   "metadata": {},
   "outputs": [],
   "source": [
    "list_ = [1,2,3,4,1,2,3,4,2,2,5,5,6,6,7,7]\n",
    "\n",
    "def clean_list(list_):\n",
    "    #\n",
    "    #\n",
    "    #\n",
    "    #\n",
    "    #\n",
    "    "
   ]
  },
  {
   "cell_type": "code",
   "execution_count": null,
   "id": "e09e3949",
   "metadata": {},
   "outputs": [],
   "source": [
    "new_list = clean_list(list_)\n",
    "print(new_list)"
   ]
  },
  {
   "cell_type": "markdown",
   "id": "1c66c98e",
   "metadata": {},
   "source": [
    "#### Question 3\n",
    "\n",
    "Create a function that takes two arguments, name and age, and print their value. \n",
    "\n",
    "e.g. of output\n",
    "\n",
    "``` \n",
    "print_name_age(\"Jacques\", 22)\n",
    "output: \"My name is Jacques and I am 22 years old.\n",
    "```"
   ]
  },
  {
   "cell_type": "code",
   "execution_count": 5,
   "id": "dd84e532",
   "metadata": {
    "ExecuteTime": {
     "end_time": "2022-09-25T22:23:52.475166Z",
     "start_time": "2022-09-25T22:23:52.460034Z"
    }
   },
   "outputs": [],
   "source": [
    "def print_name_age(name: str, age: int) -> str:\n",
    "    #\n",
    "    #\n",
    "    #\n",
    "    #\n",
    "    "
   ]
  },
  {
   "cell_type": "code",
   "execution_count": null,
   "id": "f56f7b65",
   "metadata": {},
   "outputs": [],
   "source": [
    "name = \"\"\n",
    "age = 0\n",
    "print_name_age(name, age)"
   ]
  },
  {
   "cell_type": "markdown",
   "id": "3c1132a3",
   "metadata": {},
   "source": [
    "#### Question 4\n",
    "\n",
    "\n",
    "Assume we are trying to access an index of a list that does not exist. \n",
    "\n",
    "```\n",
    "list_ = [1,2,3]\n",
    "list_[10]\n",
    "output: indexerror\n",
    "```\n",
    "\n",
    "\n",
    "What is a way to help manage the error when a value is selected when we do not mean it? Edit the block of code accordingly."
   ]
  },
  {
   "cell_type": "markdown",
   "id": "401b98ca",
   "metadata": {},
   "source": [
    "### Leet Code Questions\n",
    "\n",
    "Aim is to have 3 out of 8 completed from the list.\n",
    "\n",
    "1. https://leetcode.com/problems/running-sum-of-1d-array/\n",
    "\n",
    "\n",
    "2. https://leetcode.com/problems/defanging-an-ip-address/\n",
    "\n",
    "3. https://leetcode.com/problems/smallest-even-multiple/\n",
    "\n",
    "4. https://leetcode.com/problems/richest-customer-wealth/\n",
    "\n",
    "\n",
    "5. https://leetcode.com/problems/maximum-number-of-words-found-in-sentences/\n",
    "\n",
    "\n",
    "6. https://leetcode.com/problems/jewels-and-stones/\n",
    "\n",
    "\n",
    "7. https://leetcode.com/problems/to-lower-case/\n",
    "\n",
    "\n",
    "8. https://leetcode.com/problems/sort-the-people/"
   ]
  }
 ],
 "metadata": {
  "hide_input": false,
  "kernelspec": {
   "display_name": "Python 3 (ipykernel)",
   "language": "python",
   "name": "python3"
  },
  "language_info": {
   "codemirror_mode": {
    "name": "ipython",
    "version": 3
   },
   "file_extension": ".py",
   "mimetype": "text/x-python",
   "name": "python",
   "nbconvert_exporter": "python",
   "pygments_lexer": "ipython3",
   "version": "3.7.9"
  },
  "toc": {
   "base_numbering": 1,
   "nav_menu": {},
   "number_sections": true,
   "sideBar": true,
   "skip_h1_title": false,
   "title_cell": "Table of Contents",
   "title_sidebar": "Contents",
   "toc_cell": false,
   "toc_position": {},
   "toc_section_display": true,
   "toc_window_display": true
  },
  "varInspector": {
   "cols": {
    "lenName": 16,
    "lenType": 16,
    "lenVar": 40
   },
   "kernels_config": {
    "python": {
     "delete_cmd_postfix": "",
     "delete_cmd_prefix": "del ",
     "library": "var_list.py",
     "varRefreshCmd": "print(var_dic_list())"
    },
    "r": {
     "delete_cmd_postfix": ") ",
     "delete_cmd_prefix": "rm(",
     "library": "var_list.r",
     "varRefreshCmd": "cat(var_dic_list()) "
    }
   },
   "types_to_exclude": [
    "module",
    "function",
    "builtin_function_or_method",
    "instance",
    "_Feature"
   ],
   "window_display": false
  }
 },
 "nbformat": 4,
 "nbformat_minor": 5
}
