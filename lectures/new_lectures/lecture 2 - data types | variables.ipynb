{
 "cells": [
  {
   "cell_type": "markdown",
   "id": "aae9ff26",
   "metadata": {},
   "source": [
    "**Data Types**\n",
    "\n",
    "The data stored in memory can be of many types. We can store a :\n",
    "* number: an int and float representation of a number stored. e.g. 1 or 1.0\n",
    "* string: a continuous set of characters written within quotes. e.g. 'word'\n",
    "* list: items separated by commas enclosed with a square bracket. eg. ['1', 3, 'one']\n",
    "* set: \n",
    "* dictionary: a key, value pairing closed by curly brackets"
   ]
  },
  {
   "cell_type": "code",
   "execution_count": 1,
   "id": "0767d151",
   "metadata": {
    "ExecuteTime": {
     "end_time": "2022-08-23T22:36:39.368606Z",
     "start_time": "2022-08-23T22:36:39.346109Z"
    }
   },
   "outputs": [
    {
     "data": {
      "text/plain": [
       "int"
      ]
     },
     "execution_count": 1,
     "metadata": {},
     "output_type": "execute_result"
    }
   ],
   "source": [
    "type(1241252)"
   ]
  },
  {
   "cell_type": "code",
   "execution_count": 2,
   "id": "abb2d6a8",
   "metadata": {
    "ExecuteTime": {
     "end_time": "2022-08-23T22:36:40.623446Z",
     "start_time": "2022-08-23T22:36:40.615999Z"
    }
   },
   "outputs": [
    {
     "data": {
      "text/plain": [
       "float"
      ]
     },
     "execution_count": 2,
     "metadata": {},
     "output_type": "execute_result"
    }
   ],
   "source": [
    "type(1241252.4)"
   ]
  },
  {
   "cell_type": "code",
   "execution_count": 3,
   "id": "e1bc4bac",
   "metadata": {
    "ExecuteTime": {
     "end_time": "2022-08-23T22:36:41.769219Z",
     "start_time": "2022-08-23T22:36:41.760544Z"
    }
   },
   "outputs": [
    {
     "data": {
      "text/plain": [
       "str"
      ]
     },
     "execution_count": 3,
     "metadata": {},
     "output_type": "execute_result"
    }
   ],
   "source": [
    "type(\"text ryrsy\")"
   ]
  },
  {
   "cell_type": "code",
   "execution_count": 4,
   "id": "647ff4d1",
   "metadata": {
    "ExecuteTime": {
     "end_time": "2022-08-23T22:36:45.343623Z",
     "start_time": "2022-08-23T22:36:45.335980Z"
    }
   },
   "outputs": [
    {
     "data": {
      "text/plain": [
       "int"
      ]
     },
     "execution_count": 4,
     "metadata": {},
     "output_type": "execute_result"
    }
   ],
   "source": [
    "type(1+1)"
   ]
  },
  {
   "cell_type": "code",
   "execution_count": 5,
   "id": "51b14b15",
   "metadata": {
    "ExecuteTime": {
     "end_time": "2022-08-23T22:36:48.407870Z",
     "start_time": "2022-08-23T22:36:48.401130Z"
    }
   },
   "outputs": [
    {
     "data": {
      "text/plain": [
       "str"
      ]
     },
     "execution_count": 5,
     "metadata": {},
     "output_type": "execute_result"
    }
   ],
   "source": [
    "type(\"1+1\")"
   ]
  },
  {
   "cell_type": "markdown",
   "id": "61b7aaba",
   "metadata": {},
   "source": [
    "**Numerical Manipulation**\n",
    "\n",
    "- adding numbers\n",
    "\n",
    "- subtracting numbers\n",
    "\n",
    "- multiplying numbers\n",
    "\n",
    "- dividing numbers\n",
    "\n",
    "\n",
    "https://www.w3schools.com/python/gloss_python_arithmetic_operators.asp\n",
    "\n",
    "https://www.w3schools.com/python/gloss_python_comparison_operators.asp"
   ]
  },
  {
   "cell_type": "code",
   "execution_count": 14,
   "id": "e9b507af",
   "metadata": {
    "ExecuteTime": {
     "end_time": "2022-04-20T16:18:26.091057Z",
     "start_time": "2022-04-20T16:18:26.080646Z"
    }
   },
   "outputs": [
    {
     "name": "stdout",
     "output_type": "stream",
     "text": [
      "2\n",
      "3\n",
      "2.0\n",
      "24\n"
     ]
    }
   ],
   "source": [
    "print(1+1)\n",
    "\n",
    "print(5-2)\n",
    "\n",
    "print(6/3)\n",
    "\n",
    "print(8*3)"
   ]
  },
  {
   "cell_type": "code",
   "execution_count": 20,
   "id": "f4efd8b8",
   "metadata": {
    "ExecuteTime": {
     "end_time": "2022-04-20T16:21:50.483918Z",
     "start_time": "2022-04-20T16:21:50.477783Z"
    }
   },
   "outputs": [
    {
     "data": {
      "text/plain": [
       "1"
      ]
     },
     "execution_count": 20,
     "metadata": {},
     "output_type": "execute_result"
    }
   ],
   "source": [
    "9 % 2"
   ]
  },
  {
   "cell_type": "code",
   "execution_count": 21,
   "id": "c516555c",
   "metadata": {
    "ExecuteTime": {
     "end_time": "2022-04-20T16:22:21.139635Z",
     "start_time": "2022-04-20T16:22:21.130991Z"
    }
   },
   "outputs": [
    {
     "data": {
      "text/plain": [
       "81"
      ]
     },
     "execution_count": 21,
     "metadata": {},
     "output_type": "execute_result"
    }
   ],
   "source": [
    "9 ** 2"
   ]
  },
  {
   "cell_type": "markdown",
   "id": "7d6a0133",
   "metadata": {
    "ExecuteTime": {
     "end_time": "2022-04-20T09:33:09.378602Z",
     "start_time": "2022-04-20T09:33:09.359075Z"
    }
   },
   "source": [
    "**String Manipulation**\n",
    "\n",
    "- extracting a sub string from a string\n",
    "- capitalizing, lower casing, title case\n",
    "\n",
    "https://towardsdatascience.com/working-with-strings-in-python-a-cheat-sheet-e6f462e611f0"
   ]
  },
  {
   "cell_type": "code",
   "execution_count": 29,
   "id": "e84c1ae9",
   "metadata": {
    "ExecuteTime": {
     "end_time": "2022-04-20T16:29:51.291627Z",
     "start_time": "2022-04-20T16:29:51.284672Z"
    }
   },
   "outputs": [
    {
     "data": {
      "text/plain": [
       "'tdsfgsd gstdgs'"
      ]
     },
     "execution_count": 29,
     "metadata": {},
     "output_type": "execute_result"
    }
   ],
   "source": [
    "\"Tdsfgsd GSTdgs\".lower()"
   ]
  },
  {
   "cell_type": "code",
   "execution_count": 27,
   "id": "2ec28403",
   "metadata": {
    "ExecuteTime": {
     "end_time": "2022-04-20T16:29:23.852029Z",
     "start_time": "2022-04-20T16:29:23.844537Z"
    }
   },
   "outputs": [
    {
     "data": {
      "text/plain": [
       "'NBA'"
      ]
     },
     "execution_count": 27,
     "metadata": {},
     "output_type": "execute_result"
    }
   ],
   "source": [
    "'nba'.upper()"
   ]
  },
  {
   "cell_type": "code",
   "execution_count": 3,
   "id": "ec56e48f",
   "metadata": {
    "ExecuteTime": {
     "end_time": "2022-05-24T22:31:14.497132Z",
     "start_time": "2022-05-24T22:31:14.485337Z"
    }
   },
   "outputs": [
    {
     "data": {
      "text/plain": [
       "False"
      ]
     },
     "execution_count": 3,
     "metadata": {},
     "output_type": "execute_result"
    }
   ],
   "source": [
    "' nba ' =='nba'"
   ]
  },
  {
   "cell_type": "code",
   "execution_count": 4,
   "id": "7791e530",
   "metadata": {
    "ExecuteTime": {
     "end_time": "2022-05-24T22:31:23.292779Z",
     "start_time": "2022-05-24T22:31:23.285476Z"
    }
   },
   "outputs": [
    {
     "data": {
      "text/plain": [
       "True"
      ]
     },
     "execution_count": 4,
     "metadata": {},
     "output_type": "execute_result"
    }
   ],
   "source": [
    "' nba '.strip()=='nba'"
   ]
  },
  {
   "cell_type": "code",
   "execution_count": 2,
   "id": "2316e7c1",
   "metadata": {
    "ExecuteTime": {
     "end_time": "2022-05-24T22:30:17.305440Z",
     "start_time": "2022-05-24T22:30:17.293375Z"
    }
   },
   "outputs": [
    {
     "data": {
      "text/plain": [
       "2"
      ]
     },
     "execution_count": 2,
     "metadata": {},
     "output_type": "execute_result"
    }
   ],
   "source": [
    "\"This is this a sentence.\".upper().count(\"THIS\")"
   ]
  },
  {
   "cell_type": "markdown",
   "id": "fb7b5867",
   "metadata": {},
   "source": [
    "**Bool Manipulation**"
   ]
  },
  {
   "cell_type": "code",
   "execution_count": 41,
   "id": "8c4beb60",
   "metadata": {
    "ExecuteTime": {
     "end_time": "2022-04-20T16:38:29.256764Z",
     "start_time": "2022-04-20T16:38:29.248089Z"
    }
   },
   "outputs": [
    {
     "data": {
      "text/plain": [
       "True"
      ]
     },
     "execution_count": 41,
     "metadata": {},
     "output_type": "execute_result"
    }
   ],
   "source": [
    "True"
   ]
  },
  {
   "cell_type": "code",
   "execution_count": 40,
   "id": "af5296a5",
   "metadata": {
    "ExecuteTime": {
     "end_time": "2022-04-20T16:38:26.979295Z",
     "start_time": "2022-04-20T16:38:26.971158Z"
    }
   },
   "outputs": [
    {
     "data": {
      "text/plain": [
       "False"
      ]
     },
     "execution_count": 40,
     "metadata": {},
     "output_type": "execute_result"
    }
   ],
   "source": [
    "False"
   ]
  },
  {
   "cell_type": "markdown",
   "id": "f08db163",
   "metadata": {
    "ExecuteTime": {
     "end_time": "2022-04-20T09:35:08.486742Z",
     "start_time": "2022-04-20T09:35:08.477377Z"
    }
   },
   "source": [
    "**Variables**\n",
    "\n",
    "A reserved memory location to store values. You can think of it as a container and you store content within the container.\n",
    "\n",
    "The whole point of using variables is to make it easier to do certain manipulations with them. In the example below, we are able to see a simple string manipulation occurring:\n",
    "\n",
    "creating 2 string variables adding 2 string variables together to create a new string variable."
   ]
  },
  {
   "cell_type": "code",
   "execution_count": 44,
   "id": "f63d904c",
   "metadata": {
    "ExecuteTime": {
     "end_time": "2022-04-20T16:42:02.737612Z",
     "start_time": "2022-04-20T16:42:02.718683Z"
    }
   },
   "outputs": [
    {
     "data": {
      "text/plain": [
       "5.5"
      ]
     },
     "execution_count": 44,
     "metadata": {},
     "output_type": "execute_result"
    }
   ],
   "source": [
    "(((1*5) *40) + 20) /40"
   ]
  },
  {
   "cell_type": "code",
   "execution_count": 45,
   "id": "365901bf",
   "metadata": {
    "ExecuteTime": {
     "end_time": "2022-04-20T16:42:32.442220Z",
     "start_time": "2022-04-20T16:42:32.434341Z"
    }
   },
   "outputs": [
    {
     "data": {
      "text/plain": [
       "200.5"
      ]
     },
     "execution_count": 45,
     "metadata": {},
     "output_type": "execute_result"
    }
   ],
   "source": [
    "1*5 *40 + 20 /40"
   ]
  },
  {
   "cell_type": "code",
   "execution_count": 9,
   "id": "7adbc59c",
   "metadata": {
    "ExecuteTime": {
     "end_time": "2022-05-24T22:44:34.472687Z",
     "start_time": "2022-05-24T22:44:34.419447Z"
    }
   },
   "outputs": [
    {
     "name": "stdout",
     "output_type": "stream",
     "text": [
      "5\n",
      "200\n",
      "220\n",
      "5.5\n"
     ]
    }
   ],
   "source": [
    "first = 1 * 5\n",
    "print(first)\n",
    "second = first * 40\n",
    "print(second)\n",
    "third = second + 20\n",
    "print(third)\n",
    "fourth = third/40\n",
    "print(fourth)"
   ]
  },
  {
   "cell_type": "code",
   "execution_count": 7,
   "id": "77d2e24a",
   "metadata": {
    "ExecuteTime": {
     "end_time": "2022-05-04T16:20:33.491361Z",
     "start_time": "2022-05-04T16:20:33.484365Z"
    }
   },
   "outputs": [
    {
     "data": {
      "text/plain": [
       "'This is the first sentence. This is the second sentence.'"
      ]
     },
     "execution_count": 7,
     "metadata": {},
     "output_type": "execute_result"
    }
   ],
   "source": [
    "first_sentence = \"This is the first sentence.\"\n",
    "second_sentence = \"This is the second sentence.\"\n",
    "\n",
    "first_sentence + \" \" + second_sentence"
   ]
  },
  {
   "cell_type": "code",
   "execution_count": 59,
   "id": "9cbd5919",
   "metadata": {
    "ExecuteTime": {
     "end_time": "2022-04-20T16:55:45.193057Z",
     "start_time": "2022-04-20T16:55:45.184237Z"
    }
   },
   "outputs": [
    {
     "name": "stdout",
     "output_type": "stream",
     "text": [
      "This is the first sentence. This is the second sentence. write the rest of the content\n",
      "This is the first sentence. This is the second sentence. write the rest of the content\n",
      "This is the first sentence. This is the second sentence. write the rest of the content\n"
     ]
    }
   ],
   "source": [
    "# first year of coding\n",
    "print(first_sentence + \" \" + second_sentence + \" write the rest of the content\")\n",
    "\n",
    "# second year of coding\n",
    "print(\"{} {} write the rest of the content\".format(first_sentence, second_sentence))\n",
    "\n",
    "# fourth year of coding\n",
    "print(f\"{first_sentence} {second_sentence} write the rest of the content\")"
   ]
  },
  {
   "cell_type": "markdown",
   "id": "bb19ff7e",
   "metadata": {},
   "source": [
    "**List Manipulation**"
   ]
  },
  {
   "cell_type": "code",
   "execution_count": 10,
   "id": "1e987698",
   "metadata": {
    "ExecuteTime": {
     "end_time": "2022-05-24T22:44:37.629817Z",
     "start_time": "2022-05-24T22:44:37.612798Z"
    }
   },
   "outputs": [
    {
     "data": {
      "text/plain": [
       "220"
      ]
     },
     "execution_count": 10,
     "metadata": {},
     "output_type": "execute_result"
    }
   ],
   "source": [
    "numerical_list = [first,second,third,fourth]\n",
    "\n",
    "# selecting a specific position in a list by the index\n",
    "numerical_list[2]"
   ]
  },
  {
   "cell_type": "code",
   "execution_count": 21,
   "id": "34422bc9",
   "metadata": {
    "ExecuteTime": {
     "end_time": "2022-05-24T22:48:20.485089Z",
     "start_time": "2022-05-24T22:48:20.477676Z"
    }
   },
   "outputs": [
    {
     "data": {
      "text/plain": [
       "[5, 200]"
      ]
     },
     "execution_count": 21,
     "metadata": {},
     "output_type": "execute_result"
    }
   ],
   "source": [
    "# concept of slicing a list, where you select an x amount from a range within the list\n",
    "numerical_list[:2]"
   ]
  },
  {
   "cell_type": "code",
   "execution_count": 23,
   "id": "bb5dff8d",
   "metadata": {
    "ExecuteTime": {
     "end_time": "2022-05-24T22:48:44.552332Z",
     "start_time": "2022-05-24T22:48:44.542477Z"
    }
   },
   "outputs": [],
   "source": [
    "nhl_team_names = ['avalanche','bruins','canadiens']"
   ]
  },
  {
   "cell_type": "code",
   "execution_count": 10,
   "id": "beebde2b",
   "metadata": {
    "ExecuteTime": {
     "end_time": "2022-05-11T16:57:49.716045Z",
     "start_time": "2022-05-11T16:57:49.711073Z"
    }
   },
   "outputs": [],
   "source": [
    "nhl_team_names.remove('bruins')"
   ]
  },
  {
   "cell_type": "code",
   "execution_count": 26,
   "id": "7e790721",
   "metadata": {
    "ExecuteTime": {
     "end_time": "2022-05-24T22:49:09.026563Z",
     "start_time": "2022-05-24T22:49:09.021896Z"
    }
   },
   "outputs": [],
   "source": [
    "nhl_team_names.append('place1')"
   ]
  },
  {
   "cell_type": "code",
   "execution_count": 28,
   "id": "9d45c038",
   "metadata": {
    "ExecuteTime": {
     "end_time": "2022-05-24T22:49:36.268966Z",
     "start_time": "2022-05-24T22:49:36.260028Z"
    }
   },
   "outputs": [],
   "source": [
    "del nhl_team_names[1]"
   ]
  },
  {
   "cell_type": "code",
   "execution_count": 29,
   "id": "d5f14f06",
   "metadata": {
    "ExecuteTime": {
     "end_time": "2022-05-24T22:49:36.956904Z",
     "start_time": "2022-05-24T22:49:36.951135Z"
    }
   },
   "outputs": [
    {
     "data": {
      "text/plain": [
       "['place', 'bruins', 'canadiens', 'place1']"
      ]
     },
     "execution_count": 29,
     "metadata": {},
     "output_type": "execute_result"
    }
   ],
   "source": [
    "nhl_team_names"
   ]
  },
  {
   "cell_type": "markdown",
   "id": "2f50c026",
   "metadata": {},
   "source": [
    "**Dictionary Manipulation**"
   ]
  },
  {
   "cell_type": "code",
   "execution_count": null,
   "id": "225bb297",
   "metadata": {},
   "outputs": [],
   "source": [
    "['Peter',23,'Peter',30,'sister']"
   ]
  },
  {
   "cell_type": "code",
   "execution_count": 30,
   "id": "e88cd739",
   "metadata": {
    "ExecuteTime": {
     "end_time": "2022-05-24T22:58:08.769771Z",
     "start_time": "2022-05-24T22:58:08.737584Z"
    }
   },
   "outputs": [],
   "source": [
    "info_dict = {'name': 'Peter', 'age': 23,'contact_name':'Sandra','contact_relationship':'sister'}"
   ]
  },
  {
   "cell_type": "code",
   "execution_count": 32,
   "id": "5b26c5ed",
   "metadata": {
    "ExecuteTime": {
     "end_time": "2022-05-24T22:58:32.133101Z",
     "start_time": "2022-05-24T22:58:32.124871Z"
    }
   },
   "outputs": [],
   "source": [
    "first_name = info_dict.get('name')"
   ]
  },
  {
   "cell_type": "code",
   "execution_count": 34,
   "id": "14ba44f9",
   "metadata": {
    "ExecuteTime": {
     "end_time": "2022-05-24T22:59:09.784111Z",
     "start_time": "2022-05-24T22:59:09.777881Z"
    }
   },
   "outputs": [],
   "source": [
    "contact_name = info_dict.get('contact_name')"
   ]
  },
  {
   "cell_type": "code",
   "execution_count": 25,
   "id": "b878139d",
   "metadata": {
    "ExecuteTime": {
     "end_time": "2022-05-04T16:32:09.680612Z",
     "start_time": "2022-05-04T16:32:09.670842Z"
    }
   },
   "outputs": [],
   "source": [
    "dict_ = {\"colorado\":\"avalanche\",\n",
    "        \"boston\":\"bruin\",\n",
    "        \"montreal\":\"canadiens\"}"
   ]
  },
  {
   "cell_type": "code",
   "execution_count": 38,
   "id": "d90057b1",
   "metadata": {
    "ExecuteTime": {
     "end_time": "2022-05-24T23:00:41.026063Z",
     "start_time": "2022-05-24T23:00:41.020073Z"
    }
   },
   "outputs": [],
   "source": [
    "info_dict['colorado']"
   ]
  },
  {
   "cell_type": "code",
   "execution_count": 27,
   "id": "49abe03c",
   "metadata": {
    "ExecuteTime": {
     "end_time": "2022-05-04T16:34:37.515452Z",
     "start_time": "2022-05-04T16:34:37.507488Z"
    }
   },
   "outputs": [],
   "source": [
    "dict_ = {'numerical':1,\n",
    "        'string':'this is the sentence',\n",
    "        'list':['one','two','three'],\n",
    "        'dictionary':{'one':1},\n",
    "        'boolean':True}"
   ]
  },
  {
   "cell_type": "code",
   "execution_count": 28,
   "id": "dce0d61c",
   "metadata": {
    "ExecuteTime": {
     "end_time": "2022-05-04T16:34:44.967558Z",
     "start_time": "2022-05-04T16:34:44.961427Z"
    }
   },
   "outputs": [
    {
     "data": {
      "text/plain": [
       "1"
      ]
     },
     "execution_count": 28,
     "metadata": {},
     "output_type": "execute_result"
    }
   ],
   "source": [
    "dict_['numerical']"
   ]
  },
  {
   "cell_type": "code",
   "execution_count": 29,
   "id": "d57b4515",
   "metadata": {
    "ExecuteTime": {
     "end_time": "2022-05-04T16:34:50.362539Z",
     "start_time": "2022-05-04T16:34:50.353750Z"
    }
   },
   "outputs": [
    {
     "data": {
      "text/plain": [
       "True"
      ]
     },
     "execution_count": 29,
     "metadata": {},
     "output_type": "execute_result"
    }
   ],
   "source": [
    "dict_['boolean']"
   ]
  },
  {
   "cell_type": "code",
   "execution_count": null,
   "id": "3495ea8f",
   "metadata": {},
   "outputs": [],
   "source": []
  },
  {
   "cell_type": "code",
   "execution_count": 30,
   "id": "659a482e",
   "metadata": {
    "ExecuteTime": {
     "end_time": "2022-05-04T16:35:00.064140Z",
     "start_time": "2022-05-04T16:35:00.057310Z"
    }
   },
   "outputs": [
    {
     "data": {
      "text/plain": [
       "{'one': 1}"
      ]
     },
     "execution_count": 30,
     "metadata": {},
     "output_type": "execute_result"
    }
   ],
   "source": [
    "dict_['dictionary']"
   ]
  },
  {
   "cell_type": "markdown",
   "id": "52163ee6",
   "metadata": {},
   "source": [
    "**Exercies**\n",
    "\n",
    "https://www.w3schools.com/python/python_variables_exercises.asp\n",
    "\n",
    "Going through int, string, operators, list and dictionary exercises"
   ]
  },
  {
   "cell_type": "markdown",
   "id": "340d17bc",
   "metadata": {},
   "source": [
    "Insert the correct syntax to add a placeholder for the age parameter.\n",
    "\n",
    "\n",
    "age = 36\n",
    "\n",
    "txt = \"My name is John, and I am [ ]\"\n",
    "\n",
    "\n",
    "print(txt.format(age))"
   ]
  },
  {
   "cell_type": "code",
   "execution_count": null,
   "id": "9c7821ad",
   "metadata": {},
   "outputs": [],
   "source": []
  },
  {
   "cell_type": "markdown",
   "id": "40a06f10",
   "metadata": {},
   "source": [
    "Replace the character H with a J.\n",
    "\n",
    "\n",
    "txt = \"Hello World\"\n",
    "\n",
    "txt = txt.[]([], [])"
   ]
  },
  {
   "cell_type": "code",
   "execution_count": null,
   "id": "e084fd4f",
   "metadata": {},
   "outputs": [],
   "source": []
  }
 ],
 "metadata": {
  "hide_input": false,
  "kernelspec": {
   "display_name": "Python 3 (ipykernel)",
   "language": "python",
   "name": "python3"
  },
  "language_info": {
   "codemirror_mode": {
    "name": "ipython",
    "version": 3
   },
   "file_extension": ".py",
   "mimetype": "text/x-python",
   "name": "python",
   "nbconvert_exporter": "python",
   "pygments_lexer": "ipython3",
   "version": "3.7.9"
  },
  "toc": {
   "base_numbering": 1,
   "nav_menu": {},
   "number_sections": true,
   "sideBar": true,
   "skip_h1_title": false,
   "title_cell": "Table of Contents",
   "title_sidebar": "Contents",
   "toc_cell": false,
   "toc_position": {},
   "toc_section_display": true,
   "toc_window_display": false
  },
  "varInspector": {
   "cols": {
    "lenName": 16,
    "lenType": 16,
    "lenVar": 40
   },
   "kernels_config": {
    "python": {
     "delete_cmd_postfix": "",
     "delete_cmd_prefix": "del ",
     "library": "var_list.py",
     "varRefreshCmd": "print(var_dic_list())"
    },
    "r": {
     "delete_cmd_postfix": ") ",
     "delete_cmd_prefix": "rm(",
     "library": "var_list.r",
     "varRefreshCmd": "cat(var_dic_list()) "
    }
   },
   "types_to_exclude": [
    "module",
    "function",
    "builtin_function_or_method",
    "instance",
    "_Feature"
   ],
   "window_display": false
  }
 },
 "nbformat": 4,
 "nbformat_minor": 5
}
