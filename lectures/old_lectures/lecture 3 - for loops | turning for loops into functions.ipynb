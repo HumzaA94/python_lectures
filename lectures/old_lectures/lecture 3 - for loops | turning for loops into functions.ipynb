{
 "cells": [
  {
   "cell_type": "markdown",
   "id": "89c67970",
   "metadata": {},
   "source": [
    "###   for loops\n",
    "\n",
    "important concept when it comes to programming\n",
    "\n",
    "The concept overlaps over the Objected Oriented Programming languages, let it be Java, C++, JavaScript or Python. Understanding the following concept will allow you to do an important practice in a lot of powerful languages.\n",
    "\n",
    "The format is\n",
    "for n in list:\n",
    "    perform some type of operations around  the variable 'n'\n",
    "    \n",
    "\n",
    "\n",
    "The idea is that you are iterating over the list, starting by the first position in the list all the way to the end or if you have placed a manual stoppage within the for loop."
   ]
  },
  {
   "cell_type": "markdown",
   "id": "4ad55e98",
   "metadata": {},
   "source": [
    "e.g. of a `past beginners` for loop\n",
    "\n",
    "input of the code: user enters a value\n",
    "\n",
    "conditions:\n",
    "- value must be between 0 - 10\n",
    "\n",
    "output of the code: tell user which animal they are based on the number they enter\n",
    "\n",
    "user can put a value outside of 0-10\n",
    "user can put a value between 0-10\n",
    "user can put a value that is not a number"
   ]
  },
  {
   "cell_type": "code",
   "execution_count": 3,
   "id": "3553bde2",
   "metadata": {},
   "outputs": [
    {
     "name": "stdout",
     "output_type": "stream",
     "text": [
      "Please enter a value between 0-10: 20\n",
      "invalid user input, please enter something between 0-10\n",
      "invalid user input, please enter something between 0-10\n",
      "invalid user input, please enter something between 0-10\n",
      "invalid user input, please enter something between 0-10\n"
     ]
    }
   ],
   "source": [
    "user_input = input(\"Please enter a value between 0-10: \")\n",
    "\n",
    "user_input = int(user_input)\n",
    "\n",
    "# one way\n",
    "if (user_input <= 10) and (user_input>=0):\n",
    "    print(\"valid user input\")\n",
    "else:\n",
    "    print(\"invalid user input, please enter something between 0-10\")\n",
    "    \n",
    "    \n",
    "# second way\n",
    "if (user_input >10) or (user_input<0):\n",
    "    print(\"invalid user input, please enter something between 0-10\")\n",
    "else:\n",
    "    print(\"valid user input\")\n",
    "\n",
    "# third way\n",
    "if user_input <= 10:\n",
    "    if user_input >=0:\n",
    "        print(\"valid user input\")\n",
    "else:\n",
    "    print(\"invalid user input, please enter something between 0-10\")\n",
    "    \n",
    "# fourth way\n",
    "if 0 <= user_input <=10:\n",
    "    print(\"valid user input\")\n",
    "else:\n",
    "    print(\"invalid user input, please enter something between 0-10\")"
   ]
  },
  {
   "cell_type": "code",
   "execution_count": 5,
   "id": "7c9a00c3",
   "metadata": {
    "ExecuteTime": {
     "end_time": "2022-05-26T22:28:38.166241Z",
     "start_time": "2022-05-26T22:28:38.162335Z"
    }
   },
   "outputs": [],
   "source": [
    "player_names = ['Adam','john','Daniel','b','c','d']"
   ]
  },
  {
   "cell_type": "code",
   "execution_count": 8,
   "id": "0c6de09f",
   "metadata": {
    "ExecuteTime": {
     "end_time": "2022-05-26T22:33:02.313241Z",
     "start_time": "2022-05-26T22:33:02.304831Z"
    }
   },
   "outputs": [],
   "source": [
    "dict_ = {'a':1, 'b':2, 'c':3}"
   ]
  },
  {
   "cell_type": "code",
   "execution_count": 9,
   "id": "79cf5677",
   "metadata": {
    "ExecuteTime": {
     "end_time": "2022-05-26T22:33:26.217835Z",
     "start_time": "2022-05-26T22:33:26.209250Z"
    }
   },
   "outputs": [
    {
     "name": "stdout",
     "output_type": "stream",
     "text": [
      "a and 1\n",
      "b and 2\n",
      "c and 3\n"
     ]
    }
   ],
   "source": [
    "for key, value in dict_.items():\n",
    "    print(f\"{key} and {value}\")"
   ]
  },
  {
   "cell_type": "code",
   "execution_count": 7,
   "id": "f56e4bf8",
   "metadata": {
    "ExecuteTime": {
     "end_time": "2022-05-26T22:30:11.653431Z",
     "start_time": "2022-05-26T22:30:11.644932Z"
    }
   },
   "outputs": [
    {
     "name": "stdout",
     "output_type": "stream",
     "text": [
      "1\n",
      "Adam\n",
      "2\n",
      "john\n",
      "3\n",
      "Daniel\n",
      "We are reaching towards the limit\n",
      "4\n",
      "b\n",
      "We are reaching towards the limit\n",
      "5\n",
      "c\n"
     ]
    }
   ],
   "source": [
    "count = 0\n",
    "for player in player_names:\n",
    "    count+=1\n",
    "    print(count)\n",
    "    print(player)\n",
    "    if count == 5:\n",
    "        break\n",
    "    \n",
    "    if count < 3:\n",
    "        continue\n",
    "    print(\"We are reaching towards the limit\")"
   ]
  },
  {
   "cell_type": "markdown",
   "id": "8f68d5ac",
   "metadata": {},
   "source": [
    "## functions\n",
    "\n",
    "a function and with the function you define the parameter(s) needed along with the operations you want to do"
   ]
  },
  {
   "cell_type": "code",
   "execution_count": 18,
   "id": "d3cb3fb7",
   "metadata": {
    "ExecuteTime": {
     "end_time": "2022-05-26T22:46:36.915613Z",
     "start_time": "2022-05-26T22:46:36.909800Z"
    }
   },
   "outputs": [
    {
     "name": "stdout",
     "output_type": "stream",
     "text": [
      "can't do this operation due to it being an alphabet\n"
     ]
    }
   ],
   "source": [
    "\n",
    "try:\n",
    "    single_character = int(\"b\")\n",
    "except:\n",
    "    print(\"can't do this operation due to it being an alphabet\")"
   ]
  },
  {
   "cell_type": "code",
   "execution_count": 20,
   "id": "3d7694ff",
   "metadata": {
    "ExecuteTime": {
     "end_time": "2022-05-26T22:55:21.806169Z",
     "start_time": "2022-05-26T22:55:21.781905Z"
    }
   },
   "outputs": [
    {
     "name": "stdout",
     "output_type": "stream",
     "text": [
      "Country code provided does not exist, choose from the following list dict_keys(['canada', 'usa', 'pakistan', 'bahrain'])\n"
     ]
    }
   ],
   "source": [
    "def validate_correct_phone_number(country, phone_number):\n",
    "    country_code_mapping = {\"canada\":\"+1\",\n",
    "                           \"usa\":\"+1\",\n",
    "                           \"pakistan\":\"+92\",\n",
    "                           \"bahrain\":\"+973\"}\n",
    "    \n",
    "    country_code = country_code_mapping.get(country)\n",
    "    if not country_code:\n",
    "        countries = country_code_mapping.keys()\n",
    "        print(f\"Country code provided does not exist, choose from the following list {countries}\")\n",
    "        return None\n",
    "    \n",
    "    correct_number = \"\"\n",
    "    for single_character in phone_number:\n",
    "        # accessing characters one at a time -> same thing as user_input[0], user_input[1], etc.\n",
    "        # fetching characters that are only numbers\n",
    "        try:\n",
    "            single_character = int(single_character) #might crash here, the point of the try and except\n",
    "            single_character = str(single_character)\n",
    "            correct_number += single_character\n",
    "        except:\n",
    "            continue\n",
    "        \n",
    "        \n",
    "    # one way        \n",
    "    if len(correct_number)>10:\n",
    "        print(\"Phone number is too long\")\n",
    "    \n",
    "    elif len(correct_number)==10:\n",
    "        output_number = country_code + correct_number\n",
    "        print(\"Your number is \" + output_number)\n",
    "    else:\n",
    "        print(\"Phone number is too short\")\n",
    "        \n",
    "        \n",
    "    # second way\n",
    "    if len(correct_number)>10:\n",
    "        print(\"Phone number is too long\")\n",
    "    \n",
    "    if len(correct_number)==10:\n",
    "        output_number = country_code + correct_number\n",
    "        print(\"Your number is \" + output_number)\n",
    "        \n",
    "    if len(correct_number)<10:\n",
    "        print(\"Phone number is too short\")\n",
    "    \n",
    "    \n",
    "validate_correct_phone_number(\"rawsfsaf\", \"514-111-2222\")"
   ]
  },
  {
   "cell_type": "code",
   "execution_count": null,
   "id": "10d43ec9",
   "metadata": {},
   "outputs": [],
   "source": [
    "def validate_user_input(user_input):\n",
    "    dict_mapping = { 0:\"mouse\",\n",
    "                   1:\"dog\",\n",
    "                   2: \"cat\",\n",
    "                   3: \"horse\",\n",
    "                   5:\"lion\"}\n",
    "    \n",
    "    # this line of code is for validating that the user input is only numbers\n",
    "    try:\n",
    "        user_input = int(user_input)\n",
    "    except:\n",
    "        print(\"Please enter numbers only\")\n",
    "        user_input = input(\"Please enter a number only from 0-5: \")\n",
    "        user_input = int(user_input)\n",
    "\n",
    "    #these line of code is used for validating number is between 0 - 10\n",
    "    if 0 <= user_input <= 5:\n",
    "        animal = dict_mapping[user_input]\n",
    "        print(\"You're spirit animal is a \" + animal)\n",
    "    else:\n",
    "        print(\"invalid user input, please enter something between 0-5\")\n",
    "        \n",
    "validate_user_input(0)"
   ]
  }
 ],
 "metadata": {
  "kernelspec": {
   "display_name": "Python 3 (ipykernel)",
   "language": "python",
   "name": "python3"
  },
  "language_info": {
   "codemirror_mode": {
    "name": "ipython",
    "version": 3
   },
   "file_extension": ".py",
   "mimetype": "text/x-python",
   "name": "python",
   "nbconvert_exporter": "python",
   "pygments_lexer": "ipython3",
   "version": "3.7.9"
  },
  "toc": {
   "base_numbering": 1,
   "nav_menu": {},
   "number_sections": true,
   "sideBar": true,
   "skip_h1_title": false,
   "title_cell": "Table of Contents",
   "title_sidebar": "Contents",
   "toc_cell": false,
   "toc_position": {},
   "toc_section_display": true,
   "toc_window_display": false
  }
 },
 "nbformat": 4,
 "nbformat_minor": 5
}
