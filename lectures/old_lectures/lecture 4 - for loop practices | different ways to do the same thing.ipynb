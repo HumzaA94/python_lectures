{
 "cells": [
  {
   "cell_type": "markdown",
   "id": "e620eec3",
   "metadata": {},
   "source": [
    "## Random Exercises in regards to for loop\n",
    "\n",
    "Inspired by the following link:\n",
    "\n",
    "https://holypython.com/intermediate-python-exercises/exercise-8-python-for-loop/"
   ]
  },
  {
   "cell_type": "markdown",
   "id": "4f67a869",
   "metadata": {},
   "source": [
    "**Exercise 1**\n",
    "\n",
    "Write a for loop which print \"Hello!, \" plus each name in the list. i.e.: \"Hello!, Sam\""
   ]
  },
  {
   "cell_type": "code",
   "execution_count": 10,
   "id": "1c5828d7",
   "metadata": {},
   "outputs": [
    {
     "name": "stdout",
     "output_type": "stream",
     "text": [
      "Hello!,Sam\n",
      "Hello!,Lisa\n",
      "Hello!,Micha\n",
      "Hello!,Dave\n",
      "Hello!,Wyatt\n",
      "Hello!,Emma\n",
      "Hello!,Sage\n",
      "Hello!,Sam. How are you doing Sam?\n",
      "Hello!,Lisa. How are you doing Lisa?\n",
      "Hello!,Micha. How are you doing Micha?\n",
      "Hello!,Dave. How are you doing Dave?\n",
      "Hello!,Wyatt. How are you doing Wyatt?\n",
      "Hello!,Emma. How are you doing Emma?\n",
      "Hello!,Sage. How are you doing Sage?\n",
      "Hello!, Sam . How are you doing Sam\n",
      "Hello!, Lisa . How are you doing Lisa\n",
      "Hello!, Micha . How are you doing Micha\n",
      "Hello!, Dave . How are you doing Dave\n",
      "Hello!, Wyatt . How are you doing Wyatt\n",
      "Hello!, Emma . How are you doing Emma\n",
      "Hello!, Sage . How are you doing Sage\n",
      "Hello!, Sam. How are you doing Sam?\n",
      "Hello!, Lisa. How are you doing Lisa?\n",
      "Hello!, Micha. How are you doing Micha?\n",
      "Hello!, Dave. How are you doing Dave?\n",
      "Hello!, Wyatt. How are you doing Wyatt?\n",
      "Hello!, Emma. How are you doing Emma?\n",
      "Hello!, Sage. How are you doing Sage?\n"
     ]
    }
   ],
   "source": [
    "lst=[\"Sam\", \"Lisa\", \"Micha\", \"Dave\", \"Wyatt\", \"Emma\", \"Sage\"]\n",
    "#Type your code here.\n",
    "\n",
    "# one way\n",
    "for n in lst:\n",
    "    print(\"Hello!,\"+n)\n",
    "\n",
    "    \n",
    "# second way\n",
    "for n in lst:\n",
    "    string_var=\"Hello!,\"+ n +\". How are you doing \"+ n +\"?\"\n",
    "    print(string_var)\n",
    "\n",
    "# third way\n",
    "for n in lst:\n",
    "    print(\"Hello!, {} . How are you doing {}\".format(n, n))\n",
    "    \n",
    "\n",
    "# fourth way\n",
    "for n in lst:\n",
    "    print(f\"Hello!, {n}. How are you doing {n}?\")"
   ]
  },
  {
   "cell_type": "markdown",
   "id": "81f4a87b",
   "metadata": {},
   "source": [
    "**Exercise 2**\n",
    "\n",
    "Type a code inside the for loop so that counter variable named c is increased by one each time loop iterates. "
   ]
  },
  {
   "cell_type": "code",
   "execution_count": 21,
   "id": "401da94f",
   "metadata": {},
   "outputs": [
    {
     "name": "stdout",
     "output_type": "stream",
     "text": [
      "c: 1\n",
      "d: 1\n",
      "c: 2\n",
      "d: 2\n",
      "c: 3\n",
      "d: 3\n",
      "c: 4\n",
      "d: 4\n",
      "c: 5\n",
      "d: 5\n"
     ]
    }
   ],
   "source": [
    "str=\"Civil\"\n",
    "\n",
    "c=0\n",
    "d=0\n",
    "for i in str:\n",
    "#Type your answer here.    \n",
    "    c = c+1\n",
    "    \n",
    "    d += 1\n",
    "\n",
    "    print(f\"c: {c}\")\n",
    "    print(f\"d: {d}\")"
   ]
  },
  {
   "cell_type": "markdown",
   "id": "4993e581",
   "metadata": {},
   "source": [
    "In the same \n",
    "\n",
    "c = c +1 <=> c +=1\n",
    "\n",
    "c = c-1 <=> c-=1\n",
    "\n",
    "c = c*1 <=> c *= 1\n",
    "\n",
    "c = c/1 <=> c /= 1 <=> c = 1"
   ]
  },
  {
   "cell_type": "markdown",
   "id": "58d31a20",
   "metadata": {},
   "source": [
    "## dictionary for loops\n",
    "\n",
    "Important way to for loop over dictionary. The more complex and long, the faster you will want to loop over it."
   ]
  },
  {
   "cell_type": "markdown",
   "id": "ca1ccd02",
   "metadata": {},
   "source": [
    "**Exercise 3**\n",
    "\n",
    "Using for loop and if statement, append the value minus 1000 for each key to the new list if the value is above 1000. i.e.: if the value is 1500, 500 should be added to the new list."
   ]
  },
  {
   "cell_type": "code",
   "execution_count": 24,
   "id": "ecac5e03",
   "metadata": {},
   "outputs": [
    {
     "name": "stdout",
     "output_type": "stream",
     "text": [
      "lst1: [100, 1300, 50, 2200]\n",
      "lst2: [100, 1300, 50, 2200]\n"
     ]
    }
   ],
   "source": [
    "dict_={\"z1\":900, \"t1\": 1100, \"p1\": 2300, \"r1\": 1050, \"k1\": 3200, \"g1\": 400}\n",
    "\n",
    "# one way\n",
    "lst1=[]\n",
    "for key in dict_:\n",
    "    value = dict_[key]\n",
    "    if value > 1000:\n",
    "        lst1.append(value -1000)\n",
    "\n",
    "# second way\n",
    "lst2 = []\n",
    "for key, value in dict_.items():\n",
    "    if value >1000:\n",
    "        lst2.append(value-1000)\n",
    "        \n",
    "print(f\"lst1: {lst1}\")\n",
    "print(f\"lst2: {lst2}\")\n",
    "\n",
    "        \n"
   ]
  }
 ],
 "metadata": {
  "kernelspec": {
   "display_name": "Python 3 (ipykernel)",
   "language": "python",
   "name": "python3"
  },
  "language_info": {
   "codemirror_mode": {
    "name": "ipython",
    "version": 3
   },
   "file_extension": ".py",
   "mimetype": "text/x-python",
   "name": "python",
   "nbconvert_exporter": "python",
   "pygments_lexer": "ipython3",
   "version": "3.7.9"
  },
  "toc": {
   "base_numbering": 1,
   "nav_menu": {},
   "number_sections": true,
   "sideBar": true,
   "skip_h1_title": false,
   "title_cell": "Table of Contents",
   "title_sidebar": "Contents",
   "toc_cell": false,
   "toc_position": {},
   "toc_section_display": true,
   "toc_window_display": false
  }
 },
 "nbformat": 4,
 "nbformat_minor": 5
}
