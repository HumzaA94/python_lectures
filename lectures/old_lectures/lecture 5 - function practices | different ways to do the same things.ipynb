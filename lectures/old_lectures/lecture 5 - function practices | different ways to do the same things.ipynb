{
 "cells": [
  {
   "cell_type": "markdown",
   "id": "91ebf23d",
   "metadata": {},
   "source": [
    "## Random Exercises in regards to functions\n",
    "\n",
    "Inspired by the following link:\n",
    "\n",
    "https://pynative.com/python-functions-exercise-with-solutions/"
   ]
  },
  {
   "cell_type": "markdown",
   "id": "f27cced9",
   "metadata": {},
   "source": [
    "**Exercise 1**\n",
    "\n",
    "Write a program to create a function that takes two arguments, name and age, and print their value."
   ]
  },
  {
   "cell_type": "code",
   "execution_count": 17,
   "id": "86273e25",
   "metadata": {
    "ExecuteTime": {
     "end_time": "2022-06-02T23:08:24.849929Z",
     "start_time": "2022-06-02T23:08:24.846704Z"
    }
   },
   "outputs": [
    {
     "name": "stdout",
     "output_type": "stream",
     "text": [
      "yes\n",
      "no\n"
     ]
    }
   ],
   "source": [
    "list_ = 0\n",
    "if not list_:\n",
    "    print(\"yes\")\n",
    "    \n",
    "list_ = -1\n",
    "if list_:\n",
    "    print(\"no\")"
   ]
  },
  {
   "cell_type": "code",
   "execution_count": 9,
   "id": "cad12334",
   "metadata": {
    "ExecuteTime": {
     "end_time": "2022-06-02T23:04:56.371724Z",
     "start_time": "2022-06-02T23:04:56.368049Z"
    }
   },
   "outputs": [
    {
     "name": "stdout",
     "output_type": "stream",
     "text": [
      "Name is Humza and I am 20 years old.\n"
     ]
    }
   ],
   "source": [
    "def ask(name, age=None):\n",
    "    string_ = f\"Name is {name}\"\n",
    "    if age:\n",
    "        string_ = string_ + f\" and I am {age} years old.\"\n",
    "    print(string_)\n",
    "    \n",
    "ask(\"Humza\",20)"
   ]
  },
  {
   "cell_type": "markdown",
   "id": "0e186ee4",
   "metadata": {},
   "source": [
    "**Exercise 2**\n",
    "    \n",
    "Create a function with variable length of arguments\n",
    "Write a program to create function func1() to accept a variable length of arguments and print their value.\n",
    "\n",
    "Note: Create a function in such a way that we can pass any number of arguments to this function and the function should process them and display each argument’s value.\n",
    "\n",
    "\n",
    "Python concept\n",
    "*args, **kwargs https://www.programiz.com/python-programming/args-and-kwargs\n",
    "\n",
    "*args\n",
    "2 use cases:\n",
    "1. functions: allows us to declare a generic number of args. When using for function, it is reserved for parameters which require a value. e.g. def name_of_function(*args):\n",
    "2. Can be used for unpacking lists. common way to use it is when using a function, you can unpack the list as parameters.                         e.g. def name_of_function(*[one,two,three])"
   ]
  },
  {
   "cell_type": "code",
   "execution_count": 15,
   "id": "4425a0da",
   "metadata": {},
   "outputs": [
    {
     "name": "stdout",
     "output_type": "stream",
     "text": [
      "30\n",
      "40\n",
      "50\n",
      "70\n",
      "80\n",
      "90\n",
      "100\n",
      "120\n",
      "260\n",
      "test\n",
      "this too\n",
      "30\n",
      "40\n",
      "50\n",
      "70\n",
      "80\n",
      "90\n",
      "100\n",
      "120\n",
      "260\n",
      "test\n",
      "this too\n"
     ]
    }
   ],
   "source": [
    "def func1(*args):\n",
    "    for f in args:\n",
    "        print(f)\n",
    "        \n",
    "        \n",
    "func1(30,40,50,70,80,90,100,120,260,\"test\",\"this too\")\n",
    "\n",
    "\n",
    "list1 = [30,40,50,70,80,90,100,120,260,\"test\",\"this too\"]\n",
    "func1(*list1)"
   ]
  },
  {
   "cell_type": "markdown",
   "id": "952ceab7",
   "metadata": {},
   "source": [
    "**Exercise 3**\n",
    "\n",
    "Write a program that will accept 2 variables and calculate:\n",
    "- the addition value from a and b\n",
    "- the subtraction value from and b\n",
    "\n",
    "The return value must be an output print of the 2 values asked to calculate:\n",
    "e.g. \n",
    "\n",
    "def calculation(a, b):\n",
    "\n",
    "    # Your Code\n",
    "    \n",
    "res = calculation(a, b)\n",
    "\n",
    "print(res)\n",
    "\n",
    "output: 50, 30\n",
    "\n",
    "Can also display it as a message:\n",
    "\n",
    "Addition value: 50\n",
    "\n",
    "Subtraction value: 30\n",
    "\n",
    "Or \n",
    "\n",
    "40 + 10 = 50\n",
    "\n",
    "40 - 10 = 30"
   ]
  },
  {
   "cell_type": "code",
   "execution_count": 17,
   "id": "1edd1d0c",
   "metadata": {},
   "outputs": [],
   "source": [
    "def calculation(a, b):\n",
    "    # if a and b are actually ints \n",
    "    # clue for checking if number, use 'isinstance' function\n",
    "    # https://www.w3schools.com/python/ref_func_isinstance.asp\n",
    "    \n",
    "    plus = a + b\n",
    "    minus = a - b\n",
    "    multiplication = a * b\n",
    "    division = a * b\n",
    "    return plus, minus, multiplication, division\n",
    "\n",
    "plus, _, _, _ = calculation(30, 10)\n",
    "_, minus, _, _ = calculation(40, 2)"
   ]
  },
  {
   "cell_type": "markdown",
   "id": "0eed786d",
   "metadata": {},
   "source": [
    "**Exercise 4**\n",
    "\n",
    "Write a program that will have inputs:\n",
    "- person name -> non keyword argument\n",
    "- salary -> keyword argument with default value 90000\n",
    "\n",
    "\n",
    "The output should be a printed message of the name along with their salary."
   ]
  },
  {
   "cell_type": "code",
   "execution_count": 29,
   "id": "85989eb3",
   "metadata": {},
   "outputs": [
    {
     "name": "stdout",
     "output_type": "stream",
     "text": [
      "Name: Test\n",
      "Salary: 40000\n",
      "Name: Test\n",
      "Salary: 40000\n"
     ]
    }
   ],
   "source": [
    "def show_employee(name, salary=90000):\n",
    "    print(f\"Name: {name.title()}\")\n",
    "    print(f\"Salary: {salary}\")\n",
    "    \n",
    "    \n",
    "show_employee(\"test\", 40000)\n",
    "\n",
    "\n",
    "    \n",
    "def show_employee_1(name, salary=None):\n",
    "    \n",
    "    if not salary:\n",
    "        salary=90000\n",
    "        \n",
    "    print(f\"Name: {name.title()}\")\n",
    "    print(f\"Salary: {salary}\")\n",
    "    \n",
    "show_employee_1(\"test\", 40000)"
   ]
  },
  {
   "cell_type": "markdown",
   "id": "2d193f8c",
   "metadata": {},
   "source": [
    "**Exercise 5**\n",
    "\n",
    "outer function & inner function practice\n",
    "\n",
    "detailed explanation: https://realpython.com/inner-functions-what-are-they-good-for/\n",
    "\n",
    "simple explanation: https://www.geeksforgeeks.org/python-inner-functions/"
   ]
  },
  {
   "cell_type": "code",
   "execution_count": 33,
   "id": "f8212017",
   "metadata": {},
   "outputs": [
    {
     "data": {
      "text/plain": [
       "14"
      ]
     },
     "execution_count": 33,
     "metadata": {},
     "output_type": "execute_result"
    }
   ],
   "source": [
    "def main(a, b):\n",
    "    x = 0\n",
    "    y = 5\n",
    "    list_ = [a, b]\n",
    "    dict_ = {a:b}\n",
    "    \n",
    "    def addition(a, b):\n",
    "        return a + b\n",
    "    \n",
    "    add = addition(a, b)\n",
    "    return add + 5  \n",
    "\n",
    "main(4, 5)"
   ]
  },
  {
   "cell_type": "markdown",
   "id": "d227f843",
   "metadata": {},
   "source": [
    "**Exercise 8**\n",
    "\n",
    "Create a function that will have 2 input int variables.\n",
    "\n",
    "Output:\n",
    "return a list of even numbers between the 2 input int variables.\n",
    "\n",
    "def (a=4, b=30):\n",
    "    "
   ]
  },
  {
   "cell_type": "code",
   "execution_count": 50,
   "id": "141fbc1e",
   "metadata": {
    "scrolled": true
   },
   "outputs": [
    {
     "name": "stdout",
     "output_type": "stream",
     "text": [
      "[4, 6, 8, 10, 12, 14, 16, 18, 20, 22, 24, 26, 28]\n",
      "[2, 4, 6, 8, 10, 12, 14, 16, 18, 20, 22, 24, 26, 28, 30, 32, 34]\n"
     ]
    }
   ],
   "source": [
    "def get_even_numbers_list(a, b):\n",
    "    even_number_list = []\n",
    "    for number in range(a, b):\n",
    "        if number % 2 == 0:\n",
    "            even_number_list.append(number)        \n",
    "    return even_number_list\n",
    "\n",
    "print(get_even_numbers_list(4,30))\n",
    "\n",
    "def get_even_numbers_list_1(a, b):\n",
    "    if a%2 !=0:\n",
    "        a = a + 1  \n",
    "    if b%2 !=0:\n",
    "        b = b + 1\n",
    "    even_number_list = list(range(a, b, 2))\n",
    "    return even_number_list\n",
    "                            \n",
    "print(get_even_numbers_list_1(1,35))"
   ]
  },
  {
   "cell_type": "markdown",
   "id": "65a7f83f",
   "metadata": {},
   "source": [
    "**Exercise 9**\n",
    "\n",
    "Create a function that will take in a list.\n",
    "\n",
    "Output: return the largest value from the list\n",
    "\n"
   ]
  },
  {
   "cell_type": "code",
   "execution_count": 54,
   "id": "db39eef5",
   "metadata": {},
   "outputs": [
    {
     "name": "stdout",
     "output_type": "stream",
     "text": [
      "8765856\n",
      "-1\n",
      "8765856\n",
      "-1\n"
     ]
    }
   ],
   "source": [
    "def get_max_value(list_):\n",
    "    # https://www.tutorialspoint.com/python/list_max.htm\n",
    "    max_value = max(list_)\n",
    "    return max_value\n",
    "\n",
    "\n",
    "list_ = [1,2,57,8765856,123]\n",
    "negative_vals = [-1,-2,-7,-30]\n",
    "print(get_max_value(list_))\n",
    "print(get_max_value(negative_vals))\n",
    "\n",
    "\n",
    "def get_max_value_1(list_):\n",
    "    count = 0\n",
    "    for number in list_:\n",
    "        if count == 0:\n",
    "            max_val = number\n",
    "            count = 1\n",
    "            \n",
    "        if number > max_val:\n",
    "            max_val = number\n",
    "    return max_val  \n",
    "\n",
    "print(get_max_value_1(list_))\n",
    "print(get_max_value(negative_vals))\n",
    "\n",
    "\n",
    "            \n"
   ]
  },
  {
   "cell_type": "code",
   "execution_count": null,
   "id": "45cbb971",
   "metadata": {},
   "outputs": [],
   "source": []
  }
 ],
 "metadata": {
  "kernelspec": {
   "display_name": "Python 3 (ipykernel)",
   "language": "python",
   "name": "python3"
  },
  "language_info": {
   "codemirror_mode": {
    "name": "ipython",
    "version": 3
   },
   "file_extension": ".py",
   "mimetype": "text/x-python",
   "name": "python",
   "nbconvert_exporter": "python",
   "pygments_lexer": "ipython3",
   "version": "3.7.9"
  },
  "toc": {
   "base_numbering": 1,
   "nav_menu": {},
   "number_sections": true,
   "sideBar": true,
   "skip_h1_title": false,
   "title_cell": "Table of Contents",
   "title_sidebar": "Contents",
   "toc_cell": false,
   "toc_position": {},
   "toc_section_display": true,
   "toc_window_display": false
  }
 },
 "nbformat": 4,
 "nbformat_minor": 5
}
