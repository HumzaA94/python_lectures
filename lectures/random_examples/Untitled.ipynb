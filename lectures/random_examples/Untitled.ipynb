{
 "cells": [
  {
   "cell_type": "code",
   "execution_count": 18,
   "id": "336b74f0",
   "metadata": {
    "ExecuteTime": {
     "end_time": "2022-09-22T22:17:51.456395Z",
     "start_time": "2022-09-22T22:17:51.451554Z"
    }
   },
   "outputs": [],
   "source": [
    "import pandas as pd\n",
    "import numpy as np"
   ]
  },
  {
   "cell_type": "markdown",
   "id": "59f26980",
   "metadata": {},
   "source": [
    "Example of for looping over a dataframe, there are more than a single way to do so with the most common ones being `df.iterrows()` or `df.apply(lamba row: row['col'], axis=1)`\n",
    "\n",
    "Helpful references\n",
    "https://towardsdatascience.com/how-to-make-your-pandas-loop-71-803-times-faster-805030df4f06"
   ]
  },
  {
   "cell_type": "code",
   "execution_count": 81,
   "id": "f55c44f2",
   "metadata": {
    "ExecuteTime": {
     "end_time": "2022-09-22T23:24:21.221857Z",
     "start_time": "2022-09-22T23:24:20.772764Z"
    }
   },
   "outputs": [],
   "source": []
  },
  {
   "cell_type": "code",
   "execution_count": 33,
   "id": "ece5a507",
   "metadata": {
    "ExecuteTime": {
     "end_time": "2022-09-22T22:21:55.864789Z",
     "start_time": "2022-09-22T22:21:55.858154Z"
    }
   },
   "outputs": [],
   "source": [
    "try:\n",
    "    df['a'] = df['a'].astype(float)\n",
    "except:\n",
    "    print(\"column has corrupt values please clean up\")"
   ]
  },
  {
   "cell_type": "code",
   "execution_count": 34,
   "id": "2cda1b35",
   "metadata": {
    "ExecuteTime": {
     "end_time": "2022-09-22T22:21:56.286896Z",
     "start_time": "2022-09-22T22:21:56.271885Z"
    }
   },
   "outputs": [
    {
     "data": {
      "text/plain": [
       "1.0"
      ]
     },
     "execution_count": 34,
     "metadata": {},
     "output_type": "execute_result"
    }
   ],
   "source": [
    "df['a'][0]"
   ]
  },
  {
   "cell_type": "code",
   "execution_count": 4,
   "id": "3b83646e",
   "metadata": {
    "ExecuteTime": {
     "end_time": "2022-09-22T22:13:52.698609Z",
     "start_time": "2022-09-22T22:13:52.691970Z"
    }
   },
   "outputs": [
    {
     "data": {
      "text/plain": [
       "['nhl game 1']"
      ]
     },
     "execution_count": 4,
     "metadata": {},
     "output_type": "execute_result"
    }
   ],
   "source": [
    "\"nhl game 1\".split(\"2\")"
   ]
  },
  {
   "cell_type": "code",
   "execution_count": 54,
   "id": "0d95417d",
   "metadata": {
    "ExecuteTime": {
     "end_time": "2022-09-15T23:34:57.554861Z",
     "start_time": "2022-09-15T23:34:57.538030Z"
    }
   },
   "outputs": [
    {
     "name": "stdout",
     "output_type": "stream",
     "text": [
      "total values after prepping of information: \n",
      "['nhl', 'game', '1', 'nba', 'game', '2', 'nhl', 'game', '1', 'music', 'festival']\n",
      "\n",
      "top values in the sentences ['game', 'nhl', '1']\n"
     ]
    }
   ],
   "source": [
    "from collections import Counter\n",
    "\n",
    "a = \"nhl game 1\"\n",
    "b = \"nba game 2\"\n",
    "c = \"nhl game 1\"\n",
    "d = \"music festival\"\n",
    "\n",
    "main_list = a.split(\" \") + b.split(\" \") + c.split(\" \") + d.split(\" \")\n",
    "\n",
    "print(f\"total values after prepping of information: \\n{main_list}\\n\")\n",
    "\n",
    "list_counter = Counter(main_list)\n",
    "top_words = [val[0] for val in list_counter.most_common() if val[1] > 1]\n",
    "\n",
    "print(f\"top values in the sentences {top_words}\")\n",
    "\n"
   ]
  },
  {
   "cell_type": "code",
   "execution_count": 58,
   "id": "092c7931",
   "metadata": {
    "ExecuteTime": {
     "end_time": "2022-09-15T23:43:13.749039Z",
     "start_time": "2022-09-15T23:43:13.721845Z"
    }
   },
   "outputs": [
    {
     "name": "stdout",
     "output_type": "stream",
     "text": [
      "nhl game 1\n",
      "nba game 2\n",
      "nhl game 1\n",
      "music festival\n"
     ]
    },
    {
     "data": {
      "text/plain": [
       "['nba game 2', 'nhl game 1']"
      ]
     },
     "execution_count": 58,
     "metadata": {},
     "output_type": "execute_result"
    }
   ],
   "source": [
    "sentences_we_care_about_1 = []\n",
    "sentences_we_care_about_2 = []\n",
    "for sentence in [a, b, c, d]:\n",
    "    print(sentence)\n",
    "    \n",
    "    # one way of appending the value\n",
    "    if any(True if word in top_words else False for word in sentence.split(' ')):\n",
    "        sentences_we_care_about_1.append(sentence)\n",
    "        \n",
    "    # second way of doing it\n",
    "    # find out if the sentence has any top words\n",
    "    word_found = []\n",
    "    for word in sentence.split(' '):\n",
    "        if word in top_words:\n",
    "            word_found.append(True)\n",
    "        else:\n",
    "            word_found.append(False)\n",
    "\n",
    "    # determine from word_found if the sentence is indeed important\n",
    "    important_sentence=False\n",
    "    for val in word_found:\n",
    "        if val ==True:\n",
    "            important_sentence = True\n",
    "\n",
    "    if important_sentence == True:\n",
    "        sentences_we_care_about_2.append(sentence)\n",
    "\n",
    "sentences_we_care_about_1 == sentences_we_care_about_2\n",
    "\n",
    "list(set(sentences_we_care_about_1))"
   ]
  }
 ],
 "metadata": {
  "hide_input": false,
  "kernelspec": {
   "display_name": "Python 3 (ipykernel)",
   "language": "python",
   "name": "python3"
  },
  "language_info": {
   "codemirror_mode": {
    "name": "ipython",
    "version": 3
   },
   "file_extension": ".py",
   "mimetype": "text/x-python",
   "name": "python",
   "nbconvert_exporter": "python",
   "pygments_lexer": "ipython3",
   "version": "3.7.9"
  },
  "toc": {
   "base_numbering": 1,
   "nav_menu": {},
   "number_sections": true,
   "sideBar": true,
   "skip_h1_title": false,
   "title_cell": "Table of Contents",
   "title_sidebar": "Contents",
   "toc_cell": false,
   "toc_position": {},
   "toc_section_display": true,
   "toc_window_display": false
  },
  "varInspector": {
   "cols": {
    "lenName": 16,
    "lenType": 16,
    "lenVar": 40
   },
   "kernels_config": {
    "python": {
     "delete_cmd_postfix": "",
     "delete_cmd_prefix": "del ",
     "library": "var_list.py",
     "varRefreshCmd": "print(var_dic_list())"
    },
    "r": {
     "delete_cmd_postfix": ") ",
     "delete_cmd_prefix": "rm(",
     "library": "var_list.r",
     "varRefreshCmd": "cat(var_dic_list()) "
    }
   },
   "types_to_exclude": [
    "module",
    "function",
    "builtin_function_or_method",
    "instance",
    "_Feature"
   ],
   "window_display": false
  }
 },
 "nbformat": 4,
 "nbformat_minor": 5
}
