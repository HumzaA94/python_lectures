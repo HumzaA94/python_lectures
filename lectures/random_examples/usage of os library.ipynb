{
 "cells": [
  {
   "cell_type": "code",
   "execution_count": 8,
   "id": "96335219",
   "metadata": {
    "ExecuteTime": {
     "end_time": "2022-09-06T23:18:20.978165Z",
     "start_time": "2022-09-06T23:18:20.972930Z"
    }
   },
   "outputs": [],
   "source": [
    "import os\n",
    "import time"
   ]
  },
  {
   "cell_type": "code",
   "execution_count": 2,
   "id": "2188b107",
   "metadata": {
    "ExecuteTime": {
     "end_time": "2022-09-06T23:11:43.211686Z",
     "start_time": "2022-09-06T23:11:43.188215Z"
    }
   },
   "outputs": [
    {
     "data": {
      "text/plain": [
       "'/Users/humzaahmed/Desktop/coding_content/python_lectures/lectures/random_examples'"
      ]
     },
     "execution_count": 2,
     "metadata": {},
     "output_type": "execute_result"
    }
   ],
   "source": [
    "# gets a path\n",
    "os.getcwd()"
   ]
  },
  {
   "cell_type": "code",
   "execution_count": 9,
   "id": "de5a4ded",
   "metadata": {
    "ExecuteTime": {
     "end_time": "2022-09-06T23:19:02.496504Z",
     "start_time": "2022-09-06T23:18:32.480756Z"
    }
   },
   "outputs": [
    {
     "name": "stdout",
     "output_type": "stream",
     "text": [
      "List of folders before deletion: ['usage of os library.ipynb', 'test', 'random_choice_generator.py', '.ipynb_checkpoints']\n",
      "List of folders after deletion: ['usage of os library.ipynb', 'random_choice_generator.py', '.ipynb_checkpoints']\n",
      "List of folders after creation: ['usage of os library.ipynb', 'test', 'random_choice_generator.py', '.ipynb_checkpoints']\n"
     ]
    }
   ],
   "source": [
    "# creates a folder\n",
    "try:\n",
    "    os.mkdir(\"test\")\n",
    "except FileExistsError as exc:\n",
    "    print(f\"List of folders before deletion: {os.listdir()}\")\n",
    "    os.rmdir(\"test\")\n",
    "    print(f\"List of folders after deletion: {os.listdir()}\")\n",
    "    time.sleep(30)\n",
    "    os.mkdir(\"test\")\n",
    "    print(f\"List of folders after creation: {os.listdir()}\")\n"
   ]
  },
  {
   "cell_type": "code",
   "execution_count": 5,
   "id": "290a728f",
   "metadata": {
    "ExecuteTime": {
     "end_time": "2022-09-06T23:14:22.053018Z",
     "start_time": "2022-09-06T23:14:22.043854Z"
    }
   },
   "outputs": [
    {
     "data": {
      "text/plain": [
       "['usage of os library.ipynb',\n",
       " 'test',\n",
       " 'random_choice_generator.py',\n",
       " '.ipynb_checkpoints']"
      ]
     },
     "execution_count": 5,
     "metadata": {},
     "output_type": "execute_result"
    }
   ],
   "source": [
    "# gets list of items within folder path\n",
    "os.listdir()"
   ]
  },
  {
   "cell_type": "code",
   "execution_count": null,
   "id": "9f34be6f",
   "metadata": {},
   "outputs": [],
   "source": []
  }
 ],
 "metadata": {
  "hide_input": false,
  "kernelspec": {
   "display_name": "Python 3 (ipykernel)",
   "language": "python",
   "name": "python3"
  },
  "language_info": {
   "codemirror_mode": {
    "name": "ipython",
    "version": 3
   },
   "file_extension": ".py",
   "mimetype": "text/x-python",
   "name": "python",
   "nbconvert_exporter": "python",
   "pygments_lexer": "ipython3",
   "version": "3.7.9"
  },
  "toc": {
   "base_numbering": 1,
   "nav_menu": {},
   "number_sections": true,
   "sideBar": true,
   "skip_h1_title": false,
   "title_cell": "Table of Contents",
   "title_sidebar": "Contents",
   "toc_cell": false,
   "toc_position": {},
   "toc_section_display": true,
   "toc_window_display": false
  },
  "varInspector": {
   "cols": {
    "lenName": 16,
    "lenType": 16,
    "lenVar": 40
   },
   "kernels_config": {
    "python": {
     "delete_cmd_postfix": "",
     "delete_cmd_prefix": "del ",
     "library": "var_list.py",
     "varRefreshCmd": "print(var_dic_list())"
    },
    "r": {
     "delete_cmd_postfix": ") ",
     "delete_cmd_prefix": "rm(",
     "library": "var_list.r",
     "varRefreshCmd": "cat(var_dic_list()) "
    }
   },
   "types_to_exclude": [
    "module",
    "function",
    "builtin_function_or_method",
    "instance",
    "_Feature"
   ],
   "window_display": false
  }
 },
 "nbformat": 4,
 "nbformat_minor": 5
}
